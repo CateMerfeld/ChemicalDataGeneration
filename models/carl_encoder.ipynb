{
 "cells": [
  {
   "cell_type": "code",
   "execution_count": 1,
   "metadata": {
    "execution": {
     "iopub.execute_input": "2025-02-04T20:41:43.295517Z",
     "iopub.status.busy": "2025-02-04T20:41:43.294611Z",
     "iopub.status.idle": "2025-02-04T20:41:48.014560Z",
     "shell.execute_reply": "2025-02-04T20:41:48.013746Z"
    }
   },
   "outputs": [],
   "source": [
    "import pandas as pd\n",
    "import matplotlib.pyplot as plt\n",
    "import numpy as np\n",
    "\n",
    "import torch\n",
    "import torch.nn as nn\n",
    "from torch.utils.data import DataLoader, TensorDataset\n",
    "\n",
    "import wandb\n",
    "import os\n",
    "from sklearn.decomposition import PCA\n",
    "import itertools\n",
    "\n",
    "from collections import Counter"
   ]
  },
  {
   "cell_type": "code",
   "execution_count": 2,
   "metadata": {
    "execution": {
     "iopub.execute_input": "2025-02-04T20:41:48.019561Z",
     "iopub.status.busy": "2025-02-04T20:41:48.019093Z",
     "iopub.status.idle": "2025-02-04T20:41:48.367939Z",
     "shell.execute_reply": "2025-02-04T20:41:48.367412Z"
    }
   },
   "outputs": [
    {
     "data": {
      "text/plain": [
       "<module 'functions' from '/home/cmdunham/ChemicalDataGeneration/models/functions.py'>"
      ]
     },
     "execution_count": 2,
     "metadata": {},
     "output_type": "execute_result"
    }
   ],
   "source": [
    "import importlib\n",
    "import functions as f\n",
    "# Reload the functions module after updates\n",
    "importlib.reload(f)"
   ]
  },
  {
   "cell_type": "markdown",
   "metadata": {},
   "source": [
    "# Loading Data:\n",
    "---"
   ]
  },
  {
   "cell_type": "code",
   "execution_count": 3,
   "metadata": {
    "execution": {
     "iopub.execute_input": "2025-02-04T20:41:48.404260Z",
     "iopub.status.busy": "2025-02-04T20:41:48.403367Z",
     "iopub.status.idle": "2025-02-04T20:41:54.917431Z",
     "shell.execute_reply": "2025-02-04T20:41:54.915860Z"
    }
   },
   "outputs": [],
   "source": [
    "# file_path = '../data/carls/train_carls.feather'\n",
    "file_path = '../data/carls/train_carls_one_per_spec.feather'\n",
    "train_carls = pd.read_feather(file_path)\n",
    "train_carls = train_carls.drop(columns=['level_0'])\n",
    "\n",
    "# # file_path = '../data/carls/val_carls.feather'\n",
    "file_path = '../data/carls/val_carls_one_per_spec.feather'\n",
    "val_carls = pd.read_feather(file_path)\n",
    "val_carls = val_carls.drop(columns=['level_0'])\n",
    "\n",
    "# # file_path = '../data/carls/test_carls.feather'\n",
    "file_path = '../data/carls/test_carls_one_per_spec.feather'\n",
    "test_carls = pd.read_feather(file_path)\n",
    "test_carls = test_carls.drop(columns=['level_0'])"
   ]
  },
  {
   "cell_type": "code",
   "execution_count": 4,
   "metadata": {
    "execution": {
     "iopub.execute_input": "2025-02-04T20:41:54.921617Z",
     "iopub.status.busy": "2025-02-04T20:41:54.921333Z",
     "iopub.status.idle": "2025-02-04T20:41:54.925084Z",
     "shell.execute_reply": "2025-02-04T20:41:54.924401Z"
    }
   },
   "outputs": [],
   "source": [
    "# file_path = '../data/MoNA_embeddings_multiple_instrument_types.csv'\n",
    "# mass_spec_embeddings = pd.read_csv(file_path)\n",
    "# mass_spec_embeddings = mass_spec_embeddings.rename(columns={\n",
    "#     'METHYL PROPIONATE': 'Methyl Propionate', 'DIETHYL MALEATE':'Diethyl Maleate'\n",
    "#     })\n",
    "\n",
    "# file_path = '../data/mass_spec_encoder_output.csv'\n",
    "# mass_spec_encoder_generated_embeddings = pd.read_csv(file_path)"
   ]
  },
  {
   "cell_type": "code",
   "execution_count": 5,
   "metadata": {
    "execution": {
     "iopub.execute_input": "2025-02-04T20:41:54.927705Z",
     "iopub.status.busy": "2025-02-04T20:41:54.927385Z",
     "iopub.status.idle": "2025-02-04T20:41:54.946612Z",
     "shell.execute_reply": "2025-02-04T20:41:54.946196Z"
    }
   },
   "outputs": [
    {
     "data": {
      "text/html": [
       "<div>\n",
       "<style scoped>\n",
       "    .dataframe tbody tr th:only-of-type {\n",
       "        vertical-align: middle;\n",
       "    }\n",
       "\n",
       "    .dataframe tbody tr th {\n",
       "        vertical-align: top;\n",
       "    }\n",
       "\n",
       "    .dataframe thead th {\n",
       "        text-align: right;\n",
       "    }\n",
       "</style>\n",
       "<table border=\"1\" class=\"dataframe\">\n",
       "  <thead>\n",
       "    <tr style=\"text-align: right;\">\n",
       "      <th></th>\n",
       "      <th>Name</th>\n",
       "      <th>SMILES</th>\n",
       "      <th>embedding</th>\n",
       "    </tr>\n",
       "    <tr>\n",
       "      <th>Unnamed: 0</th>\n",
       "      <th></th>\n",
       "      <th></th>\n",
       "      <th></th>\n",
       "    </tr>\n",
       "  </thead>\n",
       "  <tbody>\n",
       "    <tr>\n",
       "      <th>BKG</th>\n",
       "      <td>Background</td>\n",
       "      <td>NaN</td>\n",
       "      <td>NaN</td>\n",
       "    </tr>\n",
       "    <tr>\n",
       "      <th>DEM</th>\n",
       "      <td>Diethyl Malonate</td>\n",
       "      <td>CCOC(=O)CC(=O)OCC</td>\n",
       "      <td>[0.3809719, 0.0005454039, 0.25539753, -0.24272...</td>\n",
       "    </tr>\n",
       "    <tr>\n",
       "      <th>DEB</th>\n",
       "      <td>1,2,3,4-Diepoxybutane</td>\n",
       "      <td>C1C(O1)C2CO2</td>\n",
       "      <td>[0.06318759, 0.009022221, 0.42160067, 0.195722...</td>\n",
       "    </tr>\n",
       "    <tr>\n",
       "      <th>MES</th>\n",
       "      <td>2-(N-morpholino)ethanesulfonic acid</td>\n",
       "      <td>C1COCCN1CCS(=O)(=O)O</td>\n",
       "      <td>[-0.32520813, 0.009838342, -0.15108328, 0.2845...</td>\n",
       "    </tr>\n",
       "    <tr>\n",
       "      <th>DMMP</th>\n",
       "      <td>Dimethyl methylphosphonate</td>\n",
       "      <td>COP(=O)(C)OC</td>\n",
       "      <td>[0.12106821, 0.0029424396, -0.14450483, 0.0726...</td>\n",
       "    </tr>\n",
       "  </tbody>\n",
       "</table>\n",
       "</div>"
      ],
      "text/plain": [
       "                                           Name                SMILES  \\\n",
       "Unnamed: 0                                                              \n",
       "BKG                                  Background                   NaN   \n",
       "DEM                            Diethyl Malonate     CCOC(=O)CC(=O)OCC   \n",
       "DEB                       1,2,3,4-Diepoxybutane          C1C(O1)C2CO2   \n",
       "MES         2-(N-morpholino)ethanesulfonic acid  C1COCCN1CCS(=O)(=O)O   \n",
       "DMMP                 Dimethyl methylphosphonate          COP(=O)(C)OC   \n",
       "\n",
       "                                                    embedding  \n",
       "Unnamed: 0                                                     \n",
       "BKG                                                       NaN  \n",
       "DEM         [0.3809719, 0.0005454039, 0.25539753, -0.24272...  \n",
       "DEB         [0.06318759, 0.009022221, 0.42160067, 0.195722...  \n",
       "MES         [-0.32520813, 0.009838342, -0.15108328, 0.2845...  \n",
       "DMMP        [0.12106821, 0.0029424396, -0.14450483, 0.0726...  "
      ]
     },
     "execution_count": 5,
     "metadata": {},
     "output_type": "execute_result"
    }
   ],
   "source": [
    "file_path = '../data/name_smiles_embedding_file.csv'\n",
    "name_smiles_embedding_df = pd.read_csv(file_path)\n",
    "\n",
    "# set the df index to be the chemical abbreviations in col 'Unnamed: 0'\n",
    "name_smiles_embedding_df.set_index('Unnamed: 0', inplace=True)\n",
    "name_smiles_embedding_df.head()"
   ]
  },
  {
   "cell_type": "code",
   "execution_count": 6,
   "metadata": {
    "execution": {
     "iopub.execute_input": "2025-02-04T20:41:54.948691Z",
     "iopub.status.busy": "2025-02-04T20:41:54.948532Z",
     "iopub.status.idle": "2025-02-04T20:41:54.964393Z",
     "shell.execute_reply": "2025-02-04T20:41:54.963974Z"
    }
   },
   "outputs": [
    {
     "data": {
      "text/html": [
       "<div>\n",
       "<style scoped>\n",
       "    .dataframe tbody tr th:only-of-type {\n",
       "        vertical-align: middle;\n",
       "    }\n",
       "\n",
       "    .dataframe tbody tr th {\n",
       "        vertical-align: top;\n",
       "    }\n",
       "\n",
       "    .dataframe thead th {\n",
       "        text-align: right;\n",
       "    }\n",
       "</style>\n",
       "<table border=\"1\" class=\"dataframe\">\n",
       "  <thead>\n",
       "    <tr style=\"text-align: right;\">\n",
       "      <th></th>\n",
       "      <th>SMILES</th>\n",
       "      <th>embedding</th>\n",
       "      <th>Name</th>\n",
       "    </tr>\n",
       "    <tr>\n",
       "      <th>Unnamed: 0</th>\n",
       "      <th></th>\n",
       "      <th></th>\n",
       "      <th></th>\n",
       "    </tr>\n",
       "  </thead>\n",
       "  <tbody>\n",
       "    <tr>\n",
       "      <th>(5R,11R)-5,11-Dimethylpentacosane</th>\n",
       "      <td>CCCCCCCCCCCCCCC(C)CCCCCC(C)CCCC</td>\n",
       "      <td>[-0.048933726, 0.0017029907, -0.272093, -0.369...</td>\n",
       "      <td>(5R,11R)-5,11-Dimethylpentacosane</td>\n",
       "    </tr>\n",
       "    <tr>\n",
       "      <th>1,3-Diaminopropane</th>\n",
       "      <td>C(CN)CN</td>\n",
       "      <td>[-0.22048391, -0.0011410714, 0.06557533, 0.193...</td>\n",
       "      <td>1,3-Diaminopropane</td>\n",
       "    </tr>\n",
       "    <tr>\n",
       "      <th>1,4-Butanediamine</th>\n",
       "      <td>C(CCN)CN</td>\n",
       "      <td>[-0.21609126, -0.0005372154, 0.24562673, 0.293...</td>\n",
       "      <td>1,4-Butanediamine</td>\n",
       "    </tr>\n",
       "    <tr>\n",
       "      <th>1-Hexanol</th>\n",
       "      <td>CCCCCCO</td>\n",
       "      <td>[-0.23157702, 0.0011296304, 0.21073784, -0.179...</td>\n",
       "      <td>1-Hexanol</td>\n",
       "    </tr>\n",
       "    <tr>\n",
       "      <th>1-Octanol</th>\n",
       "      <td>CCCCCCCCO</td>\n",
       "      <td>[-0.2599937, 0.0021180445, 0.109357715, -0.293...</td>\n",
       "      <td>1-Octanol</td>\n",
       "    </tr>\n",
       "  </tbody>\n",
       "</table>\n",
       "</div>"
      ],
      "text/plain": [
       "                                                            SMILES  \\\n",
       "Unnamed: 0                                                           \n",
       "(5R,11R)-5,11-Dimethylpentacosane  CCCCCCCCCCCCCCC(C)CCCCCC(C)CCCC   \n",
       "1,3-Diaminopropane                                         C(CN)CN   \n",
       "1,4-Butanediamine                                         C(CCN)CN   \n",
       "1-Hexanol                                                  CCCCCCO   \n",
       "1-Octanol                                                CCCCCCCCO   \n",
       "\n",
       "                                                                           embedding  \\\n",
       "Unnamed: 0                                                                             \n",
       "(5R,11R)-5,11-Dimethylpentacosane  [-0.048933726, 0.0017029907, -0.272093, -0.369...   \n",
       "1,3-Diaminopropane                 [-0.22048391, -0.0011410714, 0.06557533, 0.193...   \n",
       "1,4-Butanediamine                  [-0.21609126, -0.0005372154, 0.24562673, 0.293...   \n",
       "1-Hexanol                          [-0.23157702, 0.0011296304, 0.21073784, -0.179...   \n",
       "1-Octanol                          [-0.2599937, 0.0021180445, 0.109357715, -0.293...   \n",
       "\n",
       "                                                                Name  \n",
       "Unnamed: 0                                                            \n",
       "(5R,11R)-5,11-Dimethylpentacosane  (5R,11R)-5,11-Dimethylpentacosane  \n",
       "1,3-Diaminopropane                                1,3-Diaminopropane  \n",
       "1,4-Butanediamine                                  1,4-Butanediamine  \n",
       "1-Hexanol                                                  1-Hexanol  \n",
       "1-Octanol                                                  1-Octanol  "
      ]
     },
     "execution_count": 6,
     "metadata": {},
     "output_type": "execute_result"
    }
   ],
   "source": [
    "# file_path = '../data/mass_spec_data_for_kevin_steven.csv'\n",
    "# mass_spec_encoder_generated_embeddings = pd.read_csv(file_path)\n",
    "\n",
    "file_path = '../data/mass_spec_name_smiles_embedding_file.csv'\n",
    "mass_spec_name_smiles_embedding_df = pd.read_csv(file_path)\n",
    "\n",
    "# set the df index to be the chemical abbreviations in col 'Unnamed: 0'\n",
    "mass_spec_name_smiles_embedding_df.set_index('Unnamed: 0', inplace=True)\n",
    "mass_spec_name_smiles_embedding_df.head()"
   ]
  },
  {
   "cell_type": "code",
   "execution_count": 7,
   "metadata": {
    "execution": {
     "iopub.execute_input": "2025-02-04T20:41:54.967258Z",
     "iopub.status.busy": "2025-02-04T20:41:54.966985Z",
     "iopub.status.idle": "2025-02-04T20:41:54.973958Z",
     "shell.execute_reply": "2025-02-04T20:41:54.973408Z"
    }
   },
   "outputs": [],
   "source": [
    "embedding_floats = []\n",
    "for chem_name in name_smiles_embedding_df.index:\n",
    "    if chem_name == 'BKG':\n",
    "        embedding_floats.append(None)\n",
    "    else:\n",
    "        embedding_float = name_smiles_embedding_df['embedding'][chem_name].split('[')[1]\n",
    "        embedding_float = embedding_float.split(']')[0]\n",
    "        embedding_float = [np.float32(num) for num in embedding_float.split(',')]\n",
    "        embedding_floats.append(embedding_float)\n",
    "\n",
    "name_smiles_embedding_df['Embedding Floats'] = embedding_floats"
   ]
  },
  {
   "cell_type": "code",
   "execution_count": 8,
   "metadata": {
    "execution": {
     "iopub.execute_input": "2025-02-04T20:41:54.975999Z",
     "iopub.status.busy": "2025-02-04T20:41:54.975739Z",
     "iopub.status.idle": "2025-02-04T20:41:54.996273Z",
     "shell.execute_reply": "2025-02-04T20:41:54.995543Z"
    }
   },
   "outputs": [],
   "source": [
    "mass_spec_embedding_floats = []\n",
    "for chem_name in mass_spec_name_smiles_embedding_df.index:\n",
    "    embedding_float = mass_spec_name_smiles_embedding_df['embedding'][chem_name].split('[')[1]\n",
    "    embedding_float = embedding_float.split(']')[0]\n",
    "    embedding_float = [np.float32(num) for num in embedding_float.split(',')]\n",
    "    mass_spec_embedding_floats.append(embedding_float)\n",
    "\n",
    "mass_spec_name_smiles_embedding_df['Embedding Floats'] = mass_spec_embedding_floats"
   ]
  },
  {
   "cell_type": "code",
   "execution_count": 9,
   "metadata": {
    "execution": {
     "iopub.execute_input": "2025-02-04T20:41:54.999838Z",
     "iopub.status.busy": "2025-02-04T20:41:54.999448Z",
     "iopub.status.idle": "2025-02-04T20:41:55.037389Z",
     "shell.execute_reply": "2025-02-04T20:41:55.036986Z"
    }
   },
   "outputs": [
    {
     "data": {
      "text/html": [
       "<div>\n",
       "<style scoped>\n",
       "    .dataframe tbody tr th:only-of-type {\n",
       "        vertical-align: middle;\n",
       "    }\n",
       "\n",
       "    .dataframe tbody tr th {\n",
       "        vertical-align: top;\n",
       "    }\n",
       "\n",
       "    .dataframe thead th {\n",
       "        text-align: right;\n",
       "    }\n",
       "</style>\n",
       "<table border=\"1\" class=\"dataframe\">\n",
       "  <thead>\n",
       "    <tr style=\"text-align: right;\">\n",
       "      <th>Unnamed: 0</th>\n",
       "      <th>DEM</th>\n",
       "      <th>DEB</th>\n",
       "      <th>MES</th>\n",
       "      <th>DMMP</th>\n",
       "      <th>DPM</th>\n",
       "      <th>JP8</th>\n",
       "      <th>TEPO</th>\n",
       "      <th>DtBP</th>\n",
       "      <th>(5R,11R)-5,11-Dimethylpentacosane</th>\n",
       "      <th>1,3-Diaminopropane</th>\n",
       "      <th>...</th>\n",
       "      <th>Methyl Octadecanoate</th>\n",
       "      <th>Naphthalene</th>\n",
       "      <th>Pentadecane</th>\n",
       "      <th>Phenanthrene</th>\n",
       "      <th>Pyrene</th>\n",
       "      <th>Spermidine</th>\n",
       "      <th>Succinic Acid</th>\n",
       "      <th>Testosterone</th>\n",
       "      <th>Tryptophan</th>\n",
       "      <th>Undecane</th>\n",
       "    </tr>\n",
       "  </thead>\n",
       "  <tbody>\n",
       "    <tr>\n",
       "      <th>0</th>\n",
       "      <td>0.380972</td>\n",
       "      <td>0.063188</td>\n",
       "      <td>-0.325208</td>\n",
       "      <td>0.121068</td>\n",
       "      <td>-0.023968</td>\n",
       "      <td>0.025142</td>\n",
       "      <td>0.193039</td>\n",
       "      <td>0.226090</td>\n",
       "      <td>-0.048934</td>\n",
       "      <td>-0.220484</td>\n",
       "      <td>...</td>\n",
       "      <td>0.169634</td>\n",
       "      <td>0.468407</td>\n",
       "      <td>0.117451</td>\n",
       "      <td>0.579996</td>\n",
       "      <td>0.444973</td>\n",
       "      <td>-0.182377</td>\n",
       "      <td>0.064577</td>\n",
       "      <td>-0.049732</td>\n",
       "      <td>0.188416</td>\n",
       "      <td>0.110121</td>\n",
       "    </tr>\n",
       "    <tr>\n",
       "      <th>1</th>\n",
       "      <td>0.000545</td>\n",
       "      <td>0.009022</td>\n",
       "      <td>0.009838</td>\n",
       "      <td>0.002942</td>\n",
       "      <td>0.002720</td>\n",
       "      <td>0.011977</td>\n",
       "      <td>0.000974</td>\n",
       "      <td>0.000808</td>\n",
       "      <td>0.001703</td>\n",
       "      <td>-0.001141</td>\n",
       "      <td>...</td>\n",
       "      <td>0.005854</td>\n",
       "      <td>-0.000690</td>\n",
       "      <td>0.001458</td>\n",
       "      <td>-0.001710</td>\n",
       "      <td>-0.004033</td>\n",
       "      <td>0.002279</td>\n",
       "      <td>0.035474</td>\n",
       "      <td>0.068347</td>\n",
       "      <td>0.001636</td>\n",
       "      <td>0.000952</td>\n",
       "    </tr>\n",
       "    <tr>\n",
       "      <th>2</th>\n",
       "      <td>0.255398</td>\n",
       "      <td>0.421601</td>\n",
       "      <td>-0.151083</td>\n",
       "      <td>-0.144505</td>\n",
       "      <td>0.158301</td>\n",
       "      <td>0.542705</td>\n",
       "      <td>0.066288</td>\n",
       "      <td>-0.062160</td>\n",
       "      <td>-0.272093</td>\n",
       "      <td>0.065575</td>\n",
       "      <td>...</td>\n",
       "      <td>-0.123640</td>\n",
       "      <td>0.257259</td>\n",
       "      <td>-0.039999</td>\n",
       "      <td>0.064326</td>\n",
       "      <td>0.064121</td>\n",
       "      <td>0.435218</td>\n",
       "      <td>-0.251742</td>\n",
       "      <td>-0.038517</td>\n",
       "      <td>-0.450764</td>\n",
       "      <td>-0.037651</td>\n",
       "    </tr>\n",
       "    <tr>\n",
       "      <th>3</th>\n",
       "      <td>-0.242728</td>\n",
       "      <td>0.195723</td>\n",
       "      <td>0.284503</td>\n",
       "      <td>0.072665</td>\n",
       "      <td>-0.010084</td>\n",
       "      <td>0.364973</td>\n",
       "      <td>-0.195223</td>\n",
       "      <td>-0.045342</td>\n",
       "      <td>-0.369603</td>\n",
       "      <td>0.193559</td>\n",
       "      <td>...</td>\n",
       "      <td>-0.355696</td>\n",
       "      <td>0.331527</td>\n",
       "      <td>-0.441098</td>\n",
       "      <td>0.421061</td>\n",
       "      <td>0.428294</td>\n",
       "      <td>0.452678</td>\n",
       "      <td>0.044983</td>\n",
       "      <td>-0.575486</td>\n",
       "      <td>0.635695</td>\n",
       "      <td>-0.432776</td>\n",
       "    </tr>\n",
       "    <tr>\n",
       "      <th>4</th>\n",
       "      <td>-0.305107</td>\n",
       "      <td>-0.167326</td>\n",
       "      <td>-0.099838</td>\n",
       "      <td>-0.107286</td>\n",
       "      <td>-0.067723</td>\n",
       "      <td>-0.236272</td>\n",
       "      <td>-0.272051</td>\n",
       "      <td>-0.075880</td>\n",
       "      <td>-0.023527</td>\n",
       "      <td>-0.015358</td>\n",
       "      <td>...</td>\n",
       "      <td>-0.038613</td>\n",
       "      <td>-0.050993</td>\n",
       "      <td>-0.022548</td>\n",
       "      <td>-0.034104</td>\n",
       "      <td>-0.019335</td>\n",
       "      <td>-0.019928</td>\n",
       "      <td>-0.010587</td>\n",
       "      <td>-0.412169</td>\n",
       "      <td>-0.049434</td>\n",
       "      <td>-0.025410</td>\n",
       "    </tr>\n",
       "  </tbody>\n",
       "</table>\n",
       "<p>5 rows × 58 columns</p>\n",
       "</div>"
      ],
      "text/plain": [
       "Unnamed: 0       DEM       DEB       MES      DMMP       DPM       JP8  \\\n",
       "0           0.380972  0.063188 -0.325208  0.121068 -0.023968  0.025142   \n",
       "1           0.000545  0.009022  0.009838  0.002942  0.002720  0.011977   \n",
       "2           0.255398  0.421601 -0.151083 -0.144505  0.158301  0.542705   \n",
       "3          -0.242728  0.195723  0.284503  0.072665 -0.010084  0.364973   \n",
       "4          -0.305107 -0.167326 -0.099838 -0.107286 -0.067723 -0.236272   \n",
       "\n",
       "Unnamed: 0      TEPO      DtBP  (5R,11R)-5,11-Dimethylpentacosane  \\\n",
       "0           0.193039  0.226090                          -0.048934   \n",
       "1           0.000974  0.000808                           0.001703   \n",
       "2           0.066288 -0.062160                          -0.272093   \n",
       "3          -0.195223 -0.045342                          -0.369603   \n",
       "4          -0.272051 -0.075880                          -0.023527   \n",
       "\n",
       "Unnamed: 0  1,3-Diaminopropane  ...  Methyl Octadecanoate  Naphthalene  \\\n",
       "0                    -0.220484  ...              0.169634     0.468407   \n",
       "1                    -0.001141  ...              0.005854    -0.000690   \n",
       "2                     0.065575  ...             -0.123640     0.257259   \n",
       "3                     0.193559  ...             -0.355696     0.331527   \n",
       "4                    -0.015358  ...             -0.038613    -0.050993   \n",
       "\n",
       "Unnamed: 0  Pentadecane  Phenanthrene    Pyrene  Spermidine  Succinic Acid  \\\n",
       "0              0.117451      0.579996  0.444973   -0.182377       0.064577   \n",
       "1              0.001458     -0.001710 -0.004033    0.002279       0.035474   \n",
       "2             -0.039999      0.064326  0.064121    0.435218      -0.251742   \n",
       "3             -0.441098      0.421061  0.428294    0.452678       0.044983   \n",
       "4             -0.022548     -0.034104 -0.019335   -0.019928      -0.010587   \n",
       "\n",
       "Unnamed: 0  Testosterone  Tryptophan  Undecane  \n",
       "0              -0.049732    0.188416  0.110121  \n",
       "1               0.068347    0.001636  0.000952  \n",
       "2              -0.038517   -0.450764 -0.037651  \n",
       "3              -0.575486    0.635695 -0.432776  \n",
       "4              -0.412169   -0.049434 -0.025410  \n",
       "\n",
       "[5 rows x 58 columns]"
      ]
     },
     "execution_count": 9,
     "metadata": {},
     "output_type": "execute_result"
    }
   ],
   "source": [
    "# filtering out chems with < 5 embeddings\n",
    "# mass_spec_chem_counts = Counter(mass_spec_encoder_generated_embeddings['Label'])\n",
    "# mass_spec_chem_counts = Counter(mass_spec_encoder_generated_embeddings['chem_name'])\n",
    "# chems_above_5 = [key for key, count in mass_spec_chem_counts.items() if count >= 5]\n",
    "filtered_mass_spec_embeddings = pd.DataFrame([emb for emb in mass_spec_name_smiles_embedding_df['Embedding Floats']]).T #mass_spec_embeddings[chems_above_5]\n",
    "cols = mass_spec_name_smiles_embedding_df.index\n",
    "filtered_mass_spec_embeddings.columns = cols\n",
    "# filtered_mass_spec_encoder_generated_embeddings = mass_spec_encoder_generated_embeddings[mass_spec_encoder_generated_embeddings['Label'].isin(chems_above_5)]\n",
    "\n",
    "# Combine embeddings for IMS simulants and mass spec chems to use for plotting pca\n",
    "ims_embeddings = pd.DataFrame([emb for emb in name_smiles_embedding_df['Embedding Floats']][1:]).T\n",
    "cols = name_smiles_embedding_df.index[1:]\n",
    "ims_embeddings.columns = cols\n",
    "all_true_embeddings = pd.concat([ims_embeddings, filtered_mass_spec_embeddings], axis=1)\n",
    "# all_true\n",
    "all_true_embeddings.head()"
   ]
  },
  {
   "cell_type": "markdown",
   "metadata": {},
   "source": [
    "# Training Encoder on Carls:\n",
    "---"
   ]
  },
  {
   "cell_type": "code",
   "execution_count": 10,
   "metadata": {
    "execution": {
     "iopub.execute_input": "2025-02-04T20:41:55.042292Z",
     "iopub.status.busy": "2025-02-04T20:41:55.041872Z",
     "iopub.status.idle": "2025-02-04T20:41:55.584696Z",
     "shell.execute_reply": "2025-02-04T20:41:55.584183Z"
    }
   },
   "outputs": [
    {
     "name": "stdout",
     "output_type": "stream",
     "text": [
      "Selected GPU ID: 0\n",
      "  Name: NVIDIA H100 PCIe\n",
      "  Memory Free: 80991.0 MB\n",
      "  Memory Used: 3.0 MB\n",
      "  GPU Load: 0.00%\n",
      "Current device ID:  cuda:0\n",
      "PyTorch current device ID: 0\n",
      "PyTorch current device name: NVIDIA H100 PCIe\n"
     ]
    }
   ],
   "source": [
    "device = f.set_up_gpu()"
   ]
  },
  {
   "cell_type": "code",
   "execution_count": 11,
   "metadata": {
    "execution": {
     "iopub.execute_input": "2025-02-04T20:41:55.588892Z",
     "iopub.status.busy": "2025-02-04T20:41:55.588251Z",
     "iopub.status.idle": "2025-02-04T20:41:55.592176Z",
     "shell.execute_reply": "2025-02-04T20:41:55.591613Z"
    }
   },
   "outputs": [],
   "source": [
    "# file_path = '/mnt/usb/cmdunham/preprocessed_ims_data/train_carls_dif_backgrounds.csv'\n",
    "# train_embeddings_tensor, train_carl_tensor, train_chem_encodings_tensor, train_carl_indices_tensor = f.create_dataset_tensors_with_dask(file_path, name_smiles_embedding_df, device, carl=True)\n",
    "# file_path = '/mnt/usb/cmdunham/preprocessed_ims_data/val_carls_dif_backgrounds.csv'\n",
    "# val_embeddings_tensor, val_carl_tensor, val_chem_encodings_tensor, val_carl_indices_tensor = f.create_dataset_tensors_with_dask(file_path, name_smiles_embedding_df, device, carl=True)\n",
    "# file_path='/mnt/usb/cmdunham/preprocessed_ims_data/test_carls_dif_backgrounds.csv'\n",
    "# test_embeddings_tensor, test_carl_tensor, test_chem_encodings_tensor, test_carl_indices_tensor = f.create_dataset_tensors_with_dask(file_path, name_smiles_embedding_df, device, carl=True)"
   ]
  },
  {
   "cell_type": "code",
   "execution_count": 12,
   "metadata": {
    "execution": {
     "iopub.execute_input": "2025-02-04T20:41:55.594649Z",
     "iopub.status.busy": "2025-02-04T20:41:55.594311Z",
     "iopub.status.idle": "2025-02-04T20:42:11.972155Z",
     "shell.execute_reply": "2025-02-04T20:42:11.971210Z"
    }
   },
   "outputs": [],
   "source": [
    "train_embeddings_tensor, train_carl_tensor, train_chem_encodings_tensor, train_carl_indices_tensor = f.create_dataset_tensors(train_carls, name_smiles_embedding_df, device, carl=True)\n",
    "val_embeddings_tensor, val_carl_tensor, val_chem_encodings_tensor, val_carl_indices_tensor = f.create_dataset_tensors(val_carls, name_smiles_embedding_df, device, carl=True)\n",
    "test_embeddings_tensor, test_carl_tensor, test_chem_encodings_tensor, test_carl_indices_tensor = f.create_dataset_tensors(test_carls, name_smiles_embedding_df, device, carl=True)"
   ]
  },
  {
   "cell_type": "code",
   "execution_count": 13,
   "metadata": {
    "execution": {
     "iopub.execute_input": "2025-02-04T20:42:11.975329Z",
     "iopub.status.busy": "2025-02-04T20:42:11.974561Z",
     "iopub.status.idle": "2025-02-04T20:42:11.987940Z",
     "shell.execute_reply": "2025-02-04T20:42:11.987436Z"
    }
   },
   "outputs": [],
   "source": [
    "sorted_chem_names = list(train_carls.columns[-8:])\n",
    "del train_carls, val_carls, test_carls"
   ]
  },
  {
   "cell_type": "code",
   "execution_count": 14,
   "metadata": {
    "execution": {
     "iopub.execute_input": "2025-02-04T20:42:11.990314Z",
     "iopub.status.busy": "2025-02-04T20:42:11.990115Z",
     "iopub.status.idle": "2025-02-04T20:42:13.367103Z",
     "shell.execute_reply": "2025-02-04T20:42:13.366107Z"
    }
   },
   "outputs": [
    {
     "name": "stderr",
     "output_type": "stream",
     "text": [
      "\u001b[34m\u001b[1mwandb\u001b[0m: Currently logged in as: \u001b[33mcatemerfeld\u001b[0m. Use \u001b[1m`wandb login --relogin`\u001b[0m to force relogin\n"
     ]
    },
    {
     "name": "stderr",
     "output_type": "stream",
     "text": [
      "\u001b[34m\u001b[1mwandb\u001b[0m: \u001b[33mWARNING\u001b[0m If you're specifying your api key in code, ensure this code is not shared publicly.\n",
      "\u001b[34m\u001b[1mwandb\u001b[0m: \u001b[33mWARNING\u001b[0m Consider setting the WANDB_API_KEY environment variable, or running `wandb login` from the command line.\n"
     ]
    },
    {
     "name": "stderr",
     "output_type": "stream",
     "text": [
      "\u001b[34m\u001b[1mwandb\u001b[0m: Appending key for api.wandb.ai to your netrc file: /home/cmdunham/.netrc\n"
     ]
    },
    {
     "data": {
      "text/plain": [
       "True"
      ]
     },
     "execution_count": 14,
     "metadata": {},
     "output_type": "execute_result"
    }
   ],
   "source": [
    "# Things that need to be changed for each encoder/dataset/target embedding\n",
    "notebook_name = '/home/cmdunham/ChemicalDataGeneration/models/carl_encoder.ipynb'\n",
    "# notebook_name = 'C:/Users/cmdunham/OneDrive/Documents/phd_program/ChemicalDataGeneration/models/carl_encoder.ipynb'\n",
    "architecture = 'carl_encoder'\n",
    "dataset_type = 'carls'\n",
    "target_embedding = 'ChemNet'\n",
    "encoder_path = 'trained_models/carl_to_chemnet_encoder.pth'\n",
    "\n",
    "config = {\n",
    "    'wandb_entity': 'catemerfeld',\n",
    "    'wandb_project': 'ims_encoder_decoder',\n",
    "    'gpu':True,\n",
    "    'threads':1,\n",
    "}\n",
    "\n",
    "os.environ['WANDB_NOTEBOOK_NAME'] = notebook_name\n",
    "\n",
    "wandb.login(key='9729ad7b1f3a60f1072cdf7af979b737955733d4')"
   ]
  },
  {
   "cell_type": "code",
   "execution_count": 15,
   "metadata": {
    "execution": {
     "iopub.execute_input": "2025-02-04T20:42:13.371440Z",
     "iopub.status.busy": "2025-02-04T20:42:13.371195Z",
     "iopub.status.idle": "2025-02-04T20:42:13.377763Z",
     "shell.execute_reply": "2025-02-04T20:42:13.377154Z"
    }
   },
   "outputs": [
    {
     "data": {
      "text/plain": [
       "<module 'functions' from '/home/cmdunham/ChemicalDataGeneration/models/functions.py'>"
      ]
     },
     "execution_count": 15,
     "metadata": {},
     "output_type": "execute_result"
    }
   ],
   "source": [
    "# Reload the functions module after updates\n",
    "importlib.reload(f)"
   ]
  },
  {
   "cell_type": "code",
   "execution_count": 16,
   "metadata": {
    "execution": {
     "iopub.execute_input": "2025-02-04T20:42:13.379791Z",
     "iopub.status.busy": "2025-02-04T20:42:13.379583Z",
     "iopub.status.idle": "2025-02-04T21:48:43.084843Z",
     "shell.execute_reply": "2025-02-04T21:48:43.083116Z"
    }
   },
   "outputs": [
    {
     "name": "stderr",
     "output_type": "stream",
     "text": [
      "\u001b[34m\u001b[1mwandb\u001b[0m: wandb version 0.19.5 is available!  To upgrade, please run:\n",
      "\u001b[34m\u001b[1mwandb\u001b[0m:  $ pip install wandb --upgrade\n"
     ]
    },
    {
     "name": "stderr",
     "output_type": "stream",
     "text": [
      "\u001b[34m\u001b[1mwandb\u001b[0m: Tracking run with wandb version 0.17.0\n"
     ]
    },
    {
     "name": "stderr",
     "output_type": "stream",
     "text": [
      "\u001b[34m\u001b[1mwandb\u001b[0m: Run data is saved locally in \u001b[35m\u001b[1m/home/cmdunham/ChemicalDataGeneration/models/wandb/run-20250204_154214-w96xem2m\u001b[0m\n",
      "\u001b[34m\u001b[1mwandb\u001b[0m: Run \u001b[1m`wandb offline`\u001b[0m to turn off syncing.\n"
     ]
    },
    {
     "name": "stderr",
     "output_type": "stream",
     "text": [
      "\u001b[34m\u001b[1mwandb\u001b[0m: Syncing run \u001b[33mlively-hill-589\u001b[0m\n"
     ]
    },
    {
     "name": "stderr",
     "output_type": "stream",
     "text": [
      "\u001b[34m\u001b[1mwandb\u001b[0m: ⭐️ View project at \u001b[34m\u001b[4mhttps://wandb.ai/catemerfeld/ims_encoder_decoder\u001b[0m\n"
     ]
    },
    {
     "name": "stderr",
     "output_type": "stream",
     "text": [
      "\u001b[34m\u001b[1mwandb\u001b[0m: 🚀 View run at \u001b[34m\u001b[4mhttps://wandb.ai/catemerfeld/ims_encoder_decoder/runs/w96xem2m\u001b[0m\n"
     ]
    },
    {
     "name": "stdout",
     "output_type": "stream",
     "text": [
      "Using device: cuda\n",
      "--------------------------\n",
      "--------------------------\n",
      "New run with hyperparameters:\n",
      "batch_size  :  32\n",
      "epochs  :  500\n",
      "learning_rate  :  1e-05\n"
     ]
    },
    {
     "name": "stdout",
     "output_type": "stream",
     "text": [
      "Saved best model at epoch 1\n",
      "Epoch[1/500]:\n",
      "   Training loss: 0.00216702499584794\n",
      "   Validation loss: 0.0017324781400489847\n",
      "-------------------------------------------\n"
     ]
    },
    {
     "name": "stdout",
     "output_type": "stream",
     "text": [
      "Saved best model at epoch 2\n"
     ]
    },
    {
     "name": "stdout",
     "output_type": "stream",
     "text": [
      "Saved best model at epoch 3\n"
     ]
    },
    {
     "name": "stdout",
     "output_type": "stream",
     "text": [
      "Saved best model at epoch 4\n"
     ]
    },
    {
     "name": "stdout",
     "output_type": "stream",
     "text": [
      "Saved best model at epoch 6\n"
     ]
    },
    {
     "name": "stdout",
     "output_type": "stream",
     "text": [
      "Saved best model at epoch 7\n"
     ]
    },
    {
     "name": "stdout",
     "output_type": "stream",
     "text": [
      "Epoch[10/500]:\n",
      "   Training loss: 4.196416695239587e-05\n",
      "   Validation loss: 0.001257915887738075\n",
      "-------------------------------------------\n"
     ]
    },
    {
     "name": "stdout",
     "output_type": "stream",
     "text": [
      "Saved best model at epoch 13\n"
     ]
    },
    {
     "name": "stdout",
     "output_type": "stream",
     "text": [
      "Saved best model at epoch 18\n"
     ]
    },
    {
     "name": "stdout",
     "output_type": "stream",
     "text": [
      "Epoch[20/500]:\n",
      "   Training loss: 2.7919471776652177e-05\n",
      "   Validation loss: 0.0010027220045728449\n",
      "-------------------------------------------\n"
     ]
    },
    {
     "name": "stdout",
     "output_type": "stream",
     "text": [
      "Saved best model at epoch 21\n"
     ]
    },
    {
     "name": "stdout",
     "output_type": "stream",
     "text": [
      "Saved best model at epoch 22\n"
     ]
    },
    {
     "name": "stdout",
     "output_type": "stream",
     "text": [
      "Saved best model at epoch 23\n"
     ]
    },
    {
     "name": "stdout",
     "output_type": "stream",
     "text": [
      "Saved best model at epoch 26\n"
     ]
    },
    {
     "name": "stdout",
     "output_type": "stream",
     "text": [
      "Saved best model at epoch 29\n"
     ]
    },
    {
     "name": "stdout",
     "output_type": "stream",
     "text": [
      "Saved best model at epoch 30\n",
      "Epoch[30/500]:\n",
      "   Training loss: 2.1053374953339143e-05\n",
      "   Validation loss: 0.0006473234426581247\n",
      "-------------------------------------------\n"
     ]
    },
    {
     "name": "stdout",
     "output_type": "stream",
     "text": [
      "Saved best model at epoch 31\n"
     ]
    },
    {
     "name": "stdout",
     "output_type": "stream",
     "text": [
      "Saved best model at epoch 33\n"
     ]
    },
    {
     "name": "stdout",
     "output_type": "stream",
     "text": [
      "Saved best model at epoch 35\n"
     ]
    },
    {
     "name": "stdout",
     "output_type": "stream",
     "text": [
      "Saved best model at epoch 37\n"
     ]
    },
    {
     "name": "stdout",
     "output_type": "stream",
     "text": [
      "Saved best model at epoch 38\n"
     ]
    },
    {
     "name": "stdout",
     "output_type": "stream",
     "text": [
      "Saved best model at epoch 39\n"
     ]
    },
    {
     "name": "stdout",
     "output_type": "stream",
     "text": [
      "Epoch[40/500]:\n",
      "   Training loss: 1.4095060951269859e-05\n",
      "   Validation loss: 0.00036886125946428703\n",
      "-------------------------------------------\n"
     ]
    },
    {
     "name": "stdout",
     "output_type": "stream",
     "text": [
      "Saved best model at epoch 41\n"
     ]
    },
    {
     "name": "stdout",
     "output_type": "stream",
     "text": [
      "Saved best model at epoch 42\n"
     ]
    },
    {
     "name": "stdout",
     "output_type": "stream",
     "text": [
      "Saved best model at epoch 43\n"
     ]
    },
    {
     "name": "stdout",
     "output_type": "stream",
     "text": [
      "Saved best model at epoch 44\n"
     ]
    },
    {
     "name": "stdout",
     "output_type": "stream",
     "text": [
      "Saved best model at epoch 45\n"
     ]
    },
    {
     "name": "stdout",
     "output_type": "stream",
     "text": [
      "Saved best model at epoch 46\n"
     ]
    },
    {
     "name": "stdout",
     "output_type": "stream",
     "text": [
      "Saved best model at epoch 49\n"
     ]
    },
    {
     "name": "stdout",
     "output_type": "stream",
     "text": [
      "Epoch[50/500]:\n",
      "   Training loss: 1.7198249259239053e-05\n",
      "   Validation loss: 0.0002179817784446101\n",
      "-------------------------------------------\n"
     ]
    },
    {
     "name": "stdout",
     "output_type": "stream",
     "text": [
      "Saved best model at epoch 51\n"
     ]
    },
    {
     "name": "stdout",
     "output_type": "stream",
     "text": [
      "Saved best model at epoch 54\n"
     ]
    },
    {
     "name": "stdout",
     "output_type": "stream",
     "text": [
      "Saved best model at epoch 56\n"
     ]
    },
    {
     "name": "stdout",
     "output_type": "stream",
     "text": [
      "Saved best model at epoch 59\n"
     ]
    },
    {
     "name": "stdout",
     "output_type": "stream",
     "text": [
      "Epoch[60/500]:\n",
      "   Training loss: 9.587572899772904e-06\n",
      "   Validation loss: 0.00028368039900785965\n",
      "-------------------------------------------\n"
     ]
    },
    {
     "name": "stdout",
     "output_type": "stream",
     "text": [
      "Saved best model at epoch 62\n"
     ]
    },
    {
     "name": "stdout",
     "output_type": "stream",
     "text": [
      "Saved best model at epoch 63\n"
     ]
    },
    {
     "name": "stdout",
     "output_type": "stream",
     "text": [
      "Saved best model at epoch 65\n"
     ]
    },
    {
     "name": "stdout",
     "output_type": "stream",
     "text": [
      "Saved best model at epoch 68\n"
     ]
    },
    {
     "name": "stdout",
     "output_type": "stream",
     "text": [
      "Saved best model at epoch 70\n",
      "Epoch[70/500]:\n",
      "   Training loss: 1.0991162916107342e-05\n",
      "   Validation loss: 4.615937780811859e-05\n",
      "-------------------------------------------\n"
     ]
    },
    {
     "name": "stdout",
     "output_type": "stream",
     "text": [
      "Saved best model at epoch 74\n"
     ]
    },
    {
     "name": "stdout",
     "output_type": "stream",
     "text": [
      "Saved best model at epoch 77\n"
     ]
    },
    {
     "name": "stdout",
     "output_type": "stream",
     "text": [
      "Epoch[80/500]:\n",
      "   Training loss: 9.41927802382013e-06\n",
      "   Validation loss: 7.086772915241969e-05\n",
      "-------------------------------------------\n"
     ]
    },
    {
     "name": "stdout",
     "output_type": "stream",
     "text": [
      "Epoch 00083: reducing learning rate of group 0 to 1.0000e-06.\n"
     ]
    },
    {
     "name": "stdout",
     "output_type": "stream",
     "text": [
      "Saved best model at epoch 88\n"
     ]
    },
    {
     "name": "stdout",
     "output_type": "stream",
     "text": [
      "Saved best model at epoch 89\n"
     ]
    },
    {
     "name": "stdout",
     "output_type": "stream",
     "text": [
      "Saved best model at epoch 90\n",
      "Epoch[90/500]:\n",
      "   Training loss: 3.536047873991706e-07\n",
      "   Validation loss: 2.608371503016092e-05\n",
      "-------------------------------------------\n"
     ]
    },
    {
     "name": "stdout",
     "output_type": "stream",
     "text": [
      "Saved best model at epoch 91\n"
     ]
    },
    {
     "name": "stdout",
     "output_type": "stream",
     "text": [
      "Saved best model at epoch 92\n"
     ]
    },
    {
     "name": "stdout",
     "output_type": "stream",
     "text": [
      "Saved best model at epoch 93\n"
     ]
    },
    {
     "name": "stdout",
     "output_type": "stream",
     "text": [
      "Saved best model at epoch 94\n"
     ]
    },
    {
     "name": "stdout",
     "output_type": "stream",
     "text": [
      "Saved best model at epoch 97\n"
     ]
    },
    {
     "name": "stdout",
     "output_type": "stream",
     "text": [
      "Saved best model at epoch 98\n"
     ]
    },
    {
     "name": "stdout",
     "output_type": "stream",
     "text": [
      "Saved best model at epoch 100\n",
      "Epoch[100/500]:\n",
      "   Training loss: 1.9579138579436127e-07\n",
      "   Validation loss: 2.0223929108572765e-05\n",
      "-------------------------------------------\n"
     ]
    },
    {
     "name": "stdout",
     "output_type": "stream",
     "text": [
      "Saved best model at epoch 102\n"
     ]
    },
    {
     "name": "stdout",
     "output_type": "stream",
     "text": [
      "Saved best model at epoch 104\n"
     ]
    },
    {
     "name": "stdout",
     "output_type": "stream",
     "text": [
      "Saved best model at epoch 108\n"
     ]
    },
    {
     "name": "stdout",
     "output_type": "stream",
     "text": [
      "Saved best model at epoch 110\n",
      "Epoch[110/500]:\n",
      "   Training loss: 1.2976213427334863e-07\n",
      "   Validation loss: 1.7823755991923338e-05\n",
      "-------------------------------------------\n"
     ]
    },
    {
     "name": "stdout",
     "output_type": "stream",
     "text": [
      "Epoch 00116: reducing learning rate of group 0 to 1.0000e-07.\n"
     ]
    },
    {
     "name": "stdout",
     "output_type": "stream",
     "text": [
      "Epoch[120/500]:\n",
      "   Training loss: 7.176504452291837e-08\n",
      "   Validation loss: 1.8425821177504424e-05\n",
      "-------------------------------------------\n"
     ]
    },
    {
     "name": "stdout",
     "output_type": "stream",
     "text": [
      "Epoch 00122: reducing learning rate of group 0 to 1.0000e-08.\n"
     ]
    },
    {
     "name": "stdout",
     "output_type": "stream",
     "text": [
      "Epoch[130/500]:\n",
      "   Training loss: 6.825703825659356e-08\n",
      "   Validation loss: 1.8286929579556597e-05\n",
      "-------------------------------------------\n",
      "Validation loss has not improved in 20 epochs. Stopping training at epoch 131.\n"
     ]
    },
    {
     "data": {
      "image/png": "[encoded data removed]",
      "text/plain": [
       "<Figure size 800x600 with 1 Axes>"
      ]
     },
     "metadata": {},
     "output_type": "display_data"
    },
    {
     "data": {
      "image/png": "[encoded data removed]",
      "text/plain": [
       "<Figure size 800x600 with 1 Axes>"
      ]
     },
     "metadata": {},
     "output_type": "display_data"
    },
    {
     "name": "stdout",
     "output_type": "stream",
     "text": [
      "-------------------------------------------\n",
      "-------------------------------------------\n",
      "Dataset:  carls\n",
      "Target Embeddings:  ChemNet\n",
      "-------------------------------------------\n",
      "-------------------------------------------\n",
      "Encoder(\n",
      "  (encoder): Sequential(\n",
      "    (0): Linear(in_features=1676, out_features=1548, bias=True)\n",
      "    (1): LeakyReLU(negative_slope=0.01, inplace=True)\n",
      "    (2): Linear(in_features=1548, out_features=1420, bias=True)\n",
      "    (3): LeakyReLU(negative_slope=0.01, inplace=True)\n",
      "    (4): Linear(in_features=1420, out_features=1292, bias=True)\n",
      "    (5): LeakyReLU(negative_slope=0.01, inplace=True)\n",
      "    (6): Linear(in_features=1292, out_features=1164, bias=True)\n",
      "    (7): LeakyReLU(negative_slope=0.01, inplace=True)\n",
      "    (8): Linear(in_features=1164, out_features=1036, bias=True)\n",
      "    (9): LeakyReLU(negative_slope=0.01, inplace=True)\n",
      "    (10): Linear(in_features=1036, out_features=908, bias=True)\n",
      "    (11): LeakyReLU(negative_slope=0.01, inplace=True)\n",
      "    (12): Linear(in_features=908, out_features=780, bias=True)\n",
      "    (13): LeakyReLU(negative_slope=0.01, inplace=True)\n",
      "    (14): Linear(in_features=780, out_features=652, bias=True)\n",
      "    (15): LeakyReLU(negative_slope=0.01, inplace=True)\n",
      "    (16): Linear(in_features=652, out_features=512, bias=True)\n",
      "  )\n",
      ")\n",
      "-------------------------------------------\n",
      "-------------------------------------------\n"
     ]
    },
    {
     "name": "stderr",
     "output_type": "stream",
     "text": [
      "\u001b[34m\u001b[1mwandb\u001b[0m: - 0.593 MB of 0.593 MB uploaded\r"
     ]
    },
    {
     "name": "stderr",
     "output_type": "stream",
     "text": [
      "\u001b[34m\u001b[1mwandb\u001b[0m: \\ 0.593 MB of 0.593 MB uploaded\r"
     ]
    },
    {
     "name": "stderr",
     "output_type": "stream",
     "text": [
      "\u001b[34m\u001b[1mwandb\u001b[0m: | 0.603 MB of 0.603 MB uploaded\r"
     ]
    },
    {
     "name": "stderr",
     "output_type": "stream",
     "text": [
      "\u001b[34m\u001b[1mwandb\u001b[0m:                                                                                \n"
     ]
    },
    {
     "name": "stderr",
     "output_type": "stream",
     "text": [
      "\u001b[34m\u001b[1mwandb\u001b[0m: \n",
      "\u001b[34m\u001b[1mwandb\u001b[0m: Run history:\n",
      "\u001b[34m\u001b[1mwandb\u001b[0m:         Early Stopping Ecoch ▁\n",
      "\u001b[34m\u001b[1mwandb\u001b[0m:        Encoder Training Loss █▅▃▃▃▂▂▂▂▂▂▂▂▁▂▂▂▁▁▁▁▁▂▂▁▁▁▁▁▁▁▁▁▁▁▁▁▁▁▁\n",
      "\u001b[34m\u001b[1mwandb\u001b[0m:      Encoder Validation Loss █▇▆▇▆▅▅▅▄▄▆▃▃▂▂▂▁▁▂▁▁▁▁▃▁▁▁▁▁▁▁▁▁▁▁▁▁▁▁▁\n",
      "\u001b[34m\u001b[1mwandb\u001b[0m: Learning Rate at Final Epoch ▁\n",
      "\u001b[34m\u001b[1mwandb\u001b[0m: \n",
      "\u001b[34m\u001b[1mwandb\u001b[0m: Run summary:\n",
      "\u001b[34m\u001b[1mwandb\u001b[0m:         Early Stopping Ecoch 131\n",
      "\u001b[34m\u001b[1mwandb\u001b[0m:        Encoder Training Loss 0.0\n",
      "\u001b[34m\u001b[1mwandb\u001b[0m:      Encoder Validation Loss 2e-05\n",
      "\u001b[34m\u001b[1mwandb\u001b[0m: Learning Rate at Final Epoch 0.0\n",
      "\u001b[34m\u001b[1mwandb\u001b[0m: \n"
     ]
    },
    {
     "name": "stderr",
     "output_type": "stream",
     "text": [
      "\u001b[34m\u001b[1mwandb\u001b[0m: 🚀 View run \u001b[33mlively-hill-589\u001b[0m at: \u001b[34m\u001b[4mhttps://wandb.ai/catemerfeld/ims_encoder_decoder/runs/w96xem2m\u001b[0m\n",
      "\u001b[34m\u001b[1mwandb\u001b[0m: ⭐️ View project at: \u001b[34m\u001b[4mhttps://wandb.ai/catemerfeld/ims_encoder_decoder\u001b[0m\n",
      "\u001b[34m\u001b[1mwandb\u001b[0m: Synced 6 W&B file(s), 2 media file(s), 0 artifact file(s) and 0 other file(s)\n"
     ]
    },
    {
     "name": "stderr",
     "output_type": "stream",
     "text": [
      "\u001b[34m\u001b[1mwandb\u001b[0m: Find logs at: \u001b[35m\u001b[1m./wandb/run-20250204_154214-w96xem2m/logs\u001b[0m\n"
     ]
    },
    {
     "name": "stdout",
     "output_type": "stream",
     "text": [
      "Hyperparameters for best model: \n",
      "    batch_size  :  32\n",
      "    epochs  :  500\n",
      "    learning_rate  :  1e-05\n"
     ]
    }
   ],
   "source": [
    "early_stopping_threshold = 20\n",
    "wandb_kwargs = {\n",
    "    'architecture': architecture,\n",
    "    'optimizer':'AdamW',\n",
    "    'loss':'MSELoss',\n",
    "    'dataset': dataset_type,\n",
    "    'target_embedding': target_embedding,\n",
    "    'early stopping threshold':early_stopping_threshold\n",
    "}\n",
    "\n",
    "# sorted_chem_names = list(train_carls.columns[-8:])\n",
    "\n",
    "model_hyperparams = {\n",
    "  'batch_size':[32],\n",
    "  'epochs': [500],\n",
    "  'learning_rate':[.00001],\n",
    "  }\n",
    "\n",
    "train_data = TensorDataset(train_carl_tensor, train_chem_encodings_tensor, train_embeddings_tensor, train_carl_indices_tensor)\n",
    "val_data = TensorDataset(val_carl_tensor, val_chem_encodings_tensor, val_embeddings_tensor, val_carl_indices_tensor)\n",
    "test_data = TensorDataset(test_carl_tensor, test_chem_encodings_tensor, test_embeddings_tensor, test_carl_indices_tensor)\n",
    "\n",
    "best_hyperparams = f.train_model(\n",
    "    'Encoder', train_data, val_data, test_data, \n",
    "    device, config, wandb_kwargs, \n",
    "    all_true_embeddings, name_smiles_embedding_df, model_hyperparams, \n",
    "    sorted_chem_names, encoder_path, save_emb_pca_to_wandb=True, early_stop_threshold=early_stopping_threshold,\n",
    "    input_type='Carl', show_wandb_run_name=True, lr_scheduler=True\n",
    "    )"
   ]
  },
  {
   "cell_type": "code",
   "execution_count": 17,
   "metadata": {
    "execution": {
     "iopub.execute_input": "2025-02-04T21:48:43.091470Z",
     "iopub.status.busy": "2025-02-04T21:48:43.091123Z",
     "iopub.status.idle": "2025-02-04T21:48:43.094423Z",
     "shell.execute_reply": "2025-02-04T21:48:43.093766Z"
    }
   },
   "outputs": [],
   "source": [
    "# best_model = f.Encoder().to(device)\n",
    "# best_model.load_state_dict(torch.load(encoder_path))\n",
    "# encoder_criterion = nn.MSELoss()\n",
    "# print(best_model)"
   ]
  },
  {
   "cell_type": "code",
   "execution_count": 18,
   "metadata": {
    "execution": {
     "iopub.execute_input": "2025-02-04T21:48:43.096463Z",
     "iopub.status.busy": "2025-02-04T21:48:43.096102Z",
     "iopub.status.idle": "2025-02-04T21:48:43.099321Z",
     "shell.execute_reply": "2025-02-04T21:48:43.098626Z"
    }
   },
   "outputs": [],
   "source": [
    "# encoder_path = '../models/best_carl_to_chemnet_encoder.pth'\n",
    "# torch.save(best_model.state_dict(), encoder_path)"
   ]
  },
  {
   "cell_type": "markdown",
   "metadata": {},
   "source": [
    "## Generating Carl Embedding Predictions:\n",
    "---"
   ]
  },
  {
   "cell_type": "code",
   "execution_count": 19,
   "metadata": {
    "execution": {
     "iopub.execute_input": "2025-02-04T21:48:43.101862Z",
     "iopub.status.busy": "2025-02-04T21:48:43.101486Z",
     "iopub.status.idle": "2025-02-04T21:48:43.104779Z",
     "shell.execute_reply": "2025-02-04T21:48:43.104183Z"
    }
   },
   "outputs": [],
   "source": [
    "# file_path='/mnt/usb/cmdunham/preprocessed_ims_data/train_carls_avg_backgrounds.csv'\n",
    "# train_carls = pd.read_csv(file_path)\n",
    "# file_path = '/mnt/usb/cmdunham/preprocessed_ims_data/val_carls_avg_backgrounds.csv'\n",
    "# val_carls = pd.read_csv(file_path)\n",
    "# file_path='/mnt/usb/cmdunham/preprocessed_ims_data/test_carls_avg_backgrounds.csv'\n",
    "# test_carls = pd.read_csv(file_path)\n",
    "\n",
    "# train_embeddings_tensor, train_carl_tensor, train_chem_encodings_tensor, train_carl_indices_tensor = f.create_dataset_tensors(train_carls, name_smiles_embedding_df, device, carl=True)\n",
    "# val_embeddings_tensor, val_carl_tensor, val_chem_encodings_tensor, val_carl_indices_tensor = f.create_dataset_tensors(val_carls, name_smiles_embedding_df, device, carl=True)\n",
    "# test_embeddings_tensor, test_carl_tensor, test_chem_encodings_tensor, test_carl_indices_tensor = f.create_dataset_tensors(test_carls, name_smiles_embedding_df, device, carl=True)"
   ]
  },
  {
   "cell_type": "code",
   "execution_count": 20,
   "metadata": {
    "execution": {
     "iopub.execute_input": "2025-02-04T21:48:43.107156Z",
     "iopub.status.busy": "2025-02-04T21:48:43.106847Z",
     "iopub.status.idle": "2025-02-04T21:48:43.109693Z",
     "shell.execute_reply": "2025-02-04T21:48:43.109101Z"
    }
   },
   "outputs": [],
   "source": [
    "# # encoder_path = '../models/carl_to_chemnet_encoder_used_for_results.pth'\n",
    "# encoder_path = '../models/best_carl_to_chemnet_encoder.pth'\n",
    "# best_model = f.Encoder().to(device)\n",
    "# best_model.load_state_dict(torch.load(encoder_path, map_location='cuda:0'))\n",
    "# encoder_criterion = nn.MSELoss()"
   ]
  },
  {
   "cell_type": "code",
   "execution_count": 21,
   "metadata": {
    "execution": {
     "iopub.execute_input": "2025-02-04T21:48:43.111984Z",
     "iopub.status.busy": "2025-02-04T21:48:43.111615Z",
     "iopub.status.idle": "2025-02-04T21:48:43.115613Z",
     "shell.execute_reply": "2025-02-04T21:48:43.114954Z"
    }
   },
   "outputs": [],
   "source": [
    "# # batch_size = best_hyperparams['batch_size']\n",
    "# batch_size = 32\n",
    "\n",
    "# train_dataset = DataLoader(\n",
    "#     TensorDataset(\n",
    "#         train_carl_tensor, \n",
    "#         train_chem_encodings_tensor, \n",
    "#         train_embeddings_tensor,\n",
    "#         train_carl_indices_tensor\n",
    "#         ), \n",
    "#         batch_size=batch_size, \n",
    "#         shuffle=False\n",
    "#         )\n",
    "# predicted_embeddings, output_name_encodings, average_loss, input_carl_indices = f.predict_embeddings(train_dataset, best_model, device, encoder_criterion)\n",
    "# # input_carl_indices = [idx.cpu().detach().numpy() for idx_list in input_carl_indices for idx in idx_list]\n",
    "# input_carl_indices = [idx for idx_list in input_carl_indices for idx in idx_list]\n",
    "# # predicted_embeddings = [emb.cpu().detach().numpy() for emb_list in predicted_embeddings for emb in emb_list]\n",
    "# predicted_embeddings = [emb for emb_list in predicted_embeddings for emb in emb_list]\n",
    "# # output_name_encodings = [enc.cpu().detach().numpy() for enc_list in output_name_encodings for enc in enc_list]\n",
    "# output_name_encodings = [enc for enc_list in output_name_encodings for enc in enc_list]\n",
    "# train_preds_df = pd.DataFrame(predicted_embeddings)\n",
    "# train_preds_df.insert(0, 'index', input_carl_indices)\n",
    "# name_encodings_df = pd.DataFrame(output_name_encodings)\n",
    "# # name_encodings_df.columns = train_carls.columns[-8:]\n",
    "# name_encodings_df.columns = sorted_chem_names\n",
    "# train_preds_df = pd.concat([train_preds_df, name_encodings_df], axis=1)"
   ]
  },
  {
   "cell_type": "code",
   "execution_count": 22,
   "metadata": {
    "execution": {
     "iopub.execute_input": "2025-02-04T21:48:43.117913Z",
     "iopub.status.busy": "2025-02-04T21:48:43.117558Z",
     "iopub.status.idle": "2025-02-04T21:48:43.121115Z",
     "shell.execute_reply": "2025-02-04T21:48:43.120554Z"
    }
   },
   "outputs": [],
   "source": [
    "# # batch_size = best_hyperparams['batch_size']\n",
    "# batch_size = 32\n",
    "\n",
    "# val_dataset = DataLoader(\n",
    "#     TensorDataset(\n",
    "#         val_carl_tensor, \n",
    "#         val_chem_encodings_tensor, \n",
    "#         val_embeddings_tensor,\n",
    "#         val_carl_indices_tensor\n",
    "#         ), \n",
    "#         batch_size=batch_size, \n",
    "#         shuffle=False\n",
    "#         )\n",
    "# predicted_embeddings, output_name_encodings, average_loss, input_carl_indices = f.predict_embeddings(val_dataset, best_model, device, encoder_criterion)\n",
    "# # input_carl_indices = [idx.cpu().detach().numpy() for idx_list in input_carl_indices for idx in idx_list]\n",
    "# input_carl_indices = [idx for idx_list in input_carl_indices for idx in idx_list]\n",
    "# # predicted_embeddings = [emb.cpu().detach().numpy() for emb_list in predicted_embeddings for emb in emb_list]\n",
    "# predicted_embeddings = [emb for emb_list in predicted_embeddings for emb in emb_list]\n",
    "# # output_name_encodings = [enc.cpu().detach().numpy() for enc_list in output_name_encodings for enc in enc_list]\n",
    "# output_name_encodings = [enc for enc_list in output_name_encodings for enc in enc_list]\n",
    "# val_preds_df = pd.DataFrame(predicted_embeddings)\n",
    "# val_preds_df.insert(0, 'index', input_carl_indices)\n",
    "# name_encodings_df = pd.DataFrame(output_name_encodings)\n",
    "# # name_encodings_df.columns = val_carls.columns[-8:]\n",
    "# name_encodings_df.columns = sorted_chem_names\n",
    "# val_preds_df = pd.concat([val_preds_df, name_encodings_df], axis=1)"
   ]
  },
  {
   "cell_type": "code",
   "execution_count": 23,
   "metadata": {
    "execution": {
     "iopub.execute_input": "2025-02-04T21:48:43.123223Z",
     "iopub.status.busy": "2025-02-04T21:48:43.122923Z",
     "iopub.status.idle": "2025-02-04T21:48:43.126298Z",
     "shell.execute_reply": "2025-02-04T21:48:43.125732Z"
    }
   },
   "outputs": [],
   "source": [
    "# # batch_size = best_hyperparams['batch_size']\n",
    "# batch_size = 32\n",
    "\n",
    "# test_dataset = DataLoader(\n",
    "#     TensorDataset(\n",
    "#         test_carl_tensor, \n",
    "#         test_chem_encodings_tensor, \n",
    "#         test_embeddings_tensor,\n",
    "#         test_carl_indices_tensor\n",
    "#         ), \n",
    "#         batch_size=best_hyperparams['batch_size'], \n",
    "#         shuffle=False\n",
    "#         )\n",
    "# predicted_embeddings, output_name_encodings, average_loss, input_carl_indices = f.predict_embeddings(test_dataset, best_model, device, encoder_criterion)\n",
    "# # input_carl_indices = [idx.cpu().detach().numpy() for idx_list in input_carl_indices for idx in idx_list]\n",
    "# input_carl_indices = [idx for idx_list in input_carl_indices for idx in idx_list]\n",
    "# # predicted_embeddings = [emb.cpu().detach().numpy() for emb_list in predicted_embeddings for emb in emb_list]\n",
    "# predicted_embeddings = [emb for emb_list in predicted_embeddings for emb in emb_list]\n",
    "# # output_name_encodings = [enc.cpu().detach().numpy() for enc_list in output_name_encodings for enc in enc_list]\n",
    "# output_name_encodings = [enc for enc_list in output_name_encodings for enc in enc_list]\n",
    "# test_preds_df = pd.DataFrame(predicted_embeddings)\n",
    "# test_preds_df.insert(0, 'index', input_carl_indices)\n",
    "# name_encodings_df = pd.DataFrame(output_name_encodings)\n",
    "# # name_encodings_df.columns = val_carls.columns[-8:]\n",
    "# name_encodings_df.columns = sorted_chem_names\n",
    "# test_preds_df = pd.concat([test_preds_df, name_encodings_df], axis=1)"
   ]
  },
  {
   "cell_type": "code",
   "execution_count": 24,
   "metadata": {
    "execution": {
     "iopub.execute_input": "2025-02-04T21:48:43.128638Z",
     "iopub.status.busy": "2025-02-04T21:48:43.128302Z",
     "iopub.status.idle": "2025-02-04T21:48:43.130960Z",
     "shell.execute_reply": "2025-02-04T21:48:43.130415Z"
    }
   },
   "outputs": [],
   "source": [
    "# file_path = '../data/encoder_embedding_predictions/train_preds.csv'\n",
    "# train_preds_df.to_csv(file_path, index=False)\n",
    "# file_path = '../data/encoder_embedding_predictions/val_preds.csv'\n",
    "# val_preds_df.to_csv(file_path, index=False)\n",
    "# file_path = '../data/encoder_embedding_predictions/test_preds.csv'\n",
    "# test_preds_df.to_csv(file_path, index=False)"
   ]
  },
  {
   "cell_type": "code",
   "execution_count": 25,
   "metadata": {
    "execution": {
     "iopub.execute_input": "2025-02-04T21:48:43.133292Z",
     "iopub.status.busy": "2025-02-04T21:48:43.132808Z",
     "iopub.status.idle": "2025-02-04T21:48:43.135626Z",
     "shell.execute_reply": "2025-02-04T21:48:43.134917Z"
    }
   },
   "outputs": [],
   "source": [
    "# encoder_path = 'trained_models/carl_to_chemnet_encoder_used_for_results.pth'\n",
    "# torch.save(best_model.state_dict(), encoder_path)"
   ]
  },
  {
   "cell_type": "markdown",
   "metadata": {},
   "source": [
    "## Viewing Encoder Results:\n",
    "---"
   ]
  },
  {
   "cell_type": "code",
   "execution_count": 26,
   "metadata": {
    "execution": {
     "iopub.execute_input": "2025-02-04T21:48:43.137826Z",
     "iopub.status.busy": "2025-02-04T21:48:43.137462Z",
     "iopub.status.idle": "2025-02-04T21:48:43.141026Z",
     "shell.execute_reply": "2025-02-04T21:48:43.140344Z"
    }
   },
   "outputs": [],
   "source": [
    "# # sorted_chem_names = list(train_carls.columns[-8:])\n",
    "\n",
    "# # train_data = TensorDataset(train_carl_tensor, train_chem_encodings_tensor, train_embeddings_tensor, train_carl_indices_tensor)\n",
    "\n",
    "# # # batch_size = best_hyperparams['batch_size']\n",
    "# # batch_size = 32\n",
    "\n",
    "# f.plot_pca(\n",
    "#     train_data, batch_size, best_model, device, \n",
    "#     encoder_criterion, sorted_chem_names, all_true_embeddings, \n",
    "#     name_smiles_embedding_df, 'Train', input_type='IMS', show_wandb_run_name = False, log_wandb=False\n",
    "#     )"
   ]
  },
  {
   "cell_type": "code",
   "execution_count": 27,
   "metadata": {
    "execution": {
     "iopub.execute_input": "2025-02-04T21:48:43.143022Z",
     "iopub.status.busy": "2025-02-04T21:48:43.142718Z",
     "iopub.status.idle": "2025-02-04T21:48:43.145696Z",
     "shell.execute_reply": "2025-02-04T21:48:43.145110Z"
    }
   },
   "outputs": [],
   "source": [
    "# sorted_chem_names = list(val_carls.columns[-8:])\n",
    "\n",
    "# val_data = TensorDataset(val_carl_tensor, val_chem_encodings_tensor, val_embeddings_tensor, val_carl_indices_tensor)\n",
    "\n",
    "# # batch_size = best_hyperparams['batch_size']\n",
    "# batch_size = 32\n",
    "\n",
    "# f.plot_pca(\n",
    "#     val_data, batch_size, best_model, device, \n",
    "#     encoder_criterion, sorted_chem_names, all_true_embeddings, \n",
    "#     name_smiles_embedding_df, 'Validation', input_type='IMS', show_wandb_run_name = False, log_wandb=False\n",
    "#     )"
   ]
  },
  {
   "cell_type": "code",
   "execution_count": 28,
   "metadata": {
    "execution": {
     "iopub.execute_input": "2025-02-04T21:48:43.147857Z",
     "iopub.status.busy": "2025-02-04T21:48:43.147548Z",
     "iopub.status.idle": "2025-02-04T21:48:43.150581Z",
     "shell.execute_reply": "2025-02-04T21:48:43.149998Z"
    }
   },
   "outputs": [],
   "source": [
    "# sorted_chem_names = list(test_carls.columns[-8:])\n",
    "\n",
    "# test_data = TensorDataset(test_carl_tensor, test_chem_encodings_tensor, test_embeddings_tensor, test_carl_indices_tensor)\n",
    "\n",
    "# # batch_size = best_hyperparams['batch_size']\n",
    "# batch_size = 32\n",
    "\n",
    "# f.plot_pca(\n",
    "#     test_data, batch_size, best_model, device, \n",
    "#     encoder_criterion, sorted_chem_names, all_true_embeddings, \n",
    "#     name_smiles_embedding_df, 'Test', input_type='IMS', show_wandb_run_name = False, log_wandb=False\n",
    "#     )"
   ]
  }
 ],
 "metadata": {
  "kernelspec": {
   "display_name": "data_gen_venv",
   "language": "python",
   "name": "python3"
  },
  "language_info": {
   "codemirror_mode": {
    "name": "ipython",
    "version": 3
   },
   "file_extension": ".py",
   "mimetype": "text/x-python",
   "name": "python",
   "nbconvert_exporter": "python",
   "pygments_lexer": "ipython3",
   "version": "3.10.16"
  }
 },
 "nbformat": 4,
 "nbformat_minor": 2
}
