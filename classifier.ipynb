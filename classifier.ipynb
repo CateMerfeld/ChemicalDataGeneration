{
 "cells": [
  {
   "cell_type": "code",
   "execution_count": 43,
   "metadata": {},
   "outputs": [],
   "source": [
    "from sklearn.ensemble import RandomForestClassifier\n",
    "from sklearn.model_selection import train_test_split\n",
    "from sklearn.metrics import accuracy_score\n",
    "import pandas as pd\n",
    "from sklearn.metrics import classification_report\n",
    "from imblearn.under_sampling import RandomUnderSampler"
   ]
  },
  {
   "cell_type": "code",
   "execution_count": 44,
   "metadata": {},
   "outputs": [],
   "source": [
    "data = pd.read_feather('data/ims_data/test_data.feather')"
   ]
  },
  {
   "cell_type": "code",
   "execution_count": 54,
   "metadata": {},
   "outputs": [],
   "source": [
    "# separate labels column\n",
    "X = data.iloc[:, 2:-9]\n",
    "# X.reset_index(drop=True, inplace=True)\n",
    "y = data['Label']\n",
    "\n",
    "# Split the data into training and testing sets\n",
    "# making it so that most data goes in test and then reducing size of test. just a lazy way of reducing total data\n",
    "X_train, X_test, y_train, y_test = train_test_split(X, y, test_size=.7, random_state=42)\n",
    "# X_train.reset_index(drop=True, inplace=True)\n",
    "_, X_test, _, y_test = train_test_split(X_test, y_test, test_size=0.01, random_state=42)\n",
    "# X_test.reset_index(drop=True, inplace=True)"
   ]
  },
  {
   "cell_type": "code",
   "execution_count": 56,
   "metadata": {},
   "outputs": [
    {
     "data": {
      "text/plain": [
       "(520, 1676)"
      ]
     },
     "execution_count": 56,
     "metadata": {},
     "output_type": "execute_result"
    }
   ],
   "source": [
    "X_train.shape\n",
    "X_test.shape"
   ]
  },
  {
   "cell_type": "code",
   "execution_count": 41,
   "metadata": {},
   "outputs": [
    {
     "data": {
      "text/plain": [
       "(144, 1676)"
      ]
     },
     "execution_count": 41,
     "metadata": {},
     "output_type": "execute_result"
    }
   ],
   "source": [
    "undersample = RandomUnderSampler()\n",
    "X_resampled, y_resampled = undersample.fit_resample(X, y)\n",
    "X_train, X_test, y_train, y_test = train_test_split(X_resampled, y_resampled, test_size=0.99, random_state=42)\n",
    "_, X_test, _, y_test = train_test_split(X_test, y_test, test_size=0.01, random_state=42)\n",
    "X_train.shape"
   ]
  },
  {
   "cell_type": "code",
   "execution_count": 59,
   "metadata": {},
   "outputs": [
    {
     "name": "stdout",
     "output_type": "stream",
     "text": [
      "              precision    recall  f1-score   support\n",
      "\n",
      "         DEB       0.82      0.43      0.56        42\n",
      "         DEM       0.84      0.87      0.85        70\n",
      "        DMMP       0.85      0.96      0.90        74\n",
      "         DPM       0.81      0.73      0.77        30\n",
      "        DtBP       0.00      0.00      0.00        36\n",
      "         JP8       0.00      0.00      0.00        15\n",
      "         MES       0.97      1.00      0.98        65\n",
      "        TEPO       0.75      0.98      0.85       188\n",
      "\n",
      "    accuracy                           0.81       520\n",
      "   macro avg       0.63      0.62      0.62       520\n",
      "weighted avg       0.74      0.81      0.76       520\n",
      "\n"
     ]
    }
   ],
   "source": [
    "# Create a Random Forest Classifier\n",
    "clf = RandomForestClassifier(n_estimators=100, max_depth=3, random_state=42)\n",
    "\n",
    "# Train the classifier\n",
    "clf.fit(X_train, y_train)\n",
    "\n",
    "# Make predictions\n",
    "y_pred = clf.predict(X_test)\n",
    "\n",
    "# Calculate accuracy\n",
    "accuracy = accuracy_score(y_test, y_pred)\n",
    "# print(f'Accuracy: {accuracy:.2f}')\n",
    "print(classification_report(y_test, y_pred, zero_division=0))"
   ]
  }
 ],
 "metadata": {
  "kernelspec": {
   "display_name": "data_gen_venv",
   "language": "python",
   "name": "python3"
  },
  "language_info": {
   "codemirror_mode": {
    "name": "ipython",
    "version": 3
   },
   "file_extension": ".py",
   "mimetype": "text/x-python",
   "name": "python",
   "nbconvert_exporter": "python",
   "pygments_lexer": "ipython3",
   "version": "3.13.0"
  }
 },
 "nbformat": 4,
 "nbformat_minor": 2
}
