{
 "cells": [
  {
   "cell_type": "code",
   "execution_count": 1,
   "metadata": {},
   "outputs": [],
   "source": [
    "import pandas as pd\n",
    "import matplotlib.pyplot as plt\n",
    "import seaborn as sns\n",
    "\n",
    "from rdkit import Chem"
   ]
  },
  {
   "cell_type": "code",
   "execution_count": 2,
   "metadata": {},
   "outputs": [],
   "source": [
    "# IMS data from Predicting differential ion mobility behaviour in silico using machine learning \n",
    "# --authors: Christian Ieritano, J. Larry Campbella, and W. Scott Hopkins\n",
    "file_path = '/home/cmdunham/ChemicalDataGeneration/data/predicting_ion_mobility_iertiano_et_al_data.csv'\n",
    "data = pd.read_csv(file_path)\n",
    "\n",
    "file_path = '/home/cmdunham/ChemicalDataGeneration/data/predicting_ion_mobility_iertiano_et_al_inchikeys.csv'\n",
    "inchikeys = pd.read_csv(file_path)\n",
    "\n",
    "# Importing the MoNA database of mass spec data, just for use as database to go from compound names to smiles and inchikeys. I haven't found a better way to do this efficiently.\n",
    "file_path = '/home/cmdunham/ChemicalDataGeneration/data/MoNA_data/MoNA-export-GC-MS_Spectra.sdf'\n",
    "suppl = Chem.SDMolSupplier(file_path)"
   ]
  },
  {
   "cell_type": "code",
   "execution_count": 3,
   "metadata": {},
   "outputs": [
    {
     "data": {
      "text/html": [
       "<div>\n",
       "<style scoped>\n",
       "    .dataframe tbody tr th:only-of-type {\n",
       "        vertical-align: middle;\n",
       "    }\n",
       "\n",
       "    .dataframe tbody tr th {\n",
       "        vertical-align: top;\n",
       "    }\n",
       "\n",
       "    .dataframe thead th {\n",
       "        text-align: right;\n",
       "    }\n",
       "</style>\n",
       "<table border=\"1\" class=\"dataframe\">\n",
       "  <thead>\n",
       "    <tr style=\"text-align: right;\">\n",
       "      <th></th>\n",
       "      <th>Compound</th>\n",
       "      <th>m/z</th>\n",
       "      <th>SV 1500</th>\n",
       "      <th>SV 2000</th>\n",
       "      <th>SV 2500</th>\n",
       "      <th>SV 3000</th>\n",
       "      <th>SV 3250</th>\n",
       "      <th>SV 3500</th>\n",
       "      <th>SV 3750</th>\n",
       "      <th>SV 4000</th>\n",
       "      <th>Boltzmann-weighted CCS</th>\n",
       "    </tr>\n",
       "  </thead>\n",
       "  <tbody>\n",
       "    <tr>\n",
       "      <th>0</th>\n",
       "      <td>5-Cl-MQOH</td>\n",
       "      <td>194.04</td>\n",
       "      <td>0.1</td>\n",
       "      <td>0.1</td>\n",
       "      <td>0.3</td>\n",
       "      <td>0.5</td>\n",
       "      <td>0.91</td>\n",
       "      <td>1.6</td>\n",
       "      <td>2.57</td>\n",
       "      <td>3.8</td>\n",
       "      <td>138.66</td>\n",
       "    </tr>\n",
       "    <tr>\n",
       "      <th>1</th>\n",
       "      <td>5-CN-MQOH</td>\n",
       "      <td>185.07</td>\n",
       "      <td>0.1</td>\n",
       "      <td>0.1</td>\n",
       "      <td>-0.2</td>\n",
       "      <td>-0.3</td>\n",
       "      <td>-0.14</td>\n",
       "      <td>0.2</td>\n",
       "      <td>0.77</td>\n",
       "      <td>1.6</td>\n",
       "      <td>132.21</td>\n",
       "    </tr>\n",
       "    <tr>\n",
       "      <th>2</th>\n",
       "      <td>5-F-MQOH</td>\n",
       "      <td>178.07</td>\n",
       "      <td>-0.2</td>\n",
       "      <td>-0.4</td>\n",
       "      <td>-0.5</td>\n",
       "      <td>-0.3</td>\n",
       "      <td>0.08</td>\n",
       "      <td>0.7</td>\n",
       "      <td>1.60</td>\n",
       "      <td>2.8</td>\n",
       "      <td>127.47</td>\n",
       "    </tr>\n",
       "    <tr>\n",
       "      <th>3</th>\n",
       "      <td>5-Me-MQOH</td>\n",
       "      <td>174.09</td>\n",
       "      <td>-0.2</td>\n",
       "      <td>-0.2</td>\n",
       "      <td>0.0</td>\n",
       "      <td>0.8</td>\n",
       "      <td>1.47</td>\n",
       "      <td>2.4</td>\n",
       "      <td>3.65</td>\n",
       "      <td>5.3</td>\n",
       "      <td>129.45</td>\n",
       "    </tr>\n",
       "    <tr>\n",
       "      <th>4</th>\n",
       "      <td>5-NO2-MQOH</td>\n",
       "      <td>205.06</td>\n",
       "      <td>0.2</td>\n",
       "      <td>-0.1</td>\n",
       "      <td>0.0</td>\n",
       "      <td>-0.4</td>\n",
       "      <td>-0.34</td>\n",
       "      <td>0.0</td>\n",
       "      <td>0.59</td>\n",
       "      <td>1.4</td>\n",
       "      <td>137.66</td>\n",
       "    </tr>\n",
       "  </tbody>\n",
       "</table>\n",
       "</div>"
      ],
      "text/plain": [
       "     Compound     m/z  SV 1500  SV 2000  SV 2500  SV 3000  SV 3250  SV 3500  \\\n",
       "0   5-Cl-MQOH  194.04      0.1      0.1      0.3      0.5     0.91      1.6   \n",
       "1   5-CN-MQOH  185.07      0.1      0.1     -0.2     -0.3    -0.14      0.2   \n",
       "2    5-F-MQOH  178.07     -0.2     -0.4     -0.5     -0.3     0.08      0.7   \n",
       "3   5-Me-MQOH  174.09     -0.2     -0.2      0.0      0.8     1.47      2.4   \n",
       "4  5-NO2-MQOH  205.06      0.2     -0.1      0.0     -0.4    -0.34      0.0   \n",
       "\n",
       "   SV 3750  SV 4000  Boltzmann-weighted CCS  \n",
       "0     2.57      3.8                  138.66  \n",
       "1     0.77      1.6                  132.21  \n",
       "2     1.60      2.8                  127.47  \n",
       "3     3.65      5.3                  129.45  \n",
       "4     0.59      1.4                  137.66  "
      ]
     },
     "execution_count": 3,
     "metadata": {},
     "output_type": "execute_result"
    }
   ],
   "source": [
    "data.head()"
   ]
  },
  {
   "cell_type": "code",
   "execution_count": 9,
   "metadata": {},
   "outputs": [
    {
     "name": "stdout",
     "output_type": "stream",
     "text": [
      "There are 409 compounds in the ion mobility dataset.\n"
     ]
    }
   ],
   "source": [
    "compounds = list(data['Compound'])\n",
    "print(f'There are {len(set(compounds))} compounds in the ion mobility dataset.')"
   ]
  },
  {
   "cell_type": "code",
   "execution_count": 55,
   "metadata": {},
   "outputs": [],
   "source": [
    "# creating a dict of compound names and inchikeys for all compounds in the ion mobility dataset\n",
    "# compound_inchikey_df = inchikeys[['Compound', 'InChIKey']]\n",
    "# # compound_inchikey_df['InChIKey'].isnull().values.sum()\n",
    "# compound_inchikey_df.set_index('Compound', inplace=True)\n",
    "# compound_inchikey_dict = compound_inchikey_df.to_dict()\n",
    "compound_inchikey_dict = dict(zip(inchikeys['Compound'], inchikeys['InChIKey']))"
   ]
  },
  {
   "cell_type": "markdown",
   "metadata": {},
   "source": [
    "Chemception needs SMILES to generate embeddings. The ion mobility dataset has InCHIKey but no SMILES. Since the MoNA dataset has both I'm using that as a way to go from one to the other. I haven't found a way to do this more efficiently, the other option I'm aware of is manually looking up each compound's InCHIKey somewhere like NIST Webbook, which is VERY time consuming and error prone. \n",
    "\n",
    "MoNA samples contain SMILES in the comment, not as a property, so the SMILES must be pulled out of the comment to use."
   ]
  },
  {
   "cell_type": "code",
   "execution_count": 85,
   "metadata": {},
   "outputs": [],
   "source": [
    "def format_smiles(mol):\n",
    "    \"\"\"\n",
    "    Extracts the SMILES string from the COMMENT property of a molecule.\n",
    "\n",
    "    Parameters:\n",
    "    mol: An object representing a molecule, which must have a 'COMMENT' property.\n",
    "\n",
    "    Returns:\n",
    "    str or None: The SMILES string if found, otherwise None.\n",
    "    \"\"\"\n",
    "    \n",
    "    comment = mol.GetProp('COMMENT').split('\\n')\n",
    "    smiles = None\n",
    "    for line in comment:\n",
    "        if line.split('=')[0] == 'SMILES':\n",
    "            smiles = line.split('SMILES=')[1]\n",
    "\n",
    "    return smiles"
   ]
  },
  {
   "cell_type": "code",
   "execution_count": 90,
   "metadata": {},
   "outputs": [
    {
     "name": "stderr",
     "output_type": "stream",
     "text": [
      "[16:40:26] ERROR: Cannot convert '>  ' to int on line 223368\n",
      "[16:40:26] ERROR: moving to the beginning of the next molecule\n",
      "[16:40:26] ERROR: Cannot convert '>  ' to int on line 223605\n",
      "[16:40:26] ERROR: moving to the beginning of the next molecule\n",
      "[16:40:26] ERROR: Cannot convert '>  ' to int on line 223869\n",
      "[16:40:26] ERROR: moving to the beginning of the next molecule\n",
      "[16:40:26] ERROR: Cannot convert '>  ' to int on line 224100\n",
      "[16:40:26] ERROR: moving to the beginning of the next molecule\n",
      "[16:40:26] ERROR: Cannot convert '>  ' to int on line 224357\n",
      "[16:40:26] ERROR: moving to the beginning of the next molecule\n",
      "[16:40:26] ERROR: Cannot convert '>  ' to int on line 224623\n",
      "[16:40:26] ERROR: moving to the beginning of the next molecule\n",
      "[16:40:26] ERROR: Cannot convert '>  ' to int on line 237235\n",
      "[16:40:26] ERROR: moving to the beginning of the next molecule\n",
      "[16:40:26] ERROR: Cannot convert '>  ' to int on line 239071\n",
      "[16:40:26] ERROR: moving to the beginning of the next molecule\n",
      "[16:40:26] ERROR: Cannot convert '>  ' to int on line 239347\n",
      "[16:40:26] ERROR: moving to the beginning of the next molecule\n",
      "[16:40:26] ERROR: Cannot convert '>  ' to int on line 240402\n",
      "[16:40:26] ERROR: moving to the beginning of the next molecule\n",
      "[16:40:26] ERROR: Cannot convert '>  ' to int on line 240756\n",
      "[16:40:26] ERROR: moving to the beginning of the next molecule\n",
      "[16:40:26] ERROR: Cannot convert '>  ' to int on line 241579\n",
      "[16:40:26] ERROR: moving to the beginning of the next molecule\n",
      "[16:40:26] ERROR: Cannot convert '>  ' to int on line 243185\n",
      "[16:40:26] ERROR: moving to the beginning of the next molecule\n",
      "[16:40:26] ERROR: Cannot convert '>  ' to int on line 245774\n",
      "[16:40:26] ERROR: moving to the beginning of the next molecule\n",
      "[16:40:26] ERROR: Cannot convert '>  ' to int on line 246521\n",
      "[16:40:26] ERROR: moving to the beginning of the next molecule\n",
      "[16:40:26] ERROR: Cannot convert '>  ' to int on line 246774\n",
      "[16:40:26] ERROR: moving to the beginning of the next molecule\n",
      "[16:40:26] ERROR: Cannot convert '>  ' to int on line 248981\n",
      "[16:40:26] ERROR: moving to the beginning of the next molecule\n",
      "[16:40:26] ERROR: Cannot convert '>  ' to int on line 252707\n",
      "[16:40:26] ERROR: moving to the beginning of the next molecule\n",
      "[16:40:26] ERROR: Cannot convert '>  ' to int on line 253181\n",
      "[16:40:26] ERROR: moving to the beginning of the next molecule\n",
      "[16:40:26] ERROR: Cannot convert '>  ' to int on line 255903\n",
      "[16:40:26] ERROR: moving to the beginning of the next molecule\n",
      "[16:40:26] ERROR: Cannot convert '>  ' to int on line 256462\n",
      "[16:40:26] ERROR: moving to the beginning of the next molecule\n",
      "[16:40:26] ERROR: Cannot convert '>  ' to int on line 257924\n",
      "[16:40:26] ERROR: moving to the beginning of the next molecule\n",
      "[16:40:26] ERROR: Cannot convert '>  ' to int on line 258511\n",
      "[16:40:26] ERROR: moving to the beginning of the next molecule\n",
      "[16:40:26] ERROR: Cannot convert '>  ' to int on line 259053\n",
      "[16:40:26] ERROR: moving to the beginning of the next molecule\n",
      "[16:40:26] ERROR: Cannot convert '>  ' to int on line 259837\n",
      "[16:40:26] ERROR: moving to the beginning of the next molecule\n",
      "[16:40:26] ERROR: Cannot convert '>  ' to int on line 261150\n",
      "[16:40:26] ERROR: moving to the beginning of the next molecule\n",
      "[16:40:26] ERROR: Cannot convert '>  ' to int on line 262116\n",
      "[16:40:26] ERROR: moving to the beginning of the next molecule\n",
      "[16:40:26] ERROR: Cannot convert '>  ' to int on line 263465\n",
      "[16:40:26] ERROR: moving to the beginning of the next molecule\n",
      "[16:40:26] ERROR: Cannot convert '>  ' to int on line 267949\n",
      "[16:40:26] ERROR: moving to the beginning of the next molecule\n",
      "[16:40:26] ERROR: Cannot convert '>  ' to int on line 268841\n",
      "[16:40:26] ERROR: moving to the beginning of the next molecule\n",
      "[16:40:26] ERROR: Cannot convert '>  ' to int on line 270761\n",
      "[16:40:26] ERROR: moving to the beginning of the next molecule\n",
      "[16:40:26] ERROR: Cannot convert '>  ' to int on line 271755\n",
      "[16:40:26] ERROR: moving to the beginning of the next molecule\n",
      "[16:40:26] ERROR: Cannot convert '>  ' to int on line 272875\n",
      "[16:40:26] ERROR: moving to the beginning of the next molecule\n",
      "[16:40:26] ERROR: Cannot convert '>  ' to int on line 272941\n",
      "[16:40:26] ERROR: moving to the beginning of the next molecule\n",
      "[16:40:26] ERROR: Cannot convert '>  ' to int on line 273870\n",
      "[16:40:26] ERROR: moving to the beginning of the next molecule\n",
      "[16:40:26] ERROR: Cannot convert '>  ' to int on line 275078\n",
      "[16:40:26] ERROR: moving to the beginning of the next molecule\n",
      "[16:40:26] ERROR: Cannot convert '>  ' to int on line 276127\n",
      "[16:40:26] ERROR: moving to the beginning of the next molecule\n",
      "[16:40:26] Warning: ambiguous stereochemistry - zero final chiral volume - at atom 15 ignored\n",
      "[16:40:26] Warning: ambiguous stereochemistry - zero final chiral volume - at atom 19 ignored\n",
      "[16:40:26] Warning: ambiguous stereochemistry - zero final chiral volume - at atom 13 ignored\n",
      "[16:40:26] Warning: ambiguous stereochemistry - zero final chiral volume - at atom 17 ignored\n"
     ]
    }
   ],
   "source": [
    "inchikey_smiles_dict = {}\n",
    "inchikeys = []\n",
    "for mol in suppl:\n",
    "    if mol is not None:\n",
    "        try:\n",
    "            inchikey = mol.GetProp('INCHIKEY')\n",
    "            # if this compound is in the ion mobility dataset\n",
    "            if inchikey in compound_inchikey_dict.values():\n",
    "                # if this compound's smiles hasn't been recorded yet\n",
    "                if not inchikey in inchikey_smiles_dict.keys():\n",
    "                    smiles = format_smiles(mol)\n",
    "                    if smiles:\n",
    "                        inchikey_smiles_dict[inchikey] = smiles\n",
    "\n",
    "        except:\n",
    "            pass\n",
    "\n"
   ]
  },
  {
   "cell_type": "code",
   "execution_count": 6,
   "metadata": {},
   "outputs": [],
   "source": [
    "# Getting a list of compounds from the ion mobility dataset that also appear in the MoNA dataset.\n",
    "compounds_in_both_datasets = []\n",
    "for mol in suppl:\n",
    "    if mol is not None:\n",
    "        if mol.GetProp('NAME') in compounds:\n",
    "            compounds_in_both_datasets.append(mol.GetProp('NAME'))"
   ]
  },
  {
   "cell_type": "markdown",
   "metadata": {},
   "source": [
    "We see that there are more InChIKeys in common between the datasets than there are compounds names. This is likely due to the fact that InChIKeys are unique identifiers while the same chemical might can have multiple compound names, meaning that it could be listed one way in one dataset and another way in another."
   ]
  },
  {
   "cell_type": "code",
   "execution_count": 91,
   "metadata": {},
   "outputs": [
    {
     "name": "stdout",
     "output_type": "stream",
     "text": [
      "There are 48 compounds from the Ion Mobility dataset that appear in the MoNA dataset compared to 77 inchikeys that appear in both datasets.\n"
     ]
    }
   ],
   "source": [
    "print(f'There are {len(set(compounds_in_both_datasets))} compound names from the Ion Mobility dataset that appear in the MoNA dataset compared to {len(inchikey_smiles_dict)} inchikeys that appear in both datasets.')"
   ]
  },
  {
   "cell_type": "code",
   "execution_count": null,
   "metadata": {},
   "outputs": [],
   "source": []
  }
 ],
 "metadata": {
  "kernelspec": {
   "display_name": "chem_data_gen",
   "language": "python",
   "name": "python3"
  },
  "language_info": {
   "codemirror_mode": {
    "name": "ipython",
    "version": 3
   },
   "file_extension": ".py",
   "mimetype": "text/x-python",
   "name": "python",
   "nbconvert_exporter": "python",
   "pygments_lexer": "ipython3",
   "version": "3.8.10"
  }
 },
 "nbformat": 4,
 "nbformat_minor": 2
}
