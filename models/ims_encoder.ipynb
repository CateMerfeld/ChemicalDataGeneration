{
 "cells": [
  {
   "cell_type": "code",
   "execution_count": 1,
   "metadata": {},
   "outputs": [],
   "source": [
    "import pandas as pd\n",
    "import matplotlib.pyplot as plt\n",
    "import seaborn as sns\n",
    "import numpy as np\n",
    "\n",
    "import torch\n",
    "import torch.nn as nn\n",
    "import torch.optim as optim\n",
    "import torchvision\n",
    "from torch.utils.data import Dataset, DataLoader, TensorDataset\n",
    "import torch.nn.functional as F\n",
    "\n",
    "import wandb\n",
    "import os\n",
    "\n",
    "from sklearn.decomposition import PCA\n",
    "\n",
    "import GPUtil"
   ]
  },
  {
   "cell_type": "markdown",
   "metadata": {},
   "source": [
    "# Loading Data:\n",
    "---"
   ]
  },
  {
   "cell_type": "code",
   "execution_count": 2,
   "metadata": {},
   "outputs": [],
   "source": [
    "file_path = '../data/test_data.csv'\n",
    "data = pd.read_csv(file_path)\n",
    "file_path = '../data/name_smiles_embedding_file.csv'\n",
    "name_smiles_embedding_df = pd.read_csv(file_path)"
   ]
  },
  {
   "cell_type": "code",
   "execution_count": null,
   "metadata": {},
   "outputs": [
    {
     "data": {
      "text/html": [
       "<div>\n",
       "<style scoped>\n",
       "    .dataframe tbody tr th:only-of-type {\n",
       "        vertical-align: middle;\n",
       "    }\n",
       "\n",
       "    .dataframe tbody tr th {\n",
       "        vertical-align: top;\n",
       "    }\n",
       "\n",
       "    .dataframe thead th {\n",
       "        text-align: right;\n",
       "    }\n",
       "</style>\n",
       "<table border=\"1\" class=\"dataframe\">\n",
       "  <thead>\n",
       "    <tr style=\"text-align: right;\">\n",
       "      <th></th>\n",
       "      <th>Unnamed: 0</th>\n",
       "      <th>index</th>\n",
       "      <th>p_184</th>\n",
       "      <th>p_185</th>\n",
       "      <th>p_186</th>\n",
       "      <th>p_187</th>\n",
       "      <th>p_188</th>\n",
       "      <th>p_189</th>\n",
       "      <th>p_190</th>\n",
       "      <th>p_191</th>\n",
       "      <th>...</th>\n",
       "      <th>n_1021</th>\n",
       "      <th>Label</th>\n",
       "      <th>DEB</th>\n",
       "      <th>DEM</th>\n",
       "      <th>DMMP</th>\n",
       "      <th>DPM</th>\n",
       "      <th>DtBP</th>\n",
       "      <th>JP8</th>\n",
       "      <th>MES</th>\n",
       "      <th>TEPO</th>\n",
       "    </tr>\n",
       "  </thead>\n",
       "  <tbody>\n",
       "    <tr>\n",
       "      <th>0</th>\n",
       "      <td>298520</td>\n",
       "      <td>1364474</td>\n",
       "      <td>28.0</td>\n",
       "      <td>27.0</td>\n",
       "      <td>26.0</td>\n",
       "      <td>24.0</td>\n",
       "      <td>22.0</td>\n",
       "      <td>22.0</td>\n",
       "      <td>20.0</td>\n",
       "      <td>20.0</td>\n",
       "      <td>...</td>\n",
       "      <td>6.0</td>\n",
       "      <td>DMMP</td>\n",
       "      <td>0.0</td>\n",
       "      <td>0.0</td>\n",
       "      <td>1.0</td>\n",
       "      <td>0.0</td>\n",
       "      <td>0.0</td>\n",
       "      <td>0.0</td>\n",
       "      <td>0.0</td>\n",
       "      <td>0.0</td>\n",
       "    </tr>\n",
       "    <tr>\n",
       "      <th>1</th>\n",
       "      <td>77906</td>\n",
       "      <td>477962</td>\n",
       "      <td>96.0</td>\n",
       "      <td>99.0</td>\n",
       "      <td>103.0</td>\n",
       "      <td>105.0</td>\n",
       "      <td>108.0</td>\n",
       "      <td>111.0</td>\n",
       "      <td>113.0</td>\n",
       "      <td>117.0</td>\n",
       "      <td>...</td>\n",
       "      <td>-14.0</td>\n",
       "      <td>DEM</td>\n",
       "      <td>0.0</td>\n",
       "      <td>1.0</td>\n",
       "      <td>0.0</td>\n",
       "      <td>0.0</td>\n",
       "      <td>0.0</td>\n",
       "      <td>0.0</td>\n",
       "      <td>0.0</td>\n",
       "      <td>0.0</td>\n",
       "    </tr>\n",
       "    <tr>\n",
       "      <th>2</th>\n",
       "      <td>149391</td>\n",
       "      <td>843445</td>\n",
       "      <td>87.0</td>\n",
       "      <td>87.0</td>\n",
       "      <td>86.0</td>\n",
       "      <td>86.0</td>\n",
       "      <td>86.0</td>\n",
       "      <td>87.0</td>\n",
       "      <td>89.0</td>\n",
       "      <td>92.0</td>\n",
       "      <td>...</td>\n",
       "      <td>-14.0</td>\n",
       "      <td>TEPO</td>\n",
       "      <td>0.0</td>\n",
       "      <td>0.0</td>\n",
       "      <td>0.0</td>\n",
       "      <td>0.0</td>\n",
       "      <td>0.0</td>\n",
       "      <td>0.0</td>\n",
       "      <td>0.0</td>\n",
       "      <td>1.0</td>\n",
       "    </tr>\n",
       "    <tr>\n",
       "      <th>3</th>\n",
       "      <td>262066</td>\n",
       "      <td>1262888</td>\n",
       "      <td>97.0</td>\n",
       "      <td>100.0</td>\n",
       "      <td>104.0</td>\n",
       "      <td>106.0</td>\n",
       "      <td>111.0</td>\n",
       "      <td>115.0</td>\n",
       "      <td>118.0</td>\n",
       "      <td>124.0</td>\n",
       "      <td>...</td>\n",
       "      <td>-3.0</td>\n",
       "      <td>DMMP</td>\n",
       "      <td>0.0</td>\n",
       "      <td>0.0</td>\n",
       "      <td>1.0</td>\n",
       "      <td>0.0</td>\n",
       "      <td>0.0</td>\n",
       "      <td>0.0</td>\n",
       "      <td>0.0</td>\n",
       "      <td>0.0</td>\n",
       "    </tr>\n",
       "    <tr>\n",
       "      <th>4</th>\n",
       "      <td>279662</td>\n",
       "      <td>1321891</td>\n",
       "      <td>122.0</td>\n",
       "      <td>128.0</td>\n",
       "      <td>133.0</td>\n",
       "      <td>140.0</td>\n",
       "      <td>146.0</td>\n",
       "      <td>153.0</td>\n",
       "      <td>159.0</td>\n",
       "      <td>169.0</td>\n",
       "      <td>...</td>\n",
       "      <td>-4.0</td>\n",
       "      <td>TEPO</td>\n",
       "      <td>0.0</td>\n",
       "      <td>0.0</td>\n",
       "      <td>0.0</td>\n",
       "      <td>0.0</td>\n",
       "      <td>0.0</td>\n",
       "      <td>0.0</td>\n",
       "      <td>0.0</td>\n",
       "      <td>1.0</td>\n",
       "    </tr>\n",
       "  </tbody>\n",
       "</table>\n",
       "<p>5 rows × 1687 columns</p>\n",
       "</div>"
      ],
      "text/plain": [
       "   Unnamed: 0    index  p_184  p_185  p_186  p_187  p_188  p_189  p_190  \\\n",
       "0      298520  1364474   28.0   27.0   26.0   24.0   22.0   22.0   20.0   \n",
       "1       77906   477962   96.0   99.0  103.0  105.0  108.0  111.0  113.0   \n",
       "2      149391   843445   87.0   87.0   86.0   86.0   86.0   87.0   89.0   \n",
       "3      262066  1262888   97.0  100.0  104.0  106.0  111.0  115.0  118.0   \n",
       "4      279662  1321891  122.0  128.0  133.0  140.0  146.0  153.0  159.0   \n",
       "\n",
       "   p_191  ...  n_1021  Label  DEB  DEM  DMMP  DPM  DtBP  JP8  MES  TEPO  \n",
       "0   20.0  ...     6.0   DMMP  0.0  0.0   1.0  0.0   0.0  0.0  0.0   0.0  \n",
       "1  117.0  ...   -14.0    DEM  0.0  1.0   0.0  0.0   0.0  0.0  0.0   0.0  \n",
       "2   92.0  ...   -14.0   TEPO  0.0  0.0   0.0  0.0   0.0  0.0  0.0   1.0  \n",
       "3  124.0  ...    -3.0   DMMP  0.0  0.0   1.0  0.0   0.0  0.0  0.0   0.0  \n",
       "4  169.0  ...    -4.0   TEPO  0.0  0.0   0.0  0.0   0.0  0.0  0.0   1.0  \n",
       "\n",
       "[5 rows x 1687 columns]"
      ]
     },
     "execution_count": 3,
     "metadata": {},
     "output_type": "execute_result"
    }
   ],
   "source": [
    "data.head()"
   ]
  },
  {
   "cell_type": "code",
   "execution_count": 4,
   "metadata": {},
   "outputs": [
    {
     "data": {
      "text/plain": [
       "Index(['DEB', 'DEM', 'DMMP', 'DPM', 'DtBP', 'JP8', 'MES', 'TEPO'], dtype='object')"
      ]
     },
     "execution_count": 4,
     "metadata": {},
     "output_type": "execute_result"
    }
   ],
   "source": [
    "data.columns[-8:]"
   ]
  },
  {
   "cell_type": "code",
   "execution_count": 5,
   "metadata": {},
   "outputs": [
    {
     "data": {
      "text/html": [
       "<div>\n",
       "<style scoped>\n",
       "    .dataframe tbody tr th:only-of-type {\n",
       "        vertical-align: middle;\n",
       "    }\n",
       "\n",
       "    .dataframe tbody tr th {\n",
       "        vertical-align: top;\n",
       "    }\n",
       "\n",
       "    .dataframe thead th {\n",
       "        text-align: right;\n",
       "    }\n",
       "</style>\n",
       "<table border=\"1\" class=\"dataframe\">\n",
       "  <thead>\n",
       "    <tr style=\"text-align: right;\">\n",
       "      <th></th>\n",
       "      <th>Unnamed: 0</th>\n",
       "      <th>Name</th>\n",
       "      <th>SMILES</th>\n",
       "      <th>embedding</th>\n",
       "    </tr>\n",
       "  </thead>\n",
       "  <tbody>\n",
       "    <tr>\n",
       "      <th>0</th>\n",
       "      <td>BKG</td>\n",
       "      <td>background</td>\n",
       "      <td>NaN</td>\n",
       "      <td>NaN</td>\n",
       "    </tr>\n",
       "    <tr>\n",
       "      <th>1</th>\n",
       "      <td>DEM</td>\n",
       "      <td>Diethyl Malonate</td>\n",
       "      <td>CCOC(=O)CC(=O)OCC</td>\n",
       "      <td>[0.3809721, 0.0005454041, 0.25539744, -0.24272...</td>\n",
       "    </tr>\n",
       "    <tr>\n",
       "      <th>2</th>\n",
       "      <td>DEB</td>\n",
       "      <td>1,2,3,4-Diepoxybutane</td>\n",
       "      <td>C1C(O1)C2CO2</td>\n",
       "      <td>[0.06318794, 0.009022224, 0.42160064, 0.195722...</td>\n",
       "    </tr>\n",
       "    <tr>\n",
       "      <th>3</th>\n",
       "      <td>MES</td>\n",
       "      <td>2-(N-morpholino)ethanesulfonic acid</td>\n",
       "      <td>C1COCCN1CCS(=O)(=O)O</td>\n",
       "      <td>[-0.32520828, 0.009838344, -0.15108332, 0.2845...</td>\n",
       "    </tr>\n",
       "    <tr>\n",
       "      <th>4</th>\n",
       "      <td>DMMP</td>\n",
       "      <td>Dimethyl methylphosphonate</td>\n",
       "      <td>COP(=O)(C)OC</td>\n",
       "      <td>[0.12106811, 0.00294244, -0.14450458, 0.072665...</td>\n",
       "    </tr>\n",
       "  </tbody>\n",
       "</table>\n",
       "</div>"
      ],
      "text/plain": [
       "  Unnamed: 0                                 Name                SMILES  \\\n",
       "0        BKG                           background                   NaN   \n",
       "1        DEM                     Diethyl Malonate     CCOC(=O)CC(=O)OCC   \n",
       "2        DEB                1,2,3,4-Diepoxybutane          C1C(O1)C2CO2   \n",
       "3        MES  2-(N-morpholino)ethanesulfonic acid  C1COCCN1CCS(=O)(=O)O   \n",
       "4       DMMP           Dimethyl methylphosphonate          COP(=O)(C)OC   \n",
       "\n",
       "                                           embedding  \n",
       "0                                                NaN  \n",
       "1  [0.3809721, 0.0005454041, 0.25539744, -0.24272...  \n",
       "2  [0.06318794, 0.009022224, 0.42160064, 0.195722...  \n",
       "3  [-0.32520828, 0.009838344, -0.15108332, 0.2845...  \n",
       "4  [0.12106811, 0.00294244, -0.14450458, 0.072665...  "
      ]
     },
     "execution_count": 5,
     "metadata": {},
     "output_type": "execute_result"
    }
   ],
   "source": [
    "name_smiles_embedding_df.head()"
   ]
  },
  {
   "cell_type": "code",
   "execution_count": 6,
   "metadata": {},
   "outputs": [
    {
     "data": {
      "text/html": [
       "<div>\n",
       "<style scoped>\n",
       "    .dataframe tbody tr th:only-of-type {\n",
       "        vertical-align: middle;\n",
       "    }\n",
       "\n",
       "    .dataframe tbody tr th {\n",
       "        vertical-align: top;\n",
       "    }\n",
       "\n",
       "    .dataframe thead th {\n",
       "        text-align: right;\n",
       "    }\n",
       "</style>\n",
       "<table border=\"1\" class=\"dataframe\">\n",
       "  <thead>\n",
       "    <tr style=\"text-align: right;\">\n",
       "      <th></th>\n",
       "      <th>Name</th>\n",
       "      <th>SMILES</th>\n",
       "      <th>embedding</th>\n",
       "    </tr>\n",
       "    <tr>\n",
       "      <th>Unnamed: 0</th>\n",
       "      <th></th>\n",
       "      <th></th>\n",
       "      <th></th>\n",
       "    </tr>\n",
       "  </thead>\n",
       "  <tbody>\n",
       "    <tr>\n",
       "      <th>BKG</th>\n",
       "      <td>background</td>\n",
       "      <td>NaN</td>\n",
       "      <td>NaN</td>\n",
       "    </tr>\n",
       "    <tr>\n",
       "      <th>DEM</th>\n",
       "      <td>Diethyl Malonate</td>\n",
       "      <td>CCOC(=O)CC(=O)OCC</td>\n",
       "      <td>[0.3809721, 0.0005454041, 0.25539744, -0.24272...</td>\n",
       "    </tr>\n",
       "    <tr>\n",
       "      <th>DEB</th>\n",
       "      <td>1,2,3,4-Diepoxybutane</td>\n",
       "      <td>C1C(O1)C2CO2</td>\n",
       "      <td>[0.06318794, 0.009022224, 0.42160064, 0.195722...</td>\n",
       "    </tr>\n",
       "    <tr>\n",
       "      <th>MES</th>\n",
       "      <td>2-(N-morpholino)ethanesulfonic acid</td>\n",
       "      <td>C1COCCN1CCS(=O)(=O)O</td>\n",
       "      <td>[-0.32520828, 0.009838344, -0.15108332, 0.2845...</td>\n",
       "    </tr>\n",
       "    <tr>\n",
       "      <th>DMMP</th>\n",
       "      <td>Dimethyl methylphosphonate</td>\n",
       "      <td>COP(=O)(C)OC</td>\n",
       "      <td>[0.12106811, 0.00294244, -0.14450458, 0.072665...</td>\n",
       "    </tr>\n",
       "  </tbody>\n",
       "</table>\n",
       "</div>"
      ],
      "text/plain": [
       "                                           Name                SMILES  \\\n",
       "Unnamed: 0                                                              \n",
       "BKG                                  background                   NaN   \n",
       "DEM                            Diethyl Malonate     CCOC(=O)CC(=O)OCC   \n",
       "DEB                       1,2,3,4-Diepoxybutane          C1C(O1)C2CO2   \n",
       "MES         2-(N-morpholino)ethanesulfonic acid  C1COCCN1CCS(=O)(=O)O   \n",
       "DMMP                 Dimethyl methylphosphonate          COP(=O)(C)OC   \n",
       "\n",
       "                                                    embedding  \n",
       "Unnamed: 0                                                     \n",
       "BKG                                                       NaN  \n",
       "DEM         [0.3809721, 0.0005454041, 0.25539744, -0.24272...  \n",
       "DEB         [0.06318794, 0.009022224, 0.42160064, 0.195722...  \n",
       "MES         [-0.32520828, 0.009838344, -0.15108332, 0.2845...  \n",
       "DMMP        [0.12106811, 0.00294244, -0.14450458, 0.072665...  "
      ]
     },
     "execution_count": 6,
     "metadata": {},
     "output_type": "execute_result"
    }
   ],
   "source": [
    "# set the df index to be the chemical abbreviations in col 'Unnamed: 0'\n",
    "name_smiles_embedding_df.set_index('Unnamed: 0', inplace=True)\n",
    "name_smiles_embedding_df.head()"
   ]
  },
  {
   "cell_type": "code",
   "execution_count": 7,
   "metadata": {},
   "outputs": [
    {
     "data": {
      "text/plain": [
       "'CCOC(=O)CC(=O)OCC'"
      ]
     },
     "execution_count": 7,
     "metadata": {},
     "output_type": "execute_result"
    }
   ],
   "source": [
    "name_smiles_embedding_df['SMILES']['DEM']\n",
    "\n",
    "# name_smiles_embedding_df.head()"
   ]
  },
  {
   "cell_type": "markdown",
   "metadata": {},
   "source": [
    "# Definitions:\n",
    "---"
   ]
  },
  {
   "cell_type": "code",
   "execution_count": 20,
   "metadata": {},
   "outputs": [],
   "source": [
    "class Encoder(nn.Module):\n",
    "  def __init__(self):\n",
    "    super().__init__()\n",
    "    self.encoder = nn.Sequential(\n",
    "      # nn.Linear(1676,1300),\n",
    "      # nn.LeakyReLU(inplace=True),\n",
    "      # nn.Linear(1300,1000),\n",
    "      # nn.LeakyReLU(inplace=True),\n",
    "      # nn.Linear(1000,700),\n",
    "      # nn.LeakyReLU(inplace=True),\n",
    "      # nn.Linear(700,512),\n",
    "      nn.Linear(1676,1548),\n",
    "      nn.LeakyReLU(inplace=True),\n",
    "      nn.Linear(1548,1420),\n",
    "      nn.LeakyReLU(inplace=True),\n",
    "      nn.Linear(1420, 1292),\n",
    "      nn.LeakyReLU(inplace=True),\n",
    "      nn.Linear(1292, 1164),\n",
    "      nn.LeakyReLU(inplace=True),\n",
    "      nn.Linear(1164, 1036),\n",
    "      nn.LeakyReLU(inplace=True),\n",
    "      nn.Linear(1036, 908),\n",
    "      nn.LeakyReLU(inplace=True),\n",
    "      nn.Linear(908, 780),\n",
    "      nn.LeakyReLU(inplace=True),\n",
    "      nn.Linear(780, 652),\n",
    "      nn.LeakyReLU(inplace=True),\n",
    "      nn.Linear(652, 512),\n",
    "    )\n",
    "\n",
    "  def forward(self, x):\n",
    "    x = self.encoder(x)\n",
    "    return x"
   ]
  },
  {
   "cell_type": "code",
   "execution_count": 9,
   "metadata": {},
   "outputs": [],
   "source": [
    "def run_with_wandb(config, **kwargs):\n",
    "    config.update(kwargs)\n",
    "\n",
    "    wandb.init(entity=config['wandb_entity'],\n",
    "               project=config['wandb_project'],\n",
    "               config=config)\n",
    "\n",
    "    # Set the number of threads\n",
    "    torch.set_num_threads(config['threads'])\n",
    "\n",
    "    # Find out is there is a GPU available\n",
    "    device = torch.device('cuda' if torch.cuda.is_available() else 'cpu')\n",
    "    if not config['gpu']:\n",
    "        device = torch.device('cpu')\n",
    "    print(f'Using device: {device}')"
   ]
  },
  {
   "cell_type": "code",
   "execution_count": 10,
   "metadata": {},
   "outputs": [],
   "source": [
    "def plot_emb_pca(all_embeddings, all_chemical_names, output_embeddings, output_labels):\n",
    "    \"\"\"\n",
    "    Run pca on embeddings from denoiser output. Plot results against PCA of Chemception embeddings.\n",
    "\n",
    "    Args:\n",
    "    - all_embeddings (pd.DataFrame): Column headers are chemical names. Each column represents one chemical's Chemception embedding.\n",
    "    - all_chemical_names (list): Sorted list of all chemical names in the training data.\n",
    "    - output_embeddings (list): Encoder output embeddings.\n",
    "    - output_labels (list): Chemical names for each embedding in the encoder's output.\n",
    "    \"\"\"\n",
    "\n",
    "    pca = PCA(n_components=2)\n",
    "    pca.fit(all_embeddings.T)\n",
    "\n",
    "    # Extract true embeddings for all chemicals and transform them using the fitted PCA\n",
    "    true_embeddings = [all_embeddings[chem] for chem in all_chemical_names]\n",
    "    true_transformed = pca.transform(true_embeddings)\n",
    "\n",
    "    # Transform the encoder output embeddings using the same PCA\n",
    "    output_embeddings = np.array([emb.detach().numpy() for emb in output_embeddings])\n",
    "    output_transformed = pca.transform(np.array(output_embeddings))\n",
    "\n",
    "    # Create a color map where each chemical name is assigned a unique integer\n",
    "    color_map = {chem: idx for idx, chem in enumerate(all_chemical_names)}\n",
    "\n",
    "    # Map chemical names to their respective colors for the true embeddings\n",
    "    true_colors = [color_map[chem] for chem in all_chemical_names]\n",
    "    # Map chemical names to their respective colors for the output embeddings\n",
    "    output_colors = [color_map[chem] for chem in output_labels]\n",
    "\n",
    "    # Extract the x and y coordinates from the transformed true embeddings\n",
    "    true_x = [pair[0] for pair in true_transformed]\n",
    "    true_y = [pair[1] for pair in true_transformed]\n",
    "    # Extract the x and y coordinates from the transformed true embeddings\n",
    "    scatter = plt.scatter(true_x, true_y, c=true_colors, cmap='tab20')\n",
    "\n",
    "    # Extract the x and y coordinates from the transformed output embeddings\n",
    "    output_x = [pair[0] for pair in output_transformed]\n",
    "    output_y = [pair[1] for pair in output_transformed]\n",
    "    # Create a scatter plot for the output embeddings\n",
    "    plt.scatter(output_x, output_y, marker='x', c=output_colors, cmap='tab20')\n",
    "\n",
    "    # Add a legend to the plot\n",
    "    plt.legend(handles=scatter.legend_elements()[0],\n",
    "                labels=all_chemical_names,\n",
    "                loc='upper right',\n",
    "                prop={'size':7})\n",
    "\n",
    "\n",
    "    plt.title('Chemception Embeddings vs. Denoiser Output')\n",
    "    plt.xticks([])\n",
    "    plt.yticks([])\n",
    "\n",
    "    plt.show()"
   ]
  },
  {
   "cell_type": "markdown",
   "metadata": {},
   "source": [
    "# Creating Dataloader Objects\n",
    "---"
   ]
  },
  {
   "cell_type": "code",
   "execution_count": 11,
   "metadata": {},
   "outputs": [],
   "source": [
    "device = torch.device(\"cuda\" if torch.cuda.is_available() else \"cpu\")"
   ]
  },
  {
   "cell_type": "code",
   "execution_count": 12,
   "metadata": {},
   "outputs": [
    {
     "data": {
      "text/html": [
       "<div>\n",
       "<style scoped>\n",
       "    .dataframe tbody tr th:only-of-type {\n",
       "        vertical-align: middle;\n",
       "    }\n",
       "\n",
       "    .dataframe tbody tr th {\n",
       "        vertical-align: top;\n",
       "    }\n",
       "\n",
       "    .dataframe thead th {\n",
       "        text-align: right;\n",
       "    }\n",
       "</style>\n",
       "<table border=\"1\" class=\"dataframe\">\n",
       "  <thead>\n",
       "    <tr style=\"text-align: right;\">\n",
       "      <th></th>\n",
       "      <th>Name</th>\n",
       "      <th>SMILES</th>\n",
       "      <th>embedding</th>\n",
       "    </tr>\n",
       "    <tr>\n",
       "      <th>Unnamed: 0</th>\n",
       "      <th></th>\n",
       "      <th></th>\n",
       "      <th></th>\n",
       "    </tr>\n",
       "  </thead>\n",
       "  <tbody>\n",
       "    <tr>\n",
       "      <th>BKG</th>\n",
       "      <td>background</td>\n",
       "      <td>NaN</td>\n",
       "      <td>NaN</td>\n",
       "    </tr>\n",
       "    <tr>\n",
       "      <th>DEM</th>\n",
       "      <td>Diethyl Malonate</td>\n",
       "      <td>CCOC(=O)CC(=O)OCC</td>\n",
       "      <td>[0.3809721, 0.0005454041, 0.25539744, -0.24272...</td>\n",
       "    </tr>\n",
       "    <tr>\n",
       "      <th>DEB</th>\n",
       "      <td>1,2,3,4-Diepoxybutane</td>\n",
       "      <td>C1C(O1)C2CO2</td>\n",
       "      <td>[0.06318794, 0.009022224, 0.42160064, 0.195722...</td>\n",
       "    </tr>\n",
       "    <tr>\n",
       "      <th>MES</th>\n",
       "      <td>2-(N-morpholino)ethanesulfonic acid</td>\n",
       "      <td>C1COCCN1CCS(=O)(=O)O</td>\n",
       "      <td>[-0.32520828, 0.009838344, -0.15108332, 0.2845...</td>\n",
       "    </tr>\n",
       "    <tr>\n",
       "      <th>DMMP</th>\n",
       "      <td>Dimethyl methylphosphonate</td>\n",
       "      <td>COP(=O)(C)OC</td>\n",
       "      <td>[0.12106811, 0.00294244, -0.14450458, 0.072665...</td>\n",
       "    </tr>\n",
       "  </tbody>\n",
       "</table>\n",
       "</div>"
      ],
      "text/plain": [
       "                                           Name                SMILES  \\\n",
       "Unnamed: 0                                                              \n",
       "BKG                                  background                   NaN   \n",
       "DEM                            Diethyl Malonate     CCOC(=O)CC(=O)OCC   \n",
       "DEB                       1,2,3,4-Diepoxybutane          C1C(O1)C2CO2   \n",
       "MES         2-(N-morpholino)ethanesulfonic acid  C1COCCN1CCS(=O)(=O)O   \n",
       "DMMP                 Dimethyl methylphosphonate          COP(=O)(C)OC   \n",
       "\n",
       "                                                    embedding  \n",
       "Unnamed: 0                                                     \n",
       "BKG                                                       NaN  \n",
       "DEM         [0.3809721, 0.0005454041, 0.25539744, -0.24272...  \n",
       "DEB         [0.06318794, 0.009022224, 0.42160064, 0.195722...  \n",
       "MES         [-0.32520828, 0.009838344, -0.15108332, 0.2845...  \n",
       "DMMP        [0.12106811, 0.00294244, -0.14450458, 0.072665...  "
      ]
     },
     "execution_count": 12,
     "metadata": {},
     "output_type": "execute_result"
    }
   ],
   "source": [
    "name_smiles_embedding_df.head()"
   ]
  },
  {
   "cell_type": "markdown",
   "metadata": {},
   "source": [
    "Currently embeddings are strings instead of a list of floats. Would be good to fix that in preprocessing."
   ]
  },
  {
   "cell_type": "code",
   "execution_count": 13,
   "metadata": {},
   "outputs": [],
   "source": [
    "embedding_floats = []\n",
    "for chem_name in name_smiles_embedding_df.index:\n",
    "    if chem_name == 'BKG':\n",
    "        embedding_floats.append(None)\n",
    "    else:\n",
    "        embedding_float = name_smiles_embedding_df['embedding'][chem_name].split('[')[1]\n",
    "        embedding_float = embedding_float.split(']')[0]\n",
    "        embedding_float = [np.float32(num) for num in embedding_float.split(',')]\n",
    "        embedding_floats.append(embedding_float)\n",
    "\n",
    "name_smiles_embedding_df['Embedding Floats'] = embedding_floats"
   ]
  },
  {
   "cell_type": "code",
   "execution_count": 14,
   "metadata": {},
   "outputs": [],
   "source": [
    "# drop first two cols ('Unnamed:0' and 'index') and last 9 cols ('Label' and OneHot encodings) to get just spectra\n",
    "train_spectra = data.iloc[:,2:-9]\n",
    "train_chem_encodings = data.iloc[:,-8:]"
   ]
  },
  {
   "cell_type": "code",
   "execution_count": 15,
   "metadata": {},
   "outputs": [],
   "source": [
    "train_chem_labels = list(data['Label'])\n",
    "train_embeddings_tensor = torch.Tensor([name_smiles_embedding_df['Embedding Floats'][chem_name] for chem_name in train_chem_labels])#.to(device)\n",
    "train_spectra_tensor = torch.Tensor(train_spectra.values)#.to(device)\n",
    "train_chem_encodings_tensor = torch.Tensor(train_chem_encodings.values)#.to(device)\n",
    "\n",
    "batch_size = 128\n",
    "train_dataset = DataLoader(TensorDataset(train_spectra_tensor, train_chem_encodings_tensor, train_embeddings_tensor), batch_size=batch_size, shuffle=True)"
   ]
  },
  {
   "cell_type": "markdown",
   "metadata": {},
   "source": [
    "# Train Encoder:\n",
    "---"
   ]
  },
  {
   "cell_type": "code",
   "execution_count": 16,
   "metadata": {},
   "outputs": [],
   "source": [
    "# os.environ['WANDB_API_KEY'] = '9729ad7b1f3a60f1072cdf7af979b737955733d4'\n",
    "config = {\n",
    "    'wandb_entity': 'catemerfeld',\n",
    "    'wandb_project': 'ims_encoder_decoder',\n",
    "    'gpu':True,\n",
    "    'threads':1,\n",
    "}\n",
    "\n",
    "os.environ['WANDB_NOTEBOOK_NAME'] = '/home/cmdunham/ChemicalDataGeneration/models/ims_encoder.ipynb'"
   ]
  },
  {
   "cell_type": "code",
   "execution_count": 17,
   "metadata": {},
   "outputs": [
    {
     "name": "stdout",
     "output_type": "stream",
     "text": [
      "Allocated Memory: 0.00 MB\n",
      "Cached Memory: 0.00 MB\n"
     ]
    }
   ],
   "source": [
    "# Get the allocated memory on the GPU\n",
    "allocated_memory = torch.cuda.memory_allocated(device) / (1024 ** 2)  # in MB\n",
    "cached_memory = torch.cuda.memory_reserved(device) / (1024 ** 2)  # in MB\n",
    "\n",
    "print(f\"Allocated Memory: {allocated_memory:.2f} MB\")\n",
    "print(f\"Cached Memory: {cached_memory:.2f} MB\")"
   ]
  },
  {
   "cell_type": "code",
   "execution_count": 18,
   "metadata": {},
   "outputs": [
    {
     "name": "stdout",
     "output_type": "stream",
     "text": [
      "GPU ID: 0, Memory Free: 2674.0MB, Memory Used: 21542.0MB, Memory Total: 24564.0MB\n",
      "GPU ID: 1, Memory Free: 24203.0MB, Memory Used: 14.0MB, Memory Total: 24564.0MB\n"
     ]
    }
   ],
   "source": [
    "gpus = GPUtil.getGPUs()\n",
    "for gpu in gpus:\n",
    "    print(f\"GPU ID: {gpu.id}, Memory Free: {gpu.memoryFree}MB, Memory Used: {gpu.memoryUsed}MB, Memory Total: {gpu.memoryTotal}MB\")"
   ]
  },
  {
   "cell_type": "code",
   "execution_count": null,
   "metadata": {},
   "outputs": [
    {
     "data": {
      "text/html": [
       "wandb version 0.18.5 is available!  To upgrade, please run:\n",
       " $ pip install wandb --upgrade"
      ],
      "text/plain": [
       "<IPython.core.display.HTML object>"
      ]
     },
     "metadata": {},
     "output_type": "display_data"
    },
    {
     "data": {
      "text/html": [
       "Tracking run with wandb version 0.17.0"
      ],
      "text/plain": [
       "<IPython.core.display.HTML object>"
      ]
     },
     "metadata": {},
     "output_type": "display_data"
    },
    {
     "data": {
      "text/html": [
       "Run data is saved locally in <code>/home/cmdunham/ChemicalDataGeneration/models/wandb/run-20241029_094332-21m28h37</code>"
      ],
      "text/plain": [
       "<IPython.core.display.HTML object>"
      ]
     },
     "metadata": {},
     "output_type": "display_data"
    },
    {
     "data": {
      "text/html": [
       "Syncing run <strong><a href='https://wandb.ai/catemerfeld/ims_encoder_decoder/runs/21m28h37' target=\"_blank\">stellar-pine-39</a></strong> to <a href='https://wandb.ai/catemerfeld/ims_encoder_decoder' target=\"_blank\">Weights & Biases</a> (<a href='https://wandb.me/run' target=\"_blank\">docs</a>)<br/>"
      ],
      "text/plain": [
       "<IPython.core.display.HTML object>"
      ]
     },
     "metadata": {},
     "output_type": "display_data"
    },
    {
     "data": {
      "text/html": [
       " View project at <a href='https://wandb.ai/catemerfeld/ims_encoder_decoder' target=\"_blank\">https://wandb.ai/catemerfeld/ims_encoder_decoder</a>"
      ],
      "text/plain": [
       "<IPython.core.display.HTML object>"
      ]
     },
     "metadata": {},
     "output_type": "display_data"
    },
    {
     "data": {
      "text/html": [
       " View run at <a href='https://wandb.ai/catemerfeld/ims_encoder_decoder/runs/21m28h37' target=\"_blank\">https://wandb.ai/catemerfeld/ims_encoder_decoder/runs/21m28h37</a>"
      ],
      "text/plain": [
       "<IPython.core.display.HTML object>"
      ]
     },
     "metadata": {},
     "output_type": "display_data"
    },
    {
     "name": "stdout",
     "output_type": "stream",
     "text": [
      "Using device: cuda\n",
      "Epoch[1/20], loss: 2.571759672138859e-05\n",
      "-------------------------------------------\n",
      "Epoch[2/20], loss: 1.64813366511445e-05\n",
      "-------------------------------------------\n",
      "Epoch[3/20], loss: 1.367245242778969e-05\n",
      "-------------------------------------------\n",
      "Epoch[4/20], loss: 1.10943284355393e-05\n",
      "-------------------------------------------\n",
      "Epoch[5/20], loss: 8.745523214672395e-06\n",
      "-------------------------------------------\n"
     ]
    }
   ],
   "source": [
    "# These two should be the same\n",
    "sorted_chem_names = list(data.columns[-8:])\n",
    "# sorted_chem_names = ['DEB', 'DEM', 'DMMP', 'DPM', 'DtBP', 'JP8', 'MES', 'TEPO']\n",
    "\n",
    "epochs = 20\n",
    "learning_rate = .00001\n",
    "encoder = Encoder().to(device)\n",
    "\n",
    "encoder_optimizer = torch.optim.AdamW(encoder.parameters(), lr = learning_rate)\n",
    "encoder_criterion = nn.MSELoss()\n",
    "\n",
    "predicted_embeddings = []\n",
    "output_chem_names = []\n",
    "output_name_encodings = []\n",
    "\n",
    "wandb_kwargs = {\n",
    "    'learning_rate': learning_rate,\n",
    "    'epochs': epochs,\n",
    "    'batch_size': batch_size,\n",
    "    'model_architecture': 'encoder',\n",
    "    'optimizer':'AdamW',\n",
    "    'loss': 'MSELoss'\n",
    "}\n",
    "\n",
    "run_with_wandb(config, **wandb_kwargs)\n",
    "\n",
    "for epoch in range(epochs):\n",
    "  # accumulate epoch loss\n",
    "  epoch_training_loss = 0\n",
    "  gpus = GPUtil.getGPUs()\n",
    "  # for gpu in gpus:\n",
    "  #     print(f\"GPU ID: {gpu.id}, percent of total memory used: {round(gpu.memoryUsed/gpu.memoryTotal, 2)}%\")\n",
    "\n",
    "  for batch, name_encodings, true_embeddings in train_dataset:\n",
    "    # move inputs to device\n",
    "    batch = batch.to(device)\n",
    "    name_encodings = name_encodings.to(device)\n",
    "    true_embeddings = true_embeddings.to(device)\n",
    "\n",
    "    # forward pass\n",
    "    batch_predicted_embeddings = encoder(batch)\n",
    "\n",
    "    loss = encoder_criterion(batch_predicted_embeddings, true_embeddings)\n",
    "    epoch_training_loss += loss.item()\n",
    "\n",
    "    # backprapogation\n",
    "    encoder_optimizer.zero_grad()\n",
    "    loss.backward()\n",
    "    encoder_optimizer.step()\n",
    "\n",
    "    # at last epoch store output embeddings and corresponding labels to output list\n",
    "    if (epoch + 1) == epochs:\n",
    "      output_name_encodings.append(name_encodings)\n",
    "      predicted_embeddings.append(batch_predicted_embeddings)\n",
    "\n",
    "  average_loss = epoch_training_loss/len(train_dataset)\n",
    "  wandb.log({\"Encoder Training Loss\": average_loss})\n",
    "\n",
    "  if (epoch + 1) % 1 == 0:\n",
    "    print('Epoch[{}/{}], loss: {}'.format(epoch+1, epochs, average_loss))\n",
    "    print('-------------------------------------------')\n",
    "\n",
    "wandb.finish()\n",
    "\n",
    "\n",
    "  # # NEEDS to be updated for gpu\n",
    "  # encoder.eval() # Set model to evaluation mode\n",
    "  # epoch_val_loss = 0\n",
    "  # with torch.no_grad():\n",
    "  #   for batch, name_encodings, true_embeddings in val_dataset:\n",
    "  #     batch_predicted_embeddings = encoder(batch)\n",
    "\n",
    "  #     loss = encoder_criterion(batch_predicted_embeddings, true_embeddings)\n",
    "  #     epoch_test_loss += loss.item()\n",
    "\n",
    "  # # Set models back to training mode\n",
    "  # encoder.train()\n",
    "  # val_average_loss = epoch_test_loss/len(val_dataset)\n",
    "  # wandb.log({\"Encoder Validation Loss\": val_average_loss})\n",
    "  # wandb.log({\"Encoder Validation Loss\": val_average_loss})\n",
    "  # print('Test loss: {:.4f}'.format(test_average_loss))"
   ]
  },
  {
   "cell_type": "code",
   "execution_count": 23,
   "metadata": {},
   "outputs": [],
   "source": [
    "# Currently, preds and name encodings are lists of [n_batches, batch_size], flattening to lists of [n_samples]\n",
    "predicted_embeddings_flattened = [emb.cpu() for emb_list in predicted_embeddings for emb in emb_list]\n",
    "chem_name_encodings_flattened = [enc.cpu() for enc_list in output_name_encodings for enc in enc_list]\n",
    "# Get chemical names from encodings\n",
    "chem_names = [sorted_chem_names[list(encoding).index(1)] for encoding in chem_name_encodings_flattened]"
   ]
  },
  {
   "cell_type": "code",
   "execution_count": 24,
   "metadata": {},
   "outputs": [
    {
     "data": {
      "image/png": "[encoded data removed]",
      "text/plain": [
       "<Figure size 640x480 with 1 Axes>"
      ]
     },
     "metadata": {},
     "output_type": "display_data"
    }
   ],
   "source": [
    "# making list of all embeddings and chem names except for BKG\n",
    "embeddings = [emb for emb in name_smiles_embedding_df['Embedding Floats']][1:]\n",
    "cols = name_smiles_embedding_df.index[1:]\n",
    "true_embeddings = pd.DataFrame(embeddings).T\n",
    "true_embeddings.columns = cols\n",
    "true_embeddings.columns\n",
    "\n",
    "plot_emb_pca(true_embeddings, list(name_smiles_embedding_df.index)[1:], predicted_embeddings_flattened, chem_names)"
   ]
  },
  {
   "cell_type": "code",
   "execution_count": null,
   "metadata": {},
   "outputs": [],
   "source": [
    "# Currently, preds and name encodings are lists of [n_batches, batch_size], flattening to lists of [n_samples]\n",
    "predicted_embeddings_flattened = [emb.cpu() for emb_list in predicted_embeddings for emb in emb_list]\n",
    "chem_name_encodings_flattened = [enc.cpu() for enc_list in output_name_encodings for enc in enc_list]\n",
    "# Get chemical names from encodings\n",
    "chem_names = [sorted_chem_names[list(encoding).index(1)] for encoding in chem_name_encodings_flattened]\n",
    "\n",
    "# making list of all embeddings and chem names except for BKG\n",
    "embeddings = [emb for emb in name_smiles_embedding_df['Embedding Floats']][1:]\n",
    "cols = name_smiles_embedding_df.index[1:]\n",
    "true_embeddings = pd.DataFrame(embeddings).T\n",
    "true_embeddings.columns = cols\n",
    "true_embeddings.columns\n",
    "\n",
    "plot_emb_pca(true_embeddings, list(name_smiles_embedding_df.index)[1:], predicted_embeddings_flattened, chem_names)"
   ]
  }
 ],
 "metadata": {
  "kernelspec": {
   "display_name": "chem_data_gen",
   "language": "python",
   "name": "python3"
  },
  "language_info": {
   "codemirror_mode": {
    "name": "ipython",
    "version": 3
   },
   "file_extension": ".py",
   "mimetype": "text/x-python",
   "name": "python",
   "nbconvert_exporter": "python",
   "pygments_lexer": "ipython3",
   "version": "3.8.10"
  }
 },
 "nbformat": 4,
 "nbformat_minor": 2
}
