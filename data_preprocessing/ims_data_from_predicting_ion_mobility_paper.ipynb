{
 "cells": [
  {
   "cell_type": "code",
   "execution_count": 6,
   "metadata": {},
   "outputs": [],
   "source": [
    "import pandas as pd\n",
    "\n",
    "from rdkit import Chem\n",
    "from rdkit import RDLogger\n",
    "# Disable RDKit error logging - prevent error messages from printing\n",
    "lg = RDLogger.logger()\n",
    "lg.setLevel(RDLogger.CRITICAL)\n",
    "\n",
    "import requests\n",
    "\n",
    "from fcd_torch import FCD\n",
    "import torch"
   ]
  },
  {
   "cell_type": "code",
   "execution_count": 102,
   "metadata": {},
   "outputs": [],
   "source": [
    "# IMS data from Predicting differential ion mobility behaviour in silico using machine learning \n",
    "# --authors: Christian Ieritano, J. Larry Campbella, and W. Scott Hopkins\n",
    "file_path = '/home/cmdunham/ChemicalDataGeneration/data/predicting_ion_mobility_iertiano_et_al_data.csv'\n",
    "data = pd.read_csv(file_path)\n",
    "\n",
    "file_path = '/home/cmdunham/ChemicalDataGeneration/data/predicting_ion_mobility_iertiano_et_al_inchikeys.csv'\n",
    "inchikey_df = pd.read_csv(file_path)\n",
    "\n",
    "# Importing the MoNA database of mass spec data, just for use as database to go from compound names to smiles and inchikeys. I haven't found a better way to do this efficiently.\n",
    "file_path = '/home/cmdunham/ChemicalDataGeneration/data/MoNA_data/MoNA-export-GC-MS_Spectra.sdf'\n",
    "suppl = Chem.SDMolSupplier(file_path)"
   ]
  },
  {
   "cell_type": "code",
   "execution_count": 3,
   "metadata": {},
   "outputs": [
    {
     "data": {
      "text/html": [
       "<div>\n",
       "<style scoped>\n",
       "    .dataframe tbody tr th:only-of-type {\n",
       "        vertical-align: middle;\n",
       "    }\n",
       "\n",
       "    .dataframe tbody tr th {\n",
       "        vertical-align: top;\n",
       "    }\n",
       "\n",
       "    .dataframe thead th {\n",
       "        text-align: right;\n",
       "    }\n",
       "</style>\n",
       "<table border=\"1\" class=\"dataframe\">\n",
       "  <thead>\n",
       "    <tr style=\"text-align: right;\">\n",
       "      <th></th>\n",
       "      <th>Compound</th>\n",
       "      <th>m/z</th>\n",
       "      <th>SV 1500</th>\n",
       "      <th>SV 2000</th>\n",
       "      <th>SV 2500</th>\n",
       "      <th>SV 3000</th>\n",
       "      <th>SV 3250</th>\n",
       "      <th>SV 3500</th>\n",
       "      <th>SV 3750</th>\n",
       "      <th>SV 4000</th>\n",
       "      <th>Boltzmann-weighted CCS</th>\n",
       "    </tr>\n",
       "  </thead>\n",
       "  <tbody>\n",
       "    <tr>\n",
       "      <th>0</th>\n",
       "      <td>5-Cl-MQOH</td>\n",
       "      <td>194.04</td>\n",
       "      <td>0.1</td>\n",
       "      <td>0.1</td>\n",
       "      <td>0.3</td>\n",
       "      <td>0.5</td>\n",
       "      <td>0.91</td>\n",
       "      <td>1.6</td>\n",
       "      <td>2.57</td>\n",
       "      <td>3.8</td>\n",
       "      <td>138.66</td>\n",
       "    </tr>\n",
       "    <tr>\n",
       "      <th>1</th>\n",
       "      <td>5-CN-MQOH</td>\n",
       "      <td>185.07</td>\n",
       "      <td>0.1</td>\n",
       "      <td>0.1</td>\n",
       "      <td>-0.2</td>\n",
       "      <td>-0.3</td>\n",
       "      <td>-0.14</td>\n",
       "      <td>0.2</td>\n",
       "      <td>0.77</td>\n",
       "      <td>1.6</td>\n",
       "      <td>132.21</td>\n",
       "    </tr>\n",
       "    <tr>\n",
       "      <th>2</th>\n",
       "      <td>5-F-MQOH</td>\n",
       "      <td>178.07</td>\n",
       "      <td>-0.2</td>\n",
       "      <td>-0.4</td>\n",
       "      <td>-0.5</td>\n",
       "      <td>-0.3</td>\n",
       "      <td>0.08</td>\n",
       "      <td>0.7</td>\n",
       "      <td>1.60</td>\n",
       "      <td>2.8</td>\n",
       "      <td>127.47</td>\n",
       "    </tr>\n",
       "    <tr>\n",
       "      <th>3</th>\n",
       "      <td>5-Me-MQOH</td>\n",
       "      <td>174.09</td>\n",
       "      <td>-0.2</td>\n",
       "      <td>-0.2</td>\n",
       "      <td>0.0</td>\n",
       "      <td>0.8</td>\n",
       "      <td>1.47</td>\n",
       "      <td>2.4</td>\n",
       "      <td>3.65</td>\n",
       "      <td>5.3</td>\n",
       "      <td>129.45</td>\n",
       "    </tr>\n",
       "    <tr>\n",
       "      <th>4</th>\n",
       "      <td>5-NO2-MQOH</td>\n",
       "      <td>205.06</td>\n",
       "      <td>0.2</td>\n",
       "      <td>-0.1</td>\n",
       "      <td>0.0</td>\n",
       "      <td>-0.4</td>\n",
       "      <td>-0.34</td>\n",
       "      <td>0.0</td>\n",
       "      <td>0.59</td>\n",
       "      <td>1.4</td>\n",
       "      <td>137.66</td>\n",
       "    </tr>\n",
       "  </tbody>\n",
       "</table>\n",
       "</div>"
      ],
      "text/plain": [
       "     Compound     m/z  SV 1500  SV 2000  SV 2500  SV 3000  SV 3250  SV 3500  \\\n",
       "0   5-Cl-MQOH  194.04      0.1      0.1      0.3      0.5     0.91      1.6   \n",
       "1   5-CN-MQOH  185.07      0.1      0.1     -0.2     -0.3    -0.14      0.2   \n",
       "2    5-F-MQOH  178.07     -0.2     -0.4     -0.5     -0.3     0.08      0.7   \n",
       "3   5-Me-MQOH  174.09     -0.2     -0.2      0.0      0.8     1.47      2.4   \n",
       "4  5-NO2-MQOH  205.06      0.2     -0.1      0.0     -0.4    -0.34      0.0   \n",
       "\n",
       "   SV 3750  SV 4000  Boltzmann-weighted CCS  \n",
       "0     2.57      3.8                  138.66  \n",
       "1     0.77      1.6                  132.21  \n",
       "2     1.60      2.8                  127.47  \n",
       "3     3.65      5.3                  129.45  \n",
       "4     0.59      1.4                  137.66  "
      ]
     },
     "execution_count": 3,
     "metadata": {},
     "output_type": "execute_result"
    }
   ],
   "source": [
    "data.head()"
   ]
  },
  {
   "cell_type": "code",
   "execution_count": 4,
   "metadata": {},
   "outputs": [
    {
     "name": "stdout",
     "output_type": "stream",
     "text": [
      "There are 409 compounds in the ion mobility dataset.\n"
     ]
    }
   ],
   "source": [
    "compounds = list(data['Compound'])\n",
    "print(f'There are {len(set(compounds))} compounds in the ion mobility dataset.')"
   ]
  },
  {
   "cell_type": "code",
   "execution_count": 5,
   "metadata": {},
   "outputs": [
    {
     "name": "stdout",
     "output_type": "stream",
     "text": [
      "There are 409 compounds in the ion mobility dataset and 409 compounds in the corresponding inchikey file.\n",
      "Of those, 406 overlap between the two files.\n"
     ]
    }
   ],
   "source": [
    "print(f\"There are {len(data['Compound'])} compounds in the ion mobility dataset and {len(inchikey_df['Compound'])} compounds in the corresponding inchikey file.\")\n",
    "print(f\"Of those, {len(set(inchikey_df['Compound'])& set(data['Compound']))} overlap between the two files.\")"
   ]
  },
  {
   "cell_type": "code",
   "execution_count": 25,
   "metadata": {},
   "outputs": [
    {
     "name": "stdout",
     "output_type": "stream",
     "text": [
      "{'(+)-Propoxyphene', 'Norsertraline', 'Noroxycodone'}\n",
      "{'Norsertraline HCL', 'Noroxycodone HCL', 'Propoxyphene'}\n"
     ]
    }
   ],
   "source": [
    "print(set(inchikey_df['Compound']) - set(data['Compound']))\n",
    "print(set(data['Compound']) - set(inchikey_df['Compound']))"
   ]
  },
  {
   "cell_type": "code",
   "execution_count": 27,
   "metadata": {},
   "outputs": [
    {
     "name": "stdout",
     "output_type": "stream",
     "text": [
      "set()\n"
     ]
    }
   ],
   "source": [
    "# changing the compound names in the inchikey df so they correspond to the names in the ims df\n",
    "inchikey_df.loc[inchikey_df['Compound'] == '(+)-Propoxyphene'] = 'Propoxyphene'\n",
    "inchikey_df.loc[inchikey_df['Compound'] == 'Norsertraline'] = 'Norsertraline HCL'\n",
    "inchikey_df.loc[inchikey_df['Compound'] == 'Noroxycodone'] = 'Noroxycodone HCL'\n",
    "print(set(data['Compound']) - set(inchikey_df['Compound']))"
   ]
  },
  {
   "cell_type": "code",
   "execution_count": 8,
   "metadata": {},
   "outputs": [],
   "source": [
    "# # creating a dict of compound names and inchikeys for all compounds in the ion mobility dataset\n",
    "# compound_inchikey_dict = dict(zip(inchikey_df['Compound'], inchikey_df['InChIKey']))"
   ]
  },
  {
   "cell_type": "code",
   "execution_count": 57,
   "metadata": {},
   "outputs": [
    {
     "name": "stdout",
     "output_type": "stream",
     "text": [
      "Of the 409 compounds in the dataset, 96.82% have corresponding InChIKeys.\n"
     ]
    }
   ],
   "source": [
    "inchikeys = []\n",
    "\n",
    "for row in data.iterrows():\n",
    "    try:\n",
    "        compound = row[1][0]\n",
    "        inchikey = inchikey_df.loc[inchikey_df['Compound'] == compound, 'InChI Key'].values[0]\n",
    "        inchikeys.append(inchikey)\n",
    "    except:\n",
    "        inchikeys.append(None)\n",
    "\n",
    "print(f'Of the {len(inchikeys)} compounds in the dataset, {round(100 * (1 - pd.Series(inchikeys).isna().sum()/len(inchikeys)), 2)}% have corresponding InChIKeys.')"
   ]
  },
  {
   "cell_type": "code",
   "execution_count": 103,
   "metadata": {},
   "outputs": [
    {
     "name": "stdout",
     "output_type": "stream",
     "text": [
      "All compound/InChIKey pairs are correct.\n"
     ]
    }
   ],
   "source": [
    "# add column for inchikeys to ims dataset\n",
    "data_w_inchikey = data.copy()\n",
    "data_w_inchikey['InChIKey'] = inchikeys\n",
    "\n",
    "# double check that the InChIKeys column corresponds to correct compounds\n",
    "total_errors = 0\n",
    "for row in data_w_inchikey.iterrows():\n",
    "    inchikey = row[1][-1]\n",
    "    compound = row[1][0]\n",
    "    try:\n",
    "        correct_inchikey = inchikey_df.loc[inchikey_df['Compound'] == compound, 'InChI Key'].values[0]\n",
    "\n",
    "    except:\n",
    "        # for rows with no recorded inchikey, value = None\n",
    "        correct_inchikey = None\n",
    "\n",
    "    # if the inchikeys don't match and at least one of them is not none\n",
    "    if inchikey != correct_inchikey:\n",
    "        if inchikey == True or correct_inchikey == True:\n",
    "            total_errors+=1\n",
    "\n",
    "if not total_errors:\n",
    "    print('All compound/InChIKey pairs are correct.')"
   ]
  },
  {
   "cell_type": "markdown",
   "metadata": {},
   "source": [
    "# Recording SMILES for each compound:\n",
    "---\n",
    "Chemception needs SMILES to generate embeddings. The ion mobility dataset has InCHIKey but no SMILES. Using [PubChem's API](https://pubchem.ncbi.nlm.nih.gov/docs/pug-rest) and code from [this](https://bioinformatics.stackexchange.com/questions/10755/is-there-a-python-package-to-convert-inchi-to-molecular-structures) question on Stack Exchange."
   ]
  },
  {
   "cell_type": "code",
   "execution_count": 107,
   "metadata": {},
   "outputs": [],
   "source": [
    "# get the corresponding SMILES for each InChIKey in the dataset and store in a list\n",
    "smiles_list = []\n",
    "for inchikey in data_w_inchikey['InChIKey']:\n",
    "    try:\n",
    "        r = requests.get(f'https://pubchem.ncbi.nlm.nih.gov/rest/pug/compound/inchikey/{inchikey}/property/CanonicalSMILES/JSON').json()\n",
    "        smiles = r['PropertyTable']['Properties'][0]['CanonicalSMILES']\n",
    "        smiles_list.append(smiles)\n",
    "    except:\n",
    "        smiles_list.append(None)\n",
    "smiles_list\n"
   ]
  },
  {
   "cell_type": "code",
   "execution_count": 122,
   "metadata": {},
   "outputs": [
    {
     "name": "stdout",
     "output_type": "stream",
     "text": [
      "Of the 396 compounds with InChIKeys in the dataset, 93.69% have corresponding SMILES on PubChem.\n"
     ]
    }
   ],
   "source": [
    "all_comps = len(data_w_inchikey['InChIKey'])\n",
    "comp_no_inchikey = data_w_inchikey['InChIKey'].isna().sum()\n",
    "comp_w_inchikey = all_comps - comp_no_inchikey\n",
    "comp_w_smiles = pd.Series(smiles_list).isna().sum()\n",
    "print(f\"Of the {comp_w_inchikey} compounds with InChIKeys in the dataset, {round(100 * (1 - (comp_w_smiles-data_w_inchikey['InChIKey'].isna().sum())/comp_w_inchikey), 2)}% have corresponding SMILES on PubChem.\")"
   ]
  },
  {
   "cell_type": "code",
   "execution_count": 123,
   "metadata": {},
   "outputs": [
    {
     "data": {
      "text/html": [
       "<div>\n",
       "<style scoped>\n",
       "    .dataframe tbody tr th:only-of-type {\n",
       "        vertical-align: middle;\n",
       "    }\n",
       "\n",
       "    .dataframe tbody tr th {\n",
       "        vertical-align: top;\n",
       "    }\n",
       "\n",
       "    .dataframe thead th {\n",
       "        text-align: right;\n",
       "    }\n",
       "</style>\n",
       "<table border=\"1\" class=\"dataframe\">\n",
       "  <thead>\n",
       "    <tr style=\"text-align: right;\">\n",
       "      <th></th>\n",
       "      <th>Compound</th>\n",
       "      <th>m/z</th>\n",
       "      <th>SV 1500</th>\n",
       "      <th>SV 2000</th>\n",
       "      <th>SV 2500</th>\n",
       "      <th>SV 3000</th>\n",
       "      <th>SV 3250</th>\n",
       "      <th>SV 3500</th>\n",
       "      <th>SV 3750</th>\n",
       "      <th>SV 4000</th>\n",
       "      <th>Boltzmann-weighted CCS</th>\n",
       "      <th>InChIKey</th>\n",
       "      <th>SMILES</th>\n",
       "    </tr>\n",
       "  </thead>\n",
       "  <tbody>\n",
       "    <tr>\n",
       "      <th>0</th>\n",
       "      <td>5-Cl-MQOH</td>\n",
       "      <td>194.04</td>\n",
       "      <td>0.1</td>\n",
       "      <td>0.1</td>\n",
       "      <td>0.3</td>\n",
       "      <td>0.5</td>\n",
       "      <td>0.91</td>\n",
       "      <td>1.6</td>\n",
       "      <td>2.57</td>\n",
       "      <td>3.8</td>\n",
       "      <td>138.66</td>\n",
       "      <td>OPQODOXIDNYMKA-UHFFFAOYSA-N</td>\n",
       "      <td>CC1=NC2=C(C=CC(=C2C=C1)Cl)O</td>\n",
       "    </tr>\n",
       "    <tr>\n",
       "      <th>1</th>\n",
       "      <td>5-CN-MQOH</td>\n",
       "      <td>185.07</td>\n",
       "      <td>0.1</td>\n",
       "      <td>0.1</td>\n",
       "      <td>-0.2</td>\n",
       "      <td>-0.3</td>\n",
       "      <td>-0.14</td>\n",
       "      <td>0.2</td>\n",
       "      <td>0.77</td>\n",
       "      <td>1.6</td>\n",
       "      <td>132.21</td>\n",
       "      <td>NWUAFVKGPOBCOA-UHFFFAOYSA-N</td>\n",
       "      <td>CC1=NC2=C(C=CC(=C2C=C1)C#N)O</td>\n",
       "    </tr>\n",
       "    <tr>\n",
       "      <th>2</th>\n",
       "      <td>5-F-MQOH</td>\n",
       "      <td>178.07</td>\n",
       "      <td>-0.2</td>\n",
       "      <td>-0.4</td>\n",
       "      <td>-0.5</td>\n",
       "      <td>-0.3</td>\n",
       "      <td>0.08</td>\n",
       "      <td>0.7</td>\n",
       "      <td>1.60</td>\n",
       "      <td>2.8</td>\n",
       "      <td>127.47</td>\n",
       "      <td>YMDMCOFPYPOKJD-UHFFFAOYSA-N</td>\n",
       "      <td>CC1=NC2=C(C=CC(=C2C=C1)F)O</td>\n",
       "    </tr>\n",
       "    <tr>\n",
       "      <th>3</th>\n",
       "      <td>5-Me-MQOH</td>\n",
       "      <td>174.09</td>\n",
       "      <td>-0.2</td>\n",
       "      <td>-0.2</td>\n",
       "      <td>0.0</td>\n",
       "      <td>0.8</td>\n",
       "      <td>1.47</td>\n",
       "      <td>2.4</td>\n",
       "      <td>3.65</td>\n",
       "      <td>5.3</td>\n",
       "      <td>129.45</td>\n",
       "      <td>GQUFSGXAEOXQJC-UHFFFAOYSA-N</td>\n",
       "      <td>CC1=C2C=CC(=NC2=C(C=C1)O)C</td>\n",
       "    </tr>\n",
       "    <tr>\n",
       "      <th>4</th>\n",
       "      <td>5-NO2-MQOH</td>\n",
       "      <td>205.06</td>\n",
       "      <td>0.2</td>\n",
       "      <td>-0.1</td>\n",
       "      <td>0.0</td>\n",
       "      <td>-0.4</td>\n",
       "      <td>-0.34</td>\n",
       "      <td>0.0</td>\n",
       "      <td>0.59</td>\n",
       "      <td>1.4</td>\n",
       "      <td>137.66</td>\n",
       "      <td>XYPACLZTPMHPLB-UHFFFAOYSA-N</td>\n",
       "      <td>CC1=NC2=C(C=CC(=C2C=C1)[N+](=O)[O-])O</td>\n",
       "    </tr>\n",
       "  </tbody>\n",
       "</table>\n",
       "</div>"
      ],
      "text/plain": [
       "     Compound     m/z  SV 1500  SV 2000  SV 2500  SV 3000  SV 3250  SV 3500  \\\n",
       "0   5-Cl-MQOH  194.04      0.1      0.1      0.3      0.5     0.91      1.6   \n",
       "1   5-CN-MQOH  185.07      0.1      0.1     -0.2     -0.3    -0.14      0.2   \n",
       "2    5-F-MQOH  178.07     -0.2     -0.4     -0.5     -0.3     0.08      0.7   \n",
       "3   5-Me-MQOH  174.09     -0.2     -0.2      0.0      0.8     1.47      2.4   \n",
       "4  5-NO2-MQOH  205.06      0.2     -0.1      0.0     -0.4    -0.34      0.0   \n",
       "\n",
       "   SV 3750  SV 4000  Boltzmann-weighted CCS                     InChIKey  \\\n",
       "0     2.57      3.8                  138.66  OPQODOXIDNYMKA-UHFFFAOYSA-N   \n",
       "1     0.77      1.6                  132.21  NWUAFVKGPOBCOA-UHFFFAOYSA-N   \n",
       "2     1.60      2.8                  127.47  YMDMCOFPYPOKJD-UHFFFAOYSA-N   \n",
       "3     3.65      5.3                  129.45  GQUFSGXAEOXQJC-UHFFFAOYSA-N   \n",
       "4     0.59      1.4                  137.66  XYPACLZTPMHPLB-UHFFFAOYSA-N   \n",
       "\n",
       "                                  SMILES  \n",
       "0            CC1=NC2=C(C=CC(=C2C=C1)Cl)O  \n",
       "1           CC1=NC2=C(C=CC(=C2C=C1)C#N)O  \n",
       "2             CC1=NC2=C(C=CC(=C2C=C1)F)O  \n",
       "3             CC1=C2C=CC(=NC2=C(C=C1)O)C  \n",
       "4  CC1=NC2=C(C=CC(=C2C=C1)[N+](=O)[O-])O  "
      ]
     },
     "execution_count": 123,
     "metadata": {},
     "output_type": "execute_result"
    }
   ],
   "source": [
    "data_w_inchikey['SMILES'] = smiles_list\n",
    "data_w_inchikey.head()"
   ]
  },
  {
   "cell_type": "markdown",
   "metadata": {},
   "source": [
    "# Retrieving Chemception embeddings based on compound SMILES:\n",
    "---"
   ]
  },
  {
   "cell_type": "code",
   "execution_count": 133,
   "metadata": {},
   "outputs": [
    {
     "ename": "FileNotFoundError",
     "evalue": "[Errno 2] No such file or directory: 'data/BKG_SIM_ims_acbc_train_v1.1.09_spectra.feather'",
     "output_type": "error",
     "traceback": [
      "\u001b[0;31m---------------------------------------------------------------------------\u001b[0m",
      "\u001b[0;31mFileNotFoundError\u001b[0m                         Traceback (most recent call last)",
      "Cell \u001b[0;32mIn[133], line 2\u001b[0m\n\u001b[1;32m      1\u001b[0m metadata \u001b[38;5;241m=\u001b[39m pd\u001b[38;5;241m.\u001b[39mread_feather(\u001b[38;5;124m'\u001b[39m\u001b[38;5;124m/home/cmdunham/ChemicalDataGeneration/data/BKG_SIM_ims_acbc_train_v1.1.09_meta.feather\u001b[39m\u001b[38;5;124m'\u001b[39m)\n\u001b[0;32m----> 2\u001b[0m spectra \u001b[38;5;241m=\u001b[39m \u001b[43mpd\u001b[49m\u001b[38;5;241;43m.\u001b[39;49m\u001b[43mread_feather\u001b[49m\u001b[43m(\u001b[49m\u001b[38;5;124;43m'\u001b[39;49m\u001b[38;5;124;43mdata/BKG_SIM_ims_acbc_train_v1.1.09_spectra.feather\u001b[39;49m\u001b[38;5;124;43m'\u001b[39;49m\u001b[43m)\u001b[49m\n\u001b[1;32m      3\u001b[0m spectra\u001b[38;5;241m.\u001b[39mhead()\n",
      "File \u001b[0;32m~/ChemicalDataGeneration/chem_data_gen/lib/python3.8/site-packages/pandas/io/feather_format.py:128\u001b[0m, in \u001b[0;36mread_feather\u001b[0;34m(path, columns, use_threads, storage_options)\u001b[0m\n\u001b[1;32m    125\u001b[0m import_optional_dependency(\u001b[38;5;124m\"\u001b[39m\u001b[38;5;124mpyarrow\u001b[39m\u001b[38;5;124m\"\u001b[39m)\n\u001b[1;32m    126\u001b[0m \u001b[38;5;28;01mfrom\u001b[39;00m \u001b[38;5;21;01mpyarrow\u001b[39;00m \u001b[38;5;28;01mimport\u001b[39;00m feather\n\u001b[0;32m--> 128\u001b[0m \u001b[38;5;28;01mwith\u001b[39;00m \u001b[43mget_handle\u001b[49m\u001b[43m(\u001b[49m\n\u001b[1;32m    129\u001b[0m \u001b[43m    \u001b[49m\u001b[43mpath\u001b[49m\u001b[43m,\u001b[49m\u001b[43m \u001b[49m\u001b[38;5;124;43m\"\u001b[39;49m\u001b[38;5;124;43mrb\u001b[39;49m\u001b[38;5;124;43m\"\u001b[39;49m\u001b[43m,\u001b[49m\u001b[43m \u001b[49m\u001b[43mstorage_options\u001b[49m\u001b[38;5;241;43m=\u001b[39;49m\u001b[43mstorage_options\u001b[49m\u001b[43m,\u001b[49m\u001b[43m \u001b[49m\u001b[43mis_text\u001b[49m\u001b[38;5;241;43m=\u001b[39;49m\u001b[38;5;28;43;01mFalse\u001b[39;49;00m\n\u001b[1;32m    130\u001b[0m \u001b[43m\u001b[49m\u001b[43m)\u001b[49m \u001b[38;5;28;01mas\u001b[39;00m handles:\n\u001b[1;32m    132\u001b[0m     \u001b[38;5;28;01mreturn\u001b[39;00m feather\u001b[38;5;241m.\u001b[39mread_feather(\n\u001b[1;32m    133\u001b[0m         handles\u001b[38;5;241m.\u001b[39mhandle, columns\u001b[38;5;241m=\u001b[39mcolumns, use_threads\u001b[38;5;241m=\u001b[39m\u001b[38;5;28mbool\u001b[39m(use_threads)\n\u001b[1;32m    134\u001b[0m     )\n",
      "File \u001b[0;32m~/ChemicalDataGeneration/chem_data_gen/lib/python3.8/site-packages/pandas/io/common.py:865\u001b[0m, in \u001b[0;36mget_handle\u001b[0;34m(path_or_buf, mode, encoding, compression, memory_map, is_text, errors, storage_options)\u001b[0m\n\u001b[1;32m    856\u001b[0m         handle \u001b[38;5;241m=\u001b[39m \u001b[38;5;28mopen\u001b[39m(\n\u001b[1;32m    857\u001b[0m             handle,\n\u001b[1;32m    858\u001b[0m             ioargs\u001b[38;5;241m.\u001b[39mmode,\n\u001b[0;32m   (...)\u001b[0m\n\u001b[1;32m    861\u001b[0m             newline\u001b[38;5;241m=\u001b[39m\u001b[38;5;124m\"\u001b[39m\u001b[38;5;124m\"\u001b[39m,\n\u001b[1;32m    862\u001b[0m         )\n\u001b[1;32m    863\u001b[0m     \u001b[38;5;28;01melse\u001b[39;00m:\n\u001b[1;32m    864\u001b[0m         \u001b[38;5;66;03m# Binary mode\u001b[39;00m\n\u001b[0;32m--> 865\u001b[0m         handle \u001b[38;5;241m=\u001b[39m \u001b[38;5;28;43mopen\u001b[39;49m\u001b[43m(\u001b[49m\u001b[43mhandle\u001b[49m\u001b[43m,\u001b[49m\u001b[43m \u001b[49m\u001b[43mioargs\u001b[49m\u001b[38;5;241;43m.\u001b[39;49m\u001b[43mmode\u001b[49m\u001b[43m)\u001b[49m\n\u001b[1;32m    866\u001b[0m     handles\u001b[38;5;241m.\u001b[39mappend(handle)\n\u001b[1;32m    868\u001b[0m \u001b[38;5;66;03m# Convert BytesIO or file objects passed with an encoding\u001b[39;00m\n",
      "\u001b[0;31mFileNotFoundError\u001b[0m: [Errno 2] No such file or directory: 'data/BKG_SIM_ims_acbc_train_v1.1.09_spectra.feather'"
     ]
    }
   ],
   "source": [
    "metadata = pd.read_feather('/home/cmdunham/ChemicalDataGeneration/data/BKG_SIM_ims_acbc_train_v1.1.09_meta.feather')\n",
    "spectra = pd.read_feather('data/BKG_SIM_ims_acbc_train_v1.1.09_spectra.feather')\n",
    "spectra.head()"
   ]
  },
  {
   "cell_type": "code",
   "execution_count": 132,
   "metadata": {},
   "outputs": [
    {
     "data": {
      "text/plain": [
       "64"
      ]
     },
     "execution_count": 132,
     "metadata": {},
     "output_type": "execute_result"
    }
   ],
   "source": [
    "len('7495327EC0774220E92D21BDA65FE85126767BB41A298837780AA23DEB51B2E8')\n",
    "len('9d64b368fb65d4faccfd2fb7be29948d9006f4aec658bb3f36a15bd77b1efcca')\n",
    "len('BB124FC7D59E8733134E857C16E93A15ECCC4C94CCF4716BBF02B4ADADB24CE9')"
   ]
  },
  {
   "cell_type": "code",
   "execution_count": 129,
   "metadata": {},
   "outputs": [
    {
     "data": {
      "text/html": [
       "<div>\n",
       "<style scoped>\n",
       "    .dataframe tbody tr th:only-of-type {\n",
       "        vertical-align: middle;\n",
       "    }\n",
       "\n",
       "    .dataframe tbody tr th {\n",
       "        vertical-align: top;\n",
       "    }\n",
       "\n",
       "    .dataframe thead th {\n",
       "        text-align: right;\n",
       "    }\n",
       "</style>\n",
       "<table border=\"1\" class=\"dataframe\">\n",
       "  <thead>\n",
       "    <tr style=\"text-align: right;\">\n",
       "      <th></th>\n",
       "      <th>level_0</th>\n",
       "      <th>index</th>\n",
       "      <th>Filename</th>\n",
       "      <th>TemperatureKelvin</th>\n",
       "      <th>PressureBar</th>\n",
       "      <th>PosPeak1Mobility</th>\n",
       "      <th>PosPeak2Mobility</th>\n",
       "      <th>PosPeak3Mobility</th>\n",
       "      <th>PosPeak1Amplitude</th>\n",
       "      <th>PosPeak2Amplitude</th>\n",
       "      <th>PosPeak3Amplitude</th>\n",
       "      <th>NegPeak1Mobility</th>\n",
       "      <th>NegPeak2Mobility</th>\n",
       "      <th>NegPeak3Mobility</th>\n",
       "      <th>NegPeak1Amplitude</th>\n",
       "      <th>NegPeak2Amplitude</th>\n",
       "      <th>NegPeak3Amplitude</th>\n",
       "      <th>Label</th>\n",
       "    </tr>\n",
       "  </thead>\n",
       "  <tbody>\n",
       "    <tr>\n",
       "      <th>0</th>\n",
       "      <td>374419</td>\n",
       "      <td>0</td>\n",
       "      <td>JCAD_0053_2022-01-20-09-27-47_2022-01-20-14-27...</td>\n",
       "      <td>NaN</td>\n",
       "      <td>1019.5</td>\n",
       "      <td>2.290</td>\n",
       "      <td>0.0</td>\n",
       "      <td>0.0</td>\n",
       "      <td>7776.0</td>\n",
       "      <td>0.0</td>\n",
       "      <td>0.0</td>\n",
       "      <td>2.129</td>\n",
       "      <td>0.0</td>\n",
       "      <td>0.0</td>\n",
       "      <td>7279.0</td>\n",
       "      <td>0.0</td>\n",
       "      <td>0.0</td>\n",
       "      <td>BKG</td>\n",
       "    </tr>\n",
       "    <tr>\n",
       "      <th>1</th>\n",
       "      <td>531524</td>\n",
       "      <td>0</td>\n",
       "      <td>IMS_VX_90%_0053_2022-04-25-09-10-20_2022-04-25...</td>\n",
       "      <td>NaN</td>\n",
       "      <td>1020.3</td>\n",
       "      <td>2.283</td>\n",
       "      <td>0.0</td>\n",
       "      <td>0.0</td>\n",
       "      <td>7530.0</td>\n",
       "      <td>0.0</td>\n",
       "      <td>0.0</td>\n",
       "      <td>2.118</td>\n",
       "      <td>0.0</td>\n",
       "      <td>0.0</td>\n",
       "      <td>7062.0</td>\n",
       "      <td>0.0</td>\n",
       "      <td>0.0</td>\n",
       "      <td>BKG</td>\n",
       "    </tr>\n",
       "    <tr>\n",
       "      <th>2</th>\n",
       "      <td>315950</td>\n",
       "      <td>0</td>\n",
       "      <td>JCAD_0053_2022-01-20-09-34-32_2022-01-20-14-34...</td>\n",
       "      <td>NaN</td>\n",
       "      <td>1019.5</td>\n",
       "      <td>2.291</td>\n",
       "      <td>0.0</td>\n",
       "      <td>0.0</td>\n",
       "      <td>7690.0</td>\n",
       "      <td>0.0</td>\n",
       "      <td>0.0</td>\n",
       "      <td>2.130</td>\n",
       "      <td>0.0</td>\n",
       "      <td>0.0</td>\n",
       "      <td>7317.0</td>\n",
       "      <td>0.0</td>\n",
       "      <td>0.0</td>\n",
       "      <td>BKG</td>\n",
       "    </tr>\n",
       "    <tr>\n",
       "      <th>3</th>\n",
       "      <td>374517</td>\n",
       "      <td>0</td>\n",
       "      <td>JCAD_0053_2022-01-20-09-24-09_2022-01-20-14-24...</td>\n",
       "      <td>NaN</td>\n",
       "      <td>1019.5</td>\n",
       "      <td>2.291</td>\n",
       "      <td>0.0</td>\n",
       "      <td>0.0</td>\n",
       "      <td>7796.0</td>\n",
       "      <td>0.0</td>\n",
       "      <td>0.0</td>\n",
       "      <td>2.129</td>\n",
       "      <td>0.0</td>\n",
       "      <td>0.0</td>\n",
       "      <td>7312.0</td>\n",
       "      <td>0.0</td>\n",
       "      <td>0.0</td>\n",
       "      <td>BKG</td>\n",
       "    </tr>\n",
       "    <tr>\n",
       "      <th>4</th>\n",
       "      <td>374610</td>\n",
       "      <td>0</td>\n",
       "      <td>JCAD_0053_2022-01-20-09-17-04_2022-01-20-14-17...</td>\n",
       "      <td>NaN</td>\n",
       "      <td>1019.2</td>\n",
       "      <td>2.289</td>\n",
       "      <td>0.0</td>\n",
       "      <td>0.0</td>\n",
       "      <td>7682.0</td>\n",
       "      <td>0.0</td>\n",
       "      <td>0.0</td>\n",
       "      <td>2.128</td>\n",
       "      <td>0.0</td>\n",
       "      <td>0.0</td>\n",
       "      <td>7373.0</td>\n",
       "      <td>0.0</td>\n",
       "      <td>0.0</td>\n",
       "      <td>BKG</td>\n",
       "    </tr>\n",
       "  </tbody>\n",
       "</table>\n",
       "</div>"
      ],
      "text/plain": [
       "   level_0  index                                           Filename  \\\n",
       "0   374419      0  JCAD_0053_2022-01-20-09-27-47_2022-01-20-14-27...   \n",
       "1   531524      0  IMS_VX_90%_0053_2022-04-25-09-10-20_2022-04-25...   \n",
       "2   315950      0  JCAD_0053_2022-01-20-09-34-32_2022-01-20-14-34...   \n",
       "3   374517      0  JCAD_0053_2022-01-20-09-24-09_2022-01-20-14-24...   \n",
       "4   374610      0  JCAD_0053_2022-01-20-09-17-04_2022-01-20-14-17...   \n",
       "\n",
       "   TemperatureKelvin  PressureBar  PosPeak1Mobility  PosPeak2Mobility  \\\n",
       "0                NaN       1019.5             2.290               0.0   \n",
       "1                NaN       1020.3             2.283               0.0   \n",
       "2                NaN       1019.5             2.291               0.0   \n",
       "3                NaN       1019.5             2.291               0.0   \n",
       "4                NaN       1019.2             2.289               0.0   \n",
       "\n",
       "   PosPeak3Mobility  PosPeak1Amplitude  PosPeak2Amplitude  PosPeak3Amplitude  \\\n",
       "0               0.0             7776.0                0.0                0.0   \n",
       "1               0.0             7530.0                0.0                0.0   \n",
       "2               0.0             7690.0                0.0                0.0   \n",
       "3               0.0             7796.0                0.0                0.0   \n",
       "4               0.0             7682.0                0.0                0.0   \n",
       "\n",
       "   NegPeak1Mobility  NegPeak2Mobility  NegPeak3Mobility  NegPeak1Amplitude  \\\n",
       "0             2.129               0.0               0.0             7279.0   \n",
       "1             2.118               0.0               0.0             7062.0   \n",
       "2             2.130               0.0               0.0             7317.0   \n",
       "3             2.129               0.0               0.0             7312.0   \n",
       "4             2.128               0.0               0.0             7373.0   \n",
       "\n",
       "   NegPeak2Amplitude  NegPeak3Amplitude Label  \n",
       "0                0.0                0.0   BKG  \n",
       "1                0.0                0.0   BKG  \n",
       "2                0.0                0.0   BKG  \n",
       "3                0.0                0.0   BKG  \n",
       "4                0.0                0.0   BKG  "
      ]
     },
     "execution_count": 129,
     "metadata": {},
     "output_type": "execute_result"
    }
   ],
   "source": [
    "metadata.head()"
   ]
  },
  {
   "cell_type": "markdown",
   "metadata": {},
   "source": [
    "# Using MoNA as InChIKey lookup:\n",
    "---\n",
    "**This was the previous approach before finding the PubChem API:**\n",
    "\n",
    "Since the MoNA dataset has both SMILES and InChIKey, using that as a way to go from one to the other. I haven't found a way to do this more efficiently, the other option I'm aware of is manually looking up each compound's InCHIKey somewhere like NIST Webbook, which is VERY time consuming and prone to human error (namely me copying things incorrectly). \n",
    "\n",
    "MoNA samples contain SMILES in the comment, not as a property, so the SMILES must be pulled out of the comment to use."
   ]
  },
  {
   "cell_type": "code",
   "execution_count": 12,
   "metadata": {},
   "outputs": [],
   "source": [
    "def format_smiles(mol):\n",
    "    \"\"\"\n",
    "    Extracts the SMILES string from the COMMENT property of an rdkit molecule.\n",
    "\n",
    "    Parameters:\n",
    "    mol: An rdkit molecule.\n",
    "\n",
    "    Returns:\n",
    "    str or None: The SMILES string if found, otherwise None.\n",
    "    \"\"\"\n",
    "    \n",
    "    comment = mol.GetProp('COMMENT').split('\\n')\n",
    "    smiles = None\n",
    "    for line in comment:\n",
    "        if line.split('=')[0] == 'SMILES':\n",
    "            smiles = line.split('SMILES=')[1]\n",
    "\n",
    "    return smiles"
   ]
  },
  {
   "cell_type": "code",
   "execution_count": 29,
   "metadata": {},
   "outputs": [],
   "source": [
    "# get SMILES for any compounds in the MoNA database that are also in the Ion Mobiity dataset and create a dictionary with inchikeys as keys and SMILES as values\n",
    "overlapping_mol_inchikey_smiles_dict = {}\n",
    "\n",
    "for mol in suppl:\n",
    "    if mol is not None:\n",
    "        try:\n",
    "            inchikey = mol.GetProp('INCHIKEY')\n",
    "\n",
    "        # ignore any mols without inchikeys\n",
    "        except:\n",
    "            continue\n",
    "        \n",
    "        # if this compound is in the ion mobility dataset\n",
    "        if inchikey in compound_inchikey_dict.values():\n",
    "            # if this compound's smiles hasn't been recorded yet\n",
    "            if not inchikey in overlapping_mol_inchikey_smiles_dict.keys():\n",
    "                smiles = format_smiles(mol)\n",
    "                if smiles:\n",
    "                    overlapping_mol_inchikey_smiles_dict[inchikey] = smiles\n"
   ]
  },
  {
   "cell_type": "code",
   "execution_count": 30,
   "metadata": {},
   "outputs": [],
   "source": [
    "# Get a list of compounds from the ion mobility dataset that also appear in the MoNA dataset.\n",
    "compounds_in_both_datasets = []\n",
    "for mol in suppl:\n",
    "    if mol is not None:\n",
    "        if mol.GetProp('NAME') in compounds:\n",
    "            compounds_in_both_datasets.append(mol.GetProp('NAME'))"
   ]
  },
  {
   "cell_type": "markdown",
   "metadata": {},
   "source": [
    "We see that there are more InChIKeys in common between the datasets than there are compounds names. This is likely due to the fact that InChIKeys are unique identifiers while the same chemical might can have multiple compound names, meaning that it could be listed one way in one dataset and another way in another."
   ]
  },
  {
   "cell_type": "code",
   "execution_count": 31,
   "metadata": {},
   "outputs": [
    {
     "name": "stdout",
     "output_type": "stream",
     "text": [
      "There are 48 compound names from the Ion Mobility dataset that appear in the MoNA dataset compared to 76 inchikeys that appear in both datasets.\n"
     ]
    }
   ],
   "source": [
    "print(f'There are {len(set(compounds_in_both_datasets))} compound names from the Ion Mobility dataset that appear in the MoNA dataset compared to {len(overlapping_mol_inchikey_smiles_dict)} inchikeys that appear in both datasets.')"
   ]
  },
  {
   "cell_type": "code",
   "execution_count": 32,
   "metadata": {},
   "outputs": [],
   "source": [
    "# make lists of inchikeys and SMILES to add as columns to the IMS dataframe\n",
    "inchikeys = []\n",
    "smiles = []\n",
    "\n",
    "for mol in compounds:\n",
    "    inchikey = compound_inchikey_dict[mol]\n",
    "    \n",
    "    # look mol up in dict and append corresponding inchikey to list\n",
    "    inchikeys.append(inchikey)\n",
    "    \n",
    "    # if inchikey is in the dict of mols with SMILES from MoNA, get the SMILES and append to list\n",
    "    if inchikey in overlapping_mol_inchikey_smiles_dict.keys():\n",
    "        smiles.append(overlapping_mol_inchikey_smiles_dict[inchikey])\n",
    "    else:\n",
    "        smiles.append(None)"
   ]
  },
  {
   "cell_type": "code",
   "execution_count": 33,
   "metadata": {},
   "outputs": [
    {
     "name": "stdout",
     "output_type": "stream",
     "text": [
      "All SMILES/InChIKey pairs match what is specified in the lookup dictionary.\n"
     ]
    }
   ],
   "source": [
    "# Double checking that the recorded SMILES/InChIKey pairs correspond\n",
    "total_errors = 0\n",
    "for i, smile in enumerate(smiles):\n",
    "    if smile:\n",
    "        if not overlapping_mol_inchikey_smiles_dict[inchikeys[i]] == smiles[i]:\n",
    "            print(f'SMILES/InChIKey pair at {i} does not match what is specified in the lookup dictionary.')\n",
    "            total_errors+=1\n",
    "if not total_errors:\n",
    "    print('All SMILES/InChIKey pairs match what is specified in the lookup dictionary.')"
   ]
  },
  {
   "cell_type": "markdown",
   "metadata": {},
   "source": [
    "Adding columns for InChIKey and SMILES. InChIKey will be needed for identification, SMILES for retrieving Chemception embeddings."
   ]
  },
  {
   "cell_type": "code",
   "execution_count": 34,
   "metadata": {},
   "outputs": [
    {
     "data": {
      "text/html": [
       "<div>\n",
       "<style scoped>\n",
       "    .dataframe tbody tr th:only-of-type {\n",
       "        vertical-align: middle;\n",
       "    }\n",
       "\n",
       "    .dataframe tbody tr th {\n",
       "        vertical-align: top;\n",
       "    }\n",
       "\n",
       "    .dataframe thead th {\n",
       "        text-align: right;\n",
       "    }\n",
       "</style>\n",
       "<table border=\"1\" class=\"dataframe\">\n",
       "  <thead>\n",
       "    <tr style=\"text-align: right;\">\n",
       "      <th></th>\n",
       "      <th>Compound</th>\n",
       "      <th>m/z</th>\n",
       "      <th>SV 1500</th>\n",
       "      <th>SV 2000</th>\n",
       "      <th>SV 2500</th>\n",
       "      <th>SV 3000</th>\n",
       "      <th>SV 3250</th>\n",
       "      <th>SV 3500</th>\n",
       "      <th>SV 3750</th>\n",
       "      <th>SV 4000</th>\n",
       "      <th>Boltzmann-weighted CCS</th>\n",
       "      <th>SMILES</th>\n",
       "      <th>InChIKey</th>\n",
       "    </tr>\n",
       "  </thead>\n",
       "  <tbody>\n",
       "    <tr>\n",
       "      <th>0</th>\n",
       "      <td>6-methyl-2-MQ</td>\n",
       "      <td>158.10</td>\n",
       "      <td>0.20</td>\n",
       "      <td>0.20</td>\n",
       "      <td>0.60</td>\n",
       "      <td>1.90</td>\n",
       "      <td>3.03</td>\n",
       "      <td>4.50</td>\n",
       "      <td>6.32</td>\n",
       "      <td>8.50</td>\n",
       "      <td>126.14</td>\n",
       "      <td>Cc(c2)cc(c1)c(c2)nc(C)c1</td>\n",
       "      <td>JJPSZKIOGBRMHK-UHFFFAOYSA-N</td>\n",
       "    </tr>\n",
       "    <tr>\n",
       "      <th>1</th>\n",
       "      <td>MQOH</td>\n",
       "      <td>160.08</td>\n",
       "      <td>-0.40</td>\n",
       "      <td>-0.60</td>\n",
       "      <td>-0.70</td>\n",
       "      <td>-0.40</td>\n",
       "      <td>0.06</td>\n",
       "      <td>0.80</td>\n",
       "      <td>1.89</td>\n",
       "      <td>3.40</td>\n",
       "      <td>125.75</td>\n",
       "      <td>Cc(c1)nc(c2)c(ccc2)c1</td>\n",
       "      <td>SMUQFGGVLNAIOZ-UHFFFAOYSA-N</td>\n",
       "    </tr>\n",
       "    <tr>\n",
       "      <th>2</th>\n",
       "      <td>Ametryn</td>\n",
       "      <td>228.13</td>\n",
       "      <td>0.44</td>\n",
       "      <td>1.15</td>\n",
       "      <td>2.38</td>\n",
       "      <td>4.04</td>\n",
       "      <td>5.07</td>\n",
       "      <td>6.37</td>\n",
       "      <td>7.67</td>\n",
       "      <td>9.29</td>\n",
       "      <td>151.92</td>\n",
       "      <td>CCNc(n1)nc(SC)nc(NC(C)C)1</td>\n",
       "      <td>RQVYBGPQFYCBGX-UHFFFAOYSA-N</td>\n",
       "    </tr>\n",
       "    <tr>\n",
       "      <th>3</th>\n",
       "      <td>Azoxystrobin</td>\n",
       "      <td>404.13</td>\n",
       "      <td>0.66</td>\n",
       "      <td>1.65</td>\n",
       "      <td>3.14</td>\n",
       "      <td>5.46</td>\n",
       "      <td>7.03</td>\n",
       "      <td>8.77</td>\n",
       "      <td>10.78</td>\n",
       "      <td>13.03</td>\n",
       "      <td>203.24</td>\n",
       "      <td>CO/C=C(\\C1=CC=CC=C1OC2=NC=NC(=C2)OC3=CC=CC=C3C...</td>\n",
       "      <td>WFDXOXNFNRHQEC-GHRIWEEISA-N</td>\n",
       "    </tr>\n",
       "    <tr>\n",
       "      <th>4</th>\n",
       "      <td>Dimethoate</td>\n",
       "      <td>230.01</td>\n",
       "      <td>0.48</td>\n",
       "      <td>1.32</td>\n",
       "      <td>2.71</td>\n",
       "      <td>4.80</td>\n",
       "      <td>6.18</td>\n",
       "      <td>7.88</td>\n",
       "      <td>9.57</td>\n",
       "      <td>11.49</td>\n",
       "      <td>140.98</td>\n",
       "      <td>CNC(=O)CSP(=S)(OC)OC</td>\n",
       "      <td>MCWXGJITAZMZEV-UHFFFAOYSA-N</td>\n",
       "    </tr>\n",
       "  </tbody>\n",
       "</table>\n",
       "</div>"
      ],
      "text/plain": [
       "        Compound     m/z  SV 1500  SV 2000  SV 2500  SV 3000  SV 3250  \\\n",
       "0  6-methyl-2-MQ  158.10     0.20     0.20     0.60     1.90     3.03   \n",
       "1           MQOH  160.08    -0.40    -0.60    -0.70    -0.40     0.06   \n",
       "2        Ametryn  228.13     0.44     1.15     2.38     4.04     5.07   \n",
       "3   Azoxystrobin  404.13     0.66     1.65     3.14     5.46     7.03   \n",
       "4     Dimethoate  230.01     0.48     1.32     2.71     4.80     6.18   \n",
       "\n",
       "   SV 3500  SV 3750  SV 4000  Boltzmann-weighted CCS  \\\n",
       "0     4.50     6.32     8.50                  126.14   \n",
       "1     0.80     1.89     3.40                  125.75   \n",
       "2     6.37     7.67     9.29                  151.92   \n",
       "3     8.77    10.78    13.03                  203.24   \n",
       "4     7.88     9.57    11.49                  140.98   \n",
       "\n",
       "                                              SMILES  \\\n",
       "0                           Cc(c2)cc(c1)c(c2)nc(C)c1   \n",
       "1                              Cc(c1)nc(c2)c(ccc2)c1   \n",
       "2                          CCNc(n1)nc(SC)nc(NC(C)C)1   \n",
       "3  CO/C=C(\\C1=CC=CC=C1OC2=NC=NC(=C2)OC3=CC=CC=C3C...   \n",
       "4                               CNC(=O)CSP(=S)(OC)OC   \n",
       "\n",
       "                      InChIKey  \n",
       "0  JJPSZKIOGBRMHK-UHFFFAOYSA-N  \n",
       "1  SMUQFGGVLNAIOZ-UHFFFAOYSA-N  \n",
       "2  RQVYBGPQFYCBGX-UHFFFAOYSA-N  \n",
       "3  WFDXOXNFNRHQEC-GHRIWEEISA-N  \n",
       "4  MCWXGJITAZMZEV-UHFFFAOYSA-N  "
      ]
     },
     "execution_count": 34,
     "metadata": {},
     "output_type": "execute_result"
    }
   ],
   "source": [
    "ims_data = data.copy()\n",
    "ims_data['SMILES'] = smiles\n",
    "ims_data['InChIKey'] = inchikeys\n",
    "ims_data = ims_data.dropna(subset=['SMILES']).reset_index(drop=True)\n",
    "# ims_data.drop(columns=['Compound'], inplace=True)\n",
    "ims_data.head()"
   ]
  }
 ],
 "metadata": {
  "kernelspec": {
   "display_name": "chem_data_gen",
   "language": "python",
   "name": "python3"
  },
  "language_info": {
   "codemirror_mode": {
    "name": "ipython",
    "version": 3
   },
   "file_extension": ".py",
   "mimetype": "text/x-python",
   "name": "python",
   "nbconvert_exporter": "python",
   "pygments_lexer": "ipython3",
   "version": "3.8.10"
  }
 },
 "nbformat": 4,
 "nbformat_minor": 2
}
