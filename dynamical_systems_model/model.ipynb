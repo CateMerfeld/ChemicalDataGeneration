{
 "cells": [
  {
   "cell_type": "code",
   "execution_count": 1,
   "metadata": {},
   "outputs": [
    {
     "name": "stdout",
     "output_type": "stream",
     "text": [
      "Requirement already satisfied: wandb in /home/cmdunham/ChemicalDataGeneration/chem_data_gen/lib/python3.8/site-packages (0.17.0)\n",
      "Requirement already satisfied: protobuf!=4.21.0,<5,>=3.12.0; python_version < \"3.9\" and sys_platform == \"linux\" in /home/cmdunham/ChemicalDataGeneration/chem_data_gen/lib/python3.8/site-packages (from wandb) (4.25.4)\n",
      "Requirement already satisfied: platformdirs in /home/cmdunham/ChemicalDataGeneration/chem_data_gen/lib/python3.8/site-packages (from wandb) (4.2.2)\n",
      "Requirement already satisfied: docker-pycreds>=0.4.0 in /home/cmdunham/ChemicalDataGeneration/chem_data_gen/lib/python3.8/site-packages (from wandb) (0.4.0)\n",
      "Requirement already satisfied: click!=8.0.0,>=7.1 in /home/cmdunham/ChemicalDataGeneration/chem_data_gen/lib/python3.8/site-packages (from wandb) (8.1.7)\n",
      "Requirement already satisfied: setproctitle in /home/cmdunham/ChemicalDataGeneration/chem_data_gen/lib/python3.8/site-packages (from wandb) (1.3.3)\n",
      "Requirement already satisfied: pyyaml in /home/cmdunham/ChemicalDataGeneration/chem_data_gen/lib/python3.8/site-packages (from wandb) (6.0.2)\n",
      "Requirement already satisfied: psutil>=5.0.0 in /home/cmdunham/ChemicalDataGeneration/chem_data_gen/lib/python3.8/site-packages (from wandb) (6.0.0)\n",
      "Requirement already satisfied: setuptools in /home/cmdunham/ChemicalDataGeneration/chem_data_gen/lib/python3.8/site-packages (from wandb) (44.0.0)\n",
      "Requirement already satisfied: gitpython!=3.1.29,>=1.0.0 in /home/cmdunham/ChemicalDataGeneration/chem_data_gen/lib/python3.8/site-packages (from wandb) (3.1.43)\n",
      "Requirement already satisfied: typing-extensions; python_version < \"3.10\" in /home/cmdunham/ChemicalDataGeneration/chem_data_gen/lib/python3.8/site-packages (from wandb) (4.12.2)\n",
      "Requirement already satisfied: sentry-sdk>=1.0.0 in /home/cmdunham/ChemicalDataGeneration/chem_data_gen/lib/python3.8/site-packages (from wandb) (2.13.0)\n",
      "Requirement already satisfied: requests<3,>=2.0.0 in /home/cmdunham/ChemicalDataGeneration/chem_data_gen/lib/python3.8/site-packages (from wandb) (2.31.0)\n",
      "Requirement already satisfied: six>=1.4.0 in /home/cmdunham/ChemicalDataGeneration/chem_data_gen/lib/python3.8/site-packages (from docker-pycreds>=0.4.0->wandb) (1.16.0)\n",
      "Requirement already satisfied: gitdb<5,>=4.0.1 in /home/cmdunham/ChemicalDataGeneration/chem_data_gen/lib/python3.8/site-packages (from gitpython!=3.1.29,>=1.0.0->wandb) (4.0.11)\n",
      "Requirement already satisfied: urllib3>=1.26.11 in /home/cmdunham/ChemicalDataGeneration/chem_data_gen/lib/python3.8/site-packages (from sentry-sdk>=1.0.0->wandb) (2.2.2)\n",
      "Requirement already satisfied: certifi in /home/cmdunham/ChemicalDataGeneration/chem_data_gen/lib/python3.8/site-packages (from sentry-sdk>=1.0.0->wandb) (2024.7.4)\n",
      "Requirement already satisfied: idna<4,>=2.5 in /home/cmdunham/ChemicalDataGeneration/chem_data_gen/lib/python3.8/site-packages (from requests<3,>=2.0.0->wandb) (3.7)\n",
      "Requirement already satisfied: charset-normalizer<4,>=2 in /home/cmdunham/ChemicalDataGeneration/chem_data_gen/lib/python3.8/site-packages (from requests<3,>=2.0.0->wandb) (3.3.2)\n",
      "Requirement already satisfied: smmap<6,>=3.0.1 in /home/cmdunham/ChemicalDataGeneration/chem_data_gen/lib/python3.8/site-packages (from gitdb<5,>=4.0.1->gitpython!=3.1.29,>=1.0.0->wandb) (5.0.1)\n"
     ]
    }
   ],
   "source": [
    "import torch\n",
    "import torch.nn as nn\n",
    "from torch.utils.data import DataLoader, TensorDataset\n",
    "\n",
    "import pandas as pd\n",
    "import numpy as np\n",
    "import random\n",
    "import matplotlib.pyplot as plt\n",
    "\n",
    "from sklearn.decomposition import PCA\n",
    "\n",
    "import wandb\n",
    "import os"
   ]
  },
  {
   "cell_type": "code",
   "execution_count": 4,
   "metadata": {},
   "outputs": [],
   "source": [
    "os.environ['WANDB_API_KEY'] = '9729ad7b1f3a60f1072cdf7af979b737955733d4'\n",
    "\n",
    "config = {\n",
    "    'wandb_entity': 'catemerfeld',\n",
    "    'wandb_project': 'data_gen',\n",
    "    'gpu':True,\n",
    "    'threads':1,\n",
    "}\n",
    "\n",
    "os.environ['WANDB_NOTEBOOK_NAME'] = 'model.ipynb'"
   ]
  },
  {
   "cell_type": "code",
   "execution_count": 5,
   "metadata": {},
   "outputs": [],
   "source": [
    "def run_with_wandb(config, **kwargs):\n",
    "    config.update(kwargs)\n",
    "\n",
    "    wandb.init(entity=config['wandb_entity'],\n",
    "               project=config['wandb_project'],\n",
    "               config=config)\n",
    "\n",
    "    # Set the number of threads\n",
    "    torch.set_num_threads(config['threads'])\n",
    "\n",
    "    # Find out is there is a GPU available\n",
    "    device = torch.device('cuda' if torch.cuda.is_available() else 'cpu')\n",
    "    if not config['gpu']:\n",
    "        device = torch.device('cpu')\n",
    "    print(f'Using device: {device}')"
   ]
  }
 ],
 "metadata": {
  "kernelspec": {
   "display_name": "chem_data_gen",
   "language": "python",
   "name": "python3"
  },
  "language_info": {
   "codemirror_mode": {
    "name": "ipython",
    "version": 3
   },
   "file_extension": ".py",
   "mimetype": "text/x-python",
   "name": "python",
   "nbconvert_exporter": "python",
   "pygments_lexer": "ipython3",
   "version": "3.8.10"
  }
 },
 "nbformat": 4,
 "nbformat_minor": 2
}
