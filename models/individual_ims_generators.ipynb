{
 "cells": [
  {
   "cell_type": "markdown",
   "metadata": {},
   "source": [
    "# Load Packages and Files:\n",
    "---"
   ]
  },
  {
   "cell_type": "code",
   "execution_count": 1,
   "metadata": {
    "execution": {
     "iopub.execute_input": "2025-02-06T20:12:32.150152Z",
     "iopub.status.busy": "2025-02-06T20:12:32.149369Z",
     "iopub.status.idle": "2025-02-06T20:12:36.981579Z",
     "shell.execute_reply": "2025-02-06T20:12:36.980695Z"
    }
   },
   "outputs": [],
   "source": [
    "import pandas as pd\n",
    "import matplotlib.pyplot as plt\n",
    "# import seaborn as sns\n",
    "import numpy as np\n",
    "\n",
    "import torch\n",
    "# import torch.nn as nn\n",
    "from torch.utils.data import DataLoader, TensorDataset \n",
    "\n",
    "import wandb\n",
    "import os\n",
    "# from sklearn.decomposition import PCA\n",
    "# import itertools\n",
    "# import io\n",
    "\n",
    "from collections import Counter\n",
    "# from sklearn.preprocessing import StandardScaler\n",
    "# from sklearn.decomposition import KernelPCA\n",
    "\n",
    "import importlib\n",
    "import functions as f\n",
    "# import random\n",
    "import GPUtil\n",
    "# import dask.dataframe as dd"
   ]
  },
  {
   "cell_type": "code",
   "execution_count": null,
   "metadata": {},
   "outputs": [],
   "source": [
    "# Reload the functions module after updates\n",
    "importlib.reload(f)"
   ]
  },
  {
   "cell_type": "markdown",
   "metadata": {},
   "source": [
    "## Loading CARLS and CARL-Based Embedding Preds:\n",
    "---"
   ]
  },
  {
   "cell_type": "code",
   "execution_count": 9,
   "metadata": {
    "execution": {
     "iopub.execute_input": "2025-02-06T20:12:37.161341Z",
     "iopub.status.busy": "2025-02-06T20:12:37.160724Z",
     "iopub.status.idle": "2025-02-06T20:12:37.164579Z",
     "shell.execute_reply": "2025-02-06T20:12:37.163983Z"
    }
   },
   "outputs": [],
   "source": [
    "# # file_path = '~/scratch/train_data.feather'\n",
    "# # train = pd.read_feather(file_path)\n",
    "\n",
    "# # file_path = '~/scratch/val_data.feather'\n",
    "# # val = pd.read_feather(file_path)\n",
    "\n",
    "# # '~/scratch/test_data.feather'\n",
    "# # test = pd.read_feather(file_path)"
   ]
  },
  {
   "cell_type": "code",
   "execution_count": null,
   "metadata": {},
   "outputs": [],
   "source": [
    "chem = 'DEM'\n",
    "device = f.set_up_gpu()"
   ]
  },
  {
   "cell_type": "code",
   "execution_count": 10,
   "metadata": {
    "execution": {
     "iopub.execute_input": "2025-02-06T20:12:37.166726Z",
     "iopub.status.busy": "2025-02-06T20:12:37.166224Z",
     "iopub.status.idle": "2025-02-06T20:12:37.168864Z",
     "shell.execute_reply": "2025-02-06T20:12:37.168409Z"
    }
   },
   "outputs": [],
   "source": [
    "file_path = '../data/carls/train_carls_one_per_spec.feather'\n",
    "train_carls = pd.read_feather(file_path)\n",
    "train_carls.drop('level_0', axis=1, inplace=True)\n",
    "\n",
    "file_path = '../data/encoder_embedding_predictions/train_embeddings.feather'\n",
    "train_embeddings = pd.to_feather(file_path)\n",
    "\n",
    "train_embeddings_tensor, train_carl_tensor, train_chem_encodings_tensor, train_carl_indices_tensor = f.create_individual_chemical_dataset_tensors(train_carls, train_embeddings, device, chem)\n",
    "del train_carls, train_embeddings"
   ]
  },
  {
   "cell_type": "code",
   "execution_count": 11,
   "metadata": {
    "execution": {
     "iopub.execute_input": "2025-02-06T20:12:37.170511Z",
     "iopub.status.busy": "2025-02-06T20:12:37.170354Z",
     "iopub.status.idle": "2025-02-06T20:12:37.172800Z",
     "shell.execute_reply": "2025-02-06T20:12:37.172364Z"
    }
   },
   "outputs": [],
   "source": [
    "# file_path = '../data/carls/val_carls_one_per_spec.feather'\n",
    "# val_carls = pd.read_feather(file_path)\n",
    "# val_carls.drop('level_0', axis=1, inplace=True)\n",
    "\n",
    "# file_path = '../data/encoder_embedding_predictions/val_embeddings.feather'\n",
    "# val_embeddings = pd.to_feather(file_path)\n",
    "\n",
    "# val_embeddings_tensor, val_carl_tensor, val_chem_encodings_tensor, val_carl_indices_tensor = f.create_individual_chemical_dataset_tensors(val_carls, val_embeddings, device, chem)\n",
    "# del val_carls, val_embeddings"
   ]
  },
  {
   "cell_type": "code",
   "execution_count": 12,
   "metadata": {
    "execution": {
     "iopub.execute_input": "2025-02-06T20:12:37.174648Z",
     "iopub.status.busy": "2025-02-06T20:12:37.174307Z",
     "iopub.status.idle": "2025-02-06T20:12:37.176635Z",
     "shell.execute_reply": "2025-02-06T20:12:37.176208Z"
    }
   },
   "outputs": [],
   "source": [
    "# file_path = '../data/carls/test_carls_one_per_spec.feather'\n",
    "# test_carls = pd.read_feather(file_path)\n",
    "# test_carls.drop('level_0', axis=1, inplace=True)\n",
    "\n",
    "# file_path = '../data/encoder_embedding_predictions/test_embeddings.feather'\n",
    "# test_embeddings = pd.to_feather(file_path)\n",
    "\n",
    "# test_embeddings_tensor, test_carl_tensor, test_chem_encodings_tensor, test_carl_indices_tensor = f.create_individual_chemical_dataset_tensors(test_carls, test_embeddings, device, chem)\n",
    "# del test_carls, test_embeddings"
   ]
  },
  {
   "cell_type": "markdown",
   "metadata": {},
   "source": [
    "<!-- # Training Generator:\n",
    "--- -->"
   ]
  },
  {
   "cell_type": "code",
   "execution_count": 13,
   "metadata": {
    "execution": {
     "iopub.execute_input": "2025-02-06T20:12:37.178462Z",
     "iopub.status.busy": "2025-02-06T20:12:37.178132Z",
     "iopub.status.idle": "2025-02-06T20:12:37.180546Z",
     "shell.execute_reply": "2025-02-06T20:12:37.180063Z"
    }
   },
   "outputs": [],
   "source": [
    "# device = f.set_up_gpu()"
   ]
  },
  {
   "cell_type": "code",
   "execution_count": 14,
   "metadata": {
    "execution": {
     "iopub.execute_input": "2025-02-06T20:12:37.182415Z",
     "iopub.status.busy": "2025-02-06T20:12:37.181890Z",
     "iopub.status.idle": "2025-02-06T20:12:37.184705Z",
     "shell.execute_reply": "2025-02-06T20:12:37.184182Z"
    }
   },
   "outputs": [],
   "source": [
    "# chem = 'DEM'\n",
    "# train_embeddings_tensor, train_carl_tensor, train_chem_encodings_tensor, train_carl_indices_tensor = f.create_individual_chemical_dataset_tensors(train_carls, train_embeddings, device, chem)\n",
    "# val_embeddings_tensor, val_carl_tensor, val_chem_encodings_tensor, val_carl_indices_tensor = f.create_individual_chemical_dataset_tensors(val_carls, val_embeddings, device, chem)\n",
    "# test_embeddings_tensor, test_carl_tensor, test_chem_encodings_tensor, test_carl_indices_tensor = f.create_individual_chemical_dataset_tensors(test_carls, test_embeddings, device, chem)"
   ]
  },
  {
   "cell_type": "code",
   "execution_count": 15,
   "metadata": {
    "execution": {
     "iopub.execute_input": "2025-02-06T20:12:37.186613Z",
     "iopub.status.busy": "2025-02-06T20:12:37.186227Z",
     "iopub.status.idle": "2025-02-06T20:12:37.188660Z",
     "shell.execute_reply": "2025-02-06T20:12:37.188260Z"
    }
   },
   "outputs": [],
   "source": [
    "# # Things that need to be changed for each generator/dataset/target carl\n",
    "# notebook_name = '/home/cmdunham/ChemicalDataGeneration/models/individual_ims_generator.ipynb'\n",
    "# architecture = 'individual_carl_generator'\n",
    "# dataset_type = 'carls'\n",
    "# target_embedding = 'ChemNet'\n",
    "# generator_path = f'../models/trained_models/{chem}_carl_to_chemnet_generator.pth'\n",
    "\n",
    "# config = {\n",
    "#     'wandb_entity': 'catemerfeld',\n",
    "#     'wandb_project': 'ims_encoder_decoder',\n",
    "#     'gpu':True,\n",
    "#     'threads':1,\n",
    "# }\n",
    "\n",
    "# os.environ['WANDB_NOTEBOOK_NAME'] = notebook_name"
   ]
  },
  {
   "cell_type": "code",
   "execution_count": 16,
   "metadata": {
    "execution": {
     "iopub.execute_input": "2025-02-06T20:12:37.189989Z",
     "iopub.status.busy": "2025-02-06T20:12:37.189819Z",
     "iopub.status.idle": "2025-02-06T20:12:37.192058Z",
     "shell.execute_reply": "2025-02-06T20:12:37.191588Z"
    }
   },
   "outputs": [],
   "source": [
    "# # Reload the functions module after updates\n",
    "# importlib.reload(f)"
   ]
  },
  {
   "cell_type": "code",
   "execution_count": 17,
   "metadata": {
    "execution": {
     "iopub.execute_input": "2025-02-06T20:12:37.193569Z",
     "iopub.status.busy": "2025-02-06T20:12:37.193394Z",
     "iopub.status.idle": "2025-02-06T20:12:37.195959Z",
     "shell.execute_reply": "2025-02-06T20:12:37.195562Z"
    }
   },
   "outputs": [],
   "source": [
    "# wandb_kwargs = {\n",
    "#     'architecture': architecture,\n",
    "#     'optimizer':'AdamW',\n",
    "#     'loss':'MSELoss',\n",
    "#     'dataset': dataset_type,\n",
    "#     'target_embedding': target_embedding\n",
    "# }\n",
    "\n",
    "# sorted_chem_names = list(val_carls.columns[-8:])\n",
    "\n",
    "# # model_hyperparams = {\n",
    "# #   'batch_size':[32, 64],\n",
    "# #   'epochs': [500],\n",
    "# #   'learning_rate':[.001, .0001],\n",
    "# #   }\n",
    "\n",
    "# model_hyperparams = {\n",
    "#   'batch_size':[64],\n",
    "#   'epochs': [500],\n",
    "#   'learning_rate':[.01],\n",
    "#   }\n",
    "\n",
    "# train_data = TensorDataset(train_embeddings_tensor, train_chem_encodings_tensor, train_carl_tensor, train_carl_indices_tensor)\n",
    "# val_data = TensorDataset(val_embeddings_tensor, val_chem_encodings_tensor, val_carl_tensor, val_carl_indices_tensor)\n",
    "# test_data = TensorDataset(test_embeddings_tensor, test_chem_encodings_tensor, test_carl_tensor, test_carl_indices_tensor)\n",
    "\n",
    "# f.train_generator(\n",
    "#     train_data, val_data, test_data, device, config, \n",
    "#     wandb_kwargs, model_hyperparams, sorted_chem_names, \n",
    "#     generator_path, early_stop_threshold=15, \n",
    "#     lr_scheduler=True, num_plots=5\n",
    "#     )"
   ]
  },
  {
   "cell_type": "markdown",
   "metadata": {},
   "source": [
    "<!-- ## Loading ChemNet Embeddings:\n",
    "--- -->"
   ]
  },
  {
   "cell_type": "code",
   "execution_count": null,
   "metadata": {},
   "outputs": [
    {
     "data": {
      "text/html": [
       "<div>\n",
       "<style scoped>\n",
       "    .dataframe tbody tr th:only-of-type {\n",
       "        vertical-align: middle;\n",
       "    }\n",
       "\n",
       "    .dataframe tbody tr th {\n",
       "        vertical-align: top;\n",
       "    }\n",
       "\n",
       "    .dataframe thead th {\n",
       "        text-align: right;\n",
       "    }\n",
       "</style>\n",
       "<table border=\"1\" class=\"dataframe\">\n",
       "  <thead>\n",
       "    <tr style=\"text-align: right;\">\n",
       "      <th></th>\n",
       "      <th>Name</th>\n",
       "      <th>SMILES</th>\n",
       "      <th>embedding</th>\n",
       "    </tr>\n",
       "    <tr>\n",
       "      <th>Unnamed: 0</th>\n",
       "      <th></th>\n",
       "      <th></th>\n",
       "      <th></th>\n",
       "    </tr>\n",
       "  </thead>\n",
       "  <tbody>\n",
       "    <tr>\n",
       "      <th>BKG</th>\n",
       "      <td>Background</td>\n",
       "      <td>NaN</td>\n",
       "      <td>NaN</td>\n",
       "    </tr>\n",
       "    <tr>\n",
       "      <th>DEM</th>\n",
       "      <td>Diethyl Malonate</td>\n",
       "      <td>CCOC(=O)CC(=O)OCC</td>\n",
       "      <td>[0.3809719, 0.0005454039, 0.25539753, -0.24272...</td>\n",
       "    </tr>\n",
       "    <tr>\n",
       "      <th>DEB</th>\n",
       "      <td>1,2,3,4-Diepoxybutane</td>\n",
       "      <td>C1C(O1)C2CO2</td>\n",
       "      <td>[0.06318759, 0.009022221, 0.42160067, 0.195722...</td>\n",
       "    </tr>\n",
       "    <tr>\n",
       "      <th>MES</th>\n",
       "      <td>2-(N-morpholino)ethanesulfonic acid</td>\n",
       "      <td>C1COCCN1CCS(=O)(=O)O</td>\n",
       "      <td>[-0.32520813, 0.009838342, -0.15108328, 0.2845...</td>\n",
       "    </tr>\n",
       "    <tr>\n",
       "      <th>DMMP</th>\n",
       "      <td>Dimethyl methylphosphonate</td>\n",
       "      <td>COP(=O)(C)OC</td>\n",
       "      <td>[0.12106821, 0.0029424396, -0.14450483, 0.0726...</td>\n",
       "    </tr>\n",
       "  </tbody>\n",
       "</table>\n",
       "</div>"
      ],
      "text/plain": [
       "                                           Name                SMILES  \\\n",
       "Unnamed: 0                                                              \n",
       "BKG                                  Background                   NaN   \n",
       "DEM                            Diethyl Malonate     CCOC(=O)CC(=O)OCC   \n",
       "DEB                       1,2,3,4-Diepoxybutane          C1C(O1)C2CO2   \n",
       "MES         2-(N-morpholino)ethanesulfonic acid  C1COCCN1CCS(=O)(=O)O   \n",
       "DMMP                 Dimethyl methylphosphonate          COP(=O)(C)OC   \n",
       "\n",
       "                                                    embedding  \n",
       "Unnamed: 0                                                     \n",
       "BKG                                                       NaN  \n",
       "DEM         [0.3809719, 0.0005454039, 0.25539753, -0.24272...  \n",
       "DEB         [0.06318759, 0.009022221, 0.42160067, 0.195722...  \n",
       "MES         [-0.32520813, 0.009838342, -0.15108328, 0.2845...  \n",
       "DMMP        [0.12106821, 0.0029424396, -0.14450483, 0.0726...  "
      ]
     },
     "metadata": {},
     "output_type": "display_data"
    }
   ],
   "source": [
    "# file_path = '../data/name_smiles_embedding_file.csv'\n",
    "# name_smiles_embedding_df = pd.read_csv(file_path)\n",
    "\n",
    "# # set the df index to be the chemical abbreviations in col 'Unnamed: 0'\n",
    "# name_smiles_embedding_df.set_index('Unnamed: 0', inplace=True)\n",
    "# name_smiles_embedding_df.head()"
   ]
  },
  {
   "cell_type": "code",
   "execution_count": null,
   "metadata": {},
   "outputs": [],
   "source": [
    "# file_path = '../data/all_chemnet_embeddings.csv'\n",
    "# all_true_embeddings = pd.read_csv(file_path)"
   ]
  }
 ],
 "metadata": {
  "kernelspec": {
   "display_name": "data_gen_venv",
   "language": "python",
   "name": "python3"
  },
  "language_info": {
   "codemirror_mode": {
    "name": "ipython",
    "version": 3
   },
   "file_extension": ".py",
   "mimetype": "text/x-python",
   "name": "python",
   "nbconvert_exporter": "python",
   "pygments_lexer": "ipython3",
   "version": "3.10.16"
  }
 },
 "nbformat": 4,
 "nbformat_minor": 2
}
