{
 "cells": [
  {
   "cell_type": "code",
   "execution_count": 1,
   "metadata": {},
   "outputs": [],
   "source": [
    "import pandas as pd\n",
    "import matplotlib.pyplot as plt\n",
    "import seaborn as sns\n",
    "\n",
    "from rdkit import Chem\n",
    "from rdkit import RDLogger\n",
    "# Disable RDKit error logging\n",
    "lg = RDLogger.logger()\n",
    "lg.setLevel(RDLogger.CRITICAL)"
   ]
  },
  {
   "cell_type": "code",
   "execution_count": 2,
   "metadata": {},
   "outputs": [],
   "source": [
    "# IMS data from Predicting differential ion mobility behaviour in silico using machine learning \n",
    "# --authors: Christian Ieritano, J. Larry Campbella, and W. Scott Hopkins\n",
    "file_path = '/home/cmdunham/ChemicalDataGeneration/data/predicting_ion_mobility_iertiano_et_al_data.csv'\n",
    "data = pd.read_csv(file_path)\n",
    "\n",
    "file_path = '/home/cmdunham/ChemicalDataGeneration/data/predicting_ion_mobility_iertiano_et_al_inchikeys.csv'\n",
    "inchikey_df = pd.read_csv(file_path)\n",
    "\n",
    "# Importing the MoNA database of mass spec data, just for use as database to go from compound names to smiles and inchikeys. I haven't found a better way to do this efficiently.\n",
    "file_path = '/home/cmdunham/ChemicalDataGeneration/data/MoNA_data/MoNA-export-GC-MS_Spectra.sdf'\n",
    "suppl = Chem.SDMolSupplier(file_path)"
   ]
  },
  {
   "cell_type": "code",
   "execution_count": 3,
   "metadata": {},
   "outputs": [
    {
     "data": {
      "text/html": [
       "<div>\n",
       "<style scoped>\n",
       "    .dataframe tbody tr th:only-of-type {\n",
       "        vertical-align: middle;\n",
       "    }\n",
       "\n",
       "    .dataframe tbody tr th {\n",
       "        vertical-align: top;\n",
       "    }\n",
       "\n",
       "    .dataframe thead th {\n",
       "        text-align: right;\n",
       "    }\n",
       "</style>\n",
       "<table border=\"1\" class=\"dataframe\">\n",
       "  <thead>\n",
       "    <tr style=\"text-align: right;\">\n",
       "      <th></th>\n",
       "      <th>Compound</th>\n",
       "      <th>m/z</th>\n",
       "      <th>SV 1500</th>\n",
       "      <th>SV 2000</th>\n",
       "      <th>SV 2500</th>\n",
       "      <th>SV 3000</th>\n",
       "      <th>SV 3250</th>\n",
       "      <th>SV 3500</th>\n",
       "      <th>SV 3750</th>\n",
       "      <th>SV 4000</th>\n",
       "      <th>Boltzmann-weighted CCS</th>\n",
       "    </tr>\n",
       "  </thead>\n",
       "  <tbody>\n",
       "    <tr>\n",
       "      <th>0</th>\n",
       "      <td>5-Cl-MQOH</td>\n",
       "      <td>194.04</td>\n",
       "      <td>0.1</td>\n",
       "      <td>0.1</td>\n",
       "      <td>0.3</td>\n",
       "      <td>0.5</td>\n",
       "      <td>0.91</td>\n",
       "      <td>1.6</td>\n",
       "      <td>2.57</td>\n",
       "      <td>3.8</td>\n",
       "      <td>138.66</td>\n",
       "    </tr>\n",
       "    <tr>\n",
       "      <th>1</th>\n",
       "      <td>5-CN-MQOH</td>\n",
       "      <td>185.07</td>\n",
       "      <td>0.1</td>\n",
       "      <td>0.1</td>\n",
       "      <td>-0.2</td>\n",
       "      <td>-0.3</td>\n",
       "      <td>-0.14</td>\n",
       "      <td>0.2</td>\n",
       "      <td>0.77</td>\n",
       "      <td>1.6</td>\n",
       "      <td>132.21</td>\n",
       "    </tr>\n",
       "    <tr>\n",
       "      <th>2</th>\n",
       "      <td>5-F-MQOH</td>\n",
       "      <td>178.07</td>\n",
       "      <td>-0.2</td>\n",
       "      <td>-0.4</td>\n",
       "      <td>-0.5</td>\n",
       "      <td>-0.3</td>\n",
       "      <td>0.08</td>\n",
       "      <td>0.7</td>\n",
       "      <td>1.60</td>\n",
       "      <td>2.8</td>\n",
       "      <td>127.47</td>\n",
       "    </tr>\n",
       "    <tr>\n",
       "      <th>3</th>\n",
       "      <td>5-Me-MQOH</td>\n",
       "      <td>174.09</td>\n",
       "      <td>-0.2</td>\n",
       "      <td>-0.2</td>\n",
       "      <td>0.0</td>\n",
       "      <td>0.8</td>\n",
       "      <td>1.47</td>\n",
       "      <td>2.4</td>\n",
       "      <td>3.65</td>\n",
       "      <td>5.3</td>\n",
       "      <td>129.45</td>\n",
       "    </tr>\n",
       "    <tr>\n",
       "      <th>4</th>\n",
       "      <td>5-NO2-MQOH</td>\n",
       "      <td>205.06</td>\n",
       "      <td>0.2</td>\n",
       "      <td>-0.1</td>\n",
       "      <td>0.0</td>\n",
       "      <td>-0.4</td>\n",
       "      <td>-0.34</td>\n",
       "      <td>0.0</td>\n",
       "      <td>0.59</td>\n",
       "      <td>1.4</td>\n",
       "      <td>137.66</td>\n",
       "    </tr>\n",
       "  </tbody>\n",
       "</table>\n",
       "</div>"
      ],
      "text/plain": [
       "     Compound     m/z  SV 1500  SV 2000  SV 2500  SV 3000  SV 3250  SV 3500  \\\n",
       "0   5-Cl-MQOH  194.04      0.1      0.1      0.3      0.5     0.91      1.6   \n",
       "1   5-CN-MQOH  185.07      0.1      0.1     -0.2     -0.3    -0.14      0.2   \n",
       "2    5-F-MQOH  178.07     -0.2     -0.4     -0.5     -0.3     0.08      0.7   \n",
       "3   5-Me-MQOH  174.09     -0.2     -0.2      0.0      0.8     1.47      2.4   \n",
       "4  5-NO2-MQOH  205.06      0.2     -0.1      0.0     -0.4    -0.34      0.0   \n",
       "\n",
       "   SV 3750  SV 4000  Boltzmann-weighted CCS  \n",
       "0     2.57      3.8                  138.66  \n",
       "1     0.77      1.6                  132.21  \n",
       "2     1.60      2.8                  127.47  \n",
       "3     3.65      5.3                  129.45  \n",
       "4     0.59      1.4                  137.66  "
      ]
     },
     "execution_count": 3,
     "metadata": {},
     "output_type": "execute_result"
    }
   ],
   "source": [
    "data.head()"
   ]
  },
  {
   "cell_type": "code",
   "execution_count": 4,
   "metadata": {},
   "outputs": [
    {
     "name": "stdout",
     "output_type": "stream",
     "text": [
      "There are 409 compounds in the ion mobility dataset.\n"
     ]
    }
   ],
   "source": [
    "compounds = list(data['Compound'])\n",
    "print(f'There are {len(set(compounds))} compounds in the ion mobility dataset.')"
   ]
  },
  {
   "cell_type": "code",
   "execution_count": 5,
   "metadata": {},
   "outputs": [
    {
     "name": "stdout",
     "output_type": "stream",
     "text": [
      "There are 409 compounds in the ion mobility dataset and 409 compounds in the corresponding inchikey file.\n",
      "Of those, 406 overlap between the two files.\n"
     ]
    }
   ],
   "source": [
    "print(f\"There are {len(data['Compound'])} compounds in the ion mobility dataset and {len(inchikey_df['Compound'])} compounds in the corresponding inchikey file.\")\n",
    "print(f\"Of those, {len(set(inchikey_df['Compound'])& set(data['Compound']))} overlap between the two files.\")"
   ]
  },
  {
   "cell_type": "code",
   "execution_count": 25,
   "metadata": {},
   "outputs": [
    {
     "name": "stdout",
     "output_type": "stream",
     "text": [
      "{'(+)-Propoxyphene', 'Norsertraline', 'Noroxycodone'}\n",
      "{'Norsertraline HCL', 'Noroxycodone HCL', 'Propoxyphene'}\n"
     ]
    }
   ],
   "source": [
    "print(set(inchikey_df['Compound']) - set(data['Compound']))\n",
    "print(set(data['Compound']) - set(inchikey_df['Compound']))"
   ]
  },
  {
   "cell_type": "code",
   "execution_count": 27,
   "metadata": {},
   "outputs": [
    {
     "name": "stdout",
     "output_type": "stream",
     "text": [
      "set()\n"
     ]
    }
   ],
   "source": [
    "# changing the compound names in the inchikey df so they correspond to the names in the ims df\n",
    "inchikey_df.loc[inchikey_df['Compound'] == '(+)-Propoxyphene'] = 'Propoxyphene'\n",
    "inchikey_df.loc[inchikey_df['Compound'] == 'Norsertraline'] = 'Norsertraline HCL'\n",
    "inchikey_df.loc[inchikey_df['Compound'] == 'Noroxycodone'] = 'Noroxycodone HCL'\n",
    "print(set(data['Compound']) - set(inchikey_df['Compound']))"
   ]
  },
  {
   "cell_type": "code",
   "execution_count": 28,
   "metadata": {},
   "outputs": [],
   "source": [
    "# creating a dict of compound names and inchikeys for all compounds in the ion mobility dataset\n",
    "compound_inchikey_dict = dict(zip(inchikey_df['Compound'], inchikey_df['InChIKey']))"
   ]
  },
  {
   "cell_type": "markdown",
   "metadata": {},
   "source": [
    "Chemception needs SMILES to generate embeddings. The ion mobility dataset has InCHIKey but no SMILES. Since the MoNA dataset has both I'm using that as a way to go from one to the other. I haven't found a way to do this more efficiently, the other option I'm aware of is manually looking up each compound's InCHIKey somewhere like NIST Webbook, which is VERY time consuming and prone to human error (namely me copying things incorrectly). \n",
    "\n",
    "MoNA samples contain SMILES in the comment, not as a property, so the SMILES must be pulled out of the comment to use."
   ]
  },
  {
   "cell_type": "code",
   "execution_count": 12,
   "metadata": {},
   "outputs": [],
   "source": [
    "def format_smiles(mol):\n",
    "    \"\"\"\n",
    "    Extracts the SMILES string from the COMMENT property of an rdkit molecule.\n",
    "\n",
    "    Parameters:\n",
    "    mol: An rdkit molecule.\n",
    "\n",
    "    Returns:\n",
    "    str or None: The SMILES string if found, otherwise None.\n",
    "    \"\"\"\n",
    "    \n",
    "    comment = mol.GetProp('COMMENT').split('\\n')\n",
    "    smiles = None\n",
    "    for line in comment:\n",
    "        if line.split('=')[0] == 'SMILES':\n",
    "            smiles = line.split('SMILES=')[1]\n",
    "\n",
    "    return smiles"
   ]
  },
  {
   "cell_type": "code",
   "execution_count": 29,
   "metadata": {},
   "outputs": [],
   "source": [
    "# get SMILES for any compounds in the MoNA database that are also in the Ion Mobiity dataset and create a dictionary with inchikeys as keys and SMILES as values\n",
    "overlapping_mol_inchikey_smiles_dict = {}\n",
    "\n",
    "for mol in suppl:\n",
    "    if mol is not None:\n",
    "        try:\n",
    "            inchikey = mol.GetProp('INCHIKEY')\n",
    "\n",
    "        # ignore any mols without inchikeys\n",
    "        except:\n",
    "            continue\n",
    "        \n",
    "        # if this compound is in the ion mobility dataset\n",
    "        if inchikey in compound_inchikey_dict.values():\n",
    "            # if this compound's smiles hasn't been recorded yet\n",
    "            if not inchikey in overlapping_mol_inchikey_smiles_dict.keys():\n",
    "                smiles = format_smiles(mol)\n",
    "                if smiles:\n",
    "                    overlapping_mol_inchikey_smiles_dict[inchikey] = smiles\n"
   ]
  },
  {
   "cell_type": "code",
   "execution_count": 30,
   "metadata": {},
   "outputs": [],
   "source": [
    "# Get a list of compounds from the ion mobility dataset that also appear in the MoNA dataset.\n",
    "compounds_in_both_datasets = []\n",
    "for mol in suppl:\n",
    "    if mol is not None:\n",
    "        if mol.GetProp('NAME') in compounds:\n",
    "            compounds_in_both_datasets.append(mol.GetProp('NAME'))"
   ]
  },
  {
   "cell_type": "markdown",
   "metadata": {},
   "source": [
    "We see that there are more InChIKeys in common between the datasets than there are compounds names. This is likely due to the fact that InChIKeys are unique identifiers while the same chemical might can have multiple compound names, meaning that it could be listed one way in one dataset and another way in another."
   ]
  },
  {
   "cell_type": "code",
   "execution_count": 31,
   "metadata": {},
   "outputs": [
    {
     "name": "stdout",
     "output_type": "stream",
     "text": [
      "There are 48 compound names from the Ion Mobility dataset that appear in the MoNA dataset compared to 76 inchikeys that appear in both datasets.\n"
     ]
    }
   ],
   "source": [
    "print(f'There are {len(set(compounds_in_both_datasets))} compound names from the Ion Mobility dataset that appear in the MoNA dataset compared to {len(overlapping_mol_inchikey_smiles_dict)} inchikeys that appear in both datasets.')"
   ]
  },
  {
   "cell_type": "code",
   "execution_count": 32,
   "metadata": {},
   "outputs": [],
   "source": [
    "# make lists of inchikeys and SMILES to add as columns to the IMS dataframe\n",
    "inchikeys = []\n",
    "smiles = []\n",
    "\n",
    "for mol in compounds:\n",
    "    inchikey = compound_inchikey_dict[mol]\n",
    "    \n",
    "    # look mol up in dict and append corresponding inchikey to list\n",
    "    inchikeys.append(inchikey)\n",
    "    \n",
    "    # if inchikey is in the dict of mols with SMILES from MoNA, get the SMILES and append to list\n",
    "    if inchikey in overlapping_mol_inchikey_smiles_dict.keys():\n",
    "        smiles.append(overlapping_mol_inchikey_smiles_dict[inchikey])\n",
    "    else:\n",
    "        smiles.append(None)"
   ]
  },
  {
   "cell_type": "code",
   "execution_count": 33,
   "metadata": {},
   "outputs": [
    {
     "name": "stdout",
     "output_type": "stream",
     "text": [
      "All SMILES/InChIKey pairs match what is specified in the lookup dictionary.\n"
     ]
    }
   ],
   "source": [
    "# Double checking that the recorded SMILES/InChIKey pairs correspond\n",
    "total_errors = 0\n",
    "for i, smile in enumerate(smiles):\n",
    "    if smile:\n",
    "        if not overlapping_mol_inchikey_smiles_dict[inchikeys[i]] == smiles[i]:\n",
    "            print(f'SMILES/InChIKey pair at {i} does not match what is specified in the lookup dictionary.')\n",
    "            total_errors+=1\n",
    "if not total_errors:\n",
    "    print('All SMILES/InChIKey pairs match what is specified in the lookup dictionary.')"
   ]
  },
  {
   "cell_type": "markdown",
   "metadata": {},
   "source": [
    "Adding columns for InChIKey and SMILES. InChIKey will be needed for identification, SMILES for retrieving Chemception embeddings."
   ]
  },
  {
   "cell_type": "code",
   "execution_count": 34,
   "metadata": {},
   "outputs": [
    {
     "data": {
      "text/html": [
       "<div>\n",
       "<style scoped>\n",
       "    .dataframe tbody tr th:only-of-type {\n",
       "        vertical-align: middle;\n",
       "    }\n",
       "\n",
       "    .dataframe tbody tr th {\n",
       "        vertical-align: top;\n",
       "    }\n",
       "\n",
       "    .dataframe thead th {\n",
       "        text-align: right;\n",
       "    }\n",
       "</style>\n",
       "<table border=\"1\" class=\"dataframe\">\n",
       "  <thead>\n",
       "    <tr style=\"text-align: right;\">\n",
       "      <th></th>\n",
       "      <th>Compound</th>\n",
       "      <th>m/z</th>\n",
       "      <th>SV 1500</th>\n",
       "      <th>SV 2000</th>\n",
       "      <th>SV 2500</th>\n",
       "      <th>SV 3000</th>\n",
       "      <th>SV 3250</th>\n",
       "      <th>SV 3500</th>\n",
       "      <th>SV 3750</th>\n",
       "      <th>SV 4000</th>\n",
       "      <th>Boltzmann-weighted CCS</th>\n",
       "      <th>SMILES</th>\n",
       "      <th>InChIKey</th>\n",
       "    </tr>\n",
       "  </thead>\n",
       "  <tbody>\n",
       "    <tr>\n",
       "      <th>0</th>\n",
       "      <td>6-methyl-2-MQ</td>\n",
       "      <td>158.10</td>\n",
       "      <td>0.20</td>\n",
       "      <td>0.20</td>\n",
       "      <td>0.60</td>\n",
       "      <td>1.90</td>\n",
       "      <td>3.03</td>\n",
       "      <td>4.50</td>\n",
       "      <td>6.32</td>\n",
       "      <td>8.50</td>\n",
       "      <td>126.14</td>\n",
       "      <td>Cc(c2)cc(c1)c(c2)nc(C)c1</td>\n",
       "      <td>JJPSZKIOGBRMHK-UHFFFAOYSA-N</td>\n",
       "    </tr>\n",
       "    <tr>\n",
       "      <th>1</th>\n",
       "      <td>MQOH</td>\n",
       "      <td>160.08</td>\n",
       "      <td>-0.40</td>\n",
       "      <td>-0.60</td>\n",
       "      <td>-0.70</td>\n",
       "      <td>-0.40</td>\n",
       "      <td>0.06</td>\n",
       "      <td>0.80</td>\n",
       "      <td>1.89</td>\n",
       "      <td>3.40</td>\n",
       "      <td>125.75</td>\n",
       "      <td>Cc(c1)nc(c2)c(ccc2)c1</td>\n",
       "      <td>SMUQFGGVLNAIOZ-UHFFFAOYSA-N</td>\n",
       "    </tr>\n",
       "    <tr>\n",
       "      <th>2</th>\n",
       "      <td>Ametryn</td>\n",
       "      <td>228.13</td>\n",
       "      <td>0.44</td>\n",
       "      <td>1.15</td>\n",
       "      <td>2.38</td>\n",
       "      <td>4.04</td>\n",
       "      <td>5.07</td>\n",
       "      <td>6.37</td>\n",
       "      <td>7.67</td>\n",
       "      <td>9.29</td>\n",
       "      <td>151.92</td>\n",
       "      <td>CCNc(n1)nc(SC)nc(NC(C)C)1</td>\n",
       "      <td>RQVYBGPQFYCBGX-UHFFFAOYSA-N</td>\n",
       "    </tr>\n",
       "    <tr>\n",
       "      <th>3</th>\n",
       "      <td>Azoxystrobin</td>\n",
       "      <td>404.13</td>\n",
       "      <td>0.66</td>\n",
       "      <td>1.65</td>\n",
       "      <td>3.14</td>\n",
       "      <td>5.46</td>\n",
       "      <td>7.03</td>\n",
       "      <td>8.77</td>\n",
       "      <td>10.78</td>\n",
       "      <td>13.03</td>\n",
       "      <td>203.24</td>\n",
       "      <td>CO/C=C(\\C1=CC=CC=C1OC2=NC=NC(=C2)OC3=CC=CC=C3C...</td>\n",
       "      <td>WFDXOXNFNRHQEC-GHRIWEEISA-N</td>\n",
       "    </tr>\n",
       "    <tr>\n",
       "      <th>4</th>\n",
       "      <td>Dimethoate</td>\n",
       "      <td>230.01</td>\n",
       "      <td>0.48</td>\n",
       "      <td>1.32</td>\n",
       "      <td>2.71</td>\n",
       "      <td>4.80</td>\n",
       "      <td>6.18</td>\n",
       "      <td>7.88</td>\n",
       "      <td>9.57</td>\n",
       "      <td>11.49</td>\n",
       "      <td>140.98</td>\n",
       "      <td>CNC(=O)CSP(=S)(OC)OC</td>\n",
       "      <td>MCWXGJITAZMZEV-UHFFFAOYSA-N</td>\n",
       "    </tr>\n",
       "  </tbody>\n",
       "</table>\n",
       "</div>"
      ],
      "text/plain": [
       "        Compound     m/z  SV 1500  SV 2000  SV 2500  SV 3000  SV 3250  \\\n",
       "0  6-methyl-2-MQ  158.10     0.20     0.20     0.60     1.90     3.03   \n",
       "1           MQOH  160.08    -0.40    -0.60    -0.70    -0.40     0.06   \n",
       "2        Ametryn  228.13     0.44     1.15     2.38     4.04     5.07   \n",
       "3   Azoxystrobin  404.13     0.66     1.65     3.14     5.46     7.03   \n",
       "4     Dimethoate  230.01     0.48     1.32     2.71     4.80     6.18   \n",
       "\n",
       "   SV 3500  SV 3750  SV 4000  Boltzmann-weighted CCS  \\\n",
       "0     4.50     6.32     8.50                  126.14   \n",
       "1     0.80     1.89     3.40                  125.75   \n",
       "2     6.37     7.67     9.29                  151.92   \n",
       "3     8.77    10.78    13.03                  203.24   \n",
       "4     7.88     9.57    11.49                  140.98   \n",
       "\n",
       "                                              SMILES  \\\n",
       "0                           Cc(c2)cc(c1)c(c2)nc(C)c1   \n",
       "1                              Cc(c1)nc(c2)c(ccc2)c1   \n",
       "2                          CCNc(n1)nc(SC)nc(NC(C)C)1   \n",
       "3  CO/C=C(\\C1=CC=CC=C1OC2=NC=NC(=C2)OC3=CC=CC=C3C...   \n",
       "4                               CNC(=O)CSP(=S)(OC)OC   \n",
       "\n",
       "                      InChIKey  \n",
       "0  JJPSZKIOGBRMHK-UHFFFAOYSA-N  \n",
       "1  SMUQFGGVLNAIOZ-UHFFFAOYSA-N  \n",
       "2  RQVYBGPQFYCBGX-UHFFFAOYSA-N  \n",
       "3  WFDXOXNFNRHQEC-GHRIWEEISA-N  \n",
       "4  MCWXGJITAZMZEV-UHFFFAOYSA-N  "
      ]
     },
     "execution_count": 34,
     "metadata": {},
     "output_type": "execute_result"
    }
   ],
   "source": [
    "ims_data = data.copy()\n",
    "ims_data['SMILES'] = smiles\n",
    "ims_data['InChIKey'] = inchikeys\n",
    "ims_data = ims_data.dropna(subset=['SMILES']).reset_index(drop=True)\n",
    "# ims_data.drop(columns=['Compound'], inplace=True)\n",
    "ims_data.head()"
   ]
  }
 ],
 "metadata": {
  "kernelspec": {
   "display_name": "chem_data_gen",
   "language": "python",
   "name": "python3"
  },
  "language_info": {
   "codemirror_mode": {
    "name": "ipython",
    "version": 3
   },
   "file_extension": ".py",
   "mimetype": "text/x-python",
   "name": "python",
   "nbconvert_exporter": "python",
   "pygments_lexer": "ipython3",
   "version": "3.8.10"
  }
 },
 "nbformat": 4,
 "nbformat_minor": 2
}
